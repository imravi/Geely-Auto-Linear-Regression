{
 "cells": [
  {
   "cell_type": "code",
   "execution_count": 1,
   "metadata": {},
   "outputs": [],
   "source": [
    "import numpy as np\n",
    "import pandas as pd\n",
    "import matplotlib.pyplot as plt\n",
    "import seaborn as sns"
   ]
  },
  {
   "cell_type": "code",
   "execution_count": 2,
   "metadata": {},
   "outputs": [],
   "source": [
    "import warnings"
   ]
  },
  {
   "cell_type": "code",
   "execution_count": 3,
   "metadata": {},
   "outputs": [],
   "source": [
    "warnings.filterwarnings('ignore')"
   ]
  },
  {
   "cell_type": "markdown",
   "metadata": {},
   "source": [
    "- Above warnings function will ignore the warnings."
   ]
  },
  {
   "cell_type": "markdown",
   "metadata": {},
   "source": [
    "<h2>Objective of analysis</h2>\n",
    "- <b>Which variables are significant in predicting the price of a car</b>\n",
    "- <b>How well those variables describe the price of a car</b>"
   ]
  },
  {
   "cell_type": "code",
   "execution_count": 4,
   "metadata": {},
   "outputs": [],
   "source": [
    "car=pd.read_csv(\"C:\\\\UpGrad\\\\LinearRegressionAssignment\\\\CarPrice_Assignment.csv\")"
   ]
  },
  {
   "cell_type": "code",
   "execution_count": 5,
   "metadata": {},
   "outputs": [
    {
     "data": {
      "text/html": [
       "<div>\n",
       "<style scoped>\n",
       "    .dataframe tbody tr th:only-of-type {\n",
       "        vertical-align: middle;\n",
       "    }\n",
       "\n",
       "    .dataframe tbody tr th {\n",
       "        vertical-align: top;\n",
       "    }\n",
       "\n",
       "    .dataframe thead th {\n",
       "        text-align: right;\n",
       "    }\n",
       "</style>\n",
       "<table border=\"1\" class=\"dataframe\">\n",
       "  <thead>\n",
       "    <tr style=\"text-align: right;\">\n",
       "      <th></th>\n",
       "      <th>car_ID</th>\n",
       "      <th>symboling</th>\n",
       "      <th>CarName</th>\n",
       "      <th>fueltype</th>\n",
       "      <th>aspiration</th>\n",
       "      <th>doornumber</th>\n",
       "      <th>carbody</th>\n",
       "      <th>drivewheel</th>\n",
       "      <th>enginelocation</th>\n",
       "      <th>wheelbase</th>\n",
       "      <th>...</th>\n",
       "      <th>enginesize</th>\n",
       "      <th>fuelsystem</th>\n",
       "      <th>boreratio</th>\n",
       "      <th>stroke</th>\n",
       "      <th>compressionratio</th>\n",
       "      <th>horsepower</th>\n",
       "      <th>peakrpm</th>\n",
       "      <th>citympg</th>\n",
       "      <th>highwaympg</th>\n",
       "      <th>price</th>\n",
       "    </tr>\n",
       "  </thead>\n",
       "  <tbody>\n",
       "    <tr>\n",
       "      <th>0</th>\n",
       "      <td>1</td>\n",
       "      <td>3</td>\n",
       "      <td>alfa-romero giulia</td>\n",
       "      <td>gas</td>\n",
       "      <td>std</td>\n",
       "      <td>two</td>\n",
       "      <td>convertible</td>\n",
       "      <td>rwd</td>\n",
       "      <td>front</td>\n",
       "      <td>88.6</td>\n",
       "      <td>...</td>\n",
       "      <td>130</td>\n",
       "      <td>mpfi</td>\n",
       "      <td>3.47</td>\n",
       "      <td>2.68</td>\n",
       "      <td>9.0</td>\n",
       "      <td>111</td>\n",
       "      <td>5000</td>\n",
       "      <td>21</td>\n",
       "      <td>27</td>\n",
       "      <td>13495.0</td>\n",
       "    </tr>\n",
       "    <tr>\n",
       "      <th>1</th>\n",
       "      <td>2</td>\n",
       "      <td>3</td>\n",
       "      <td>alfa-romero stelvio</td>\n",
       "      <td>gas</td>\n",
       "      <td>std</td>\n",
       "      <td>two</td>\n",
       "      <td>convertible</td>\n",
       "      <td>rwd</td>\n",
       "      <td>front</td>\n",
       "      <td>88.6</td>\n",
       "      <td>...</td>\n",
       "      <td>130</td>\n",
       "      <td>mpfi</td>\n",
       "      <td>3.47</td>\n",
       "      <td>2.68</td>\n",
       "      <td>9.0</td>\n",
       "      <td>111</td>\n",
       "      <td>5000</td>\n",
       "      <td>21</td>\n",
       "      <td>27</td>\n",
       "      <td>16500.0</td>\n",
       "    </tr>\n",
       "    <tr>\n",
       "      <th>2</th>\n",
       "      <td>3</td>\n",
       "      <td>1</td>\n",
       "      <td>alfa-romero Quadrifoglio</td>\n",
       "      <td>gas</td>\n",
       "      <td>std</td>\n",
       "      <td>two</td>\n",
       "      <td>hatchback</td>\n",
       "      <td>rwd</td>\n",
       "      <td>front</td>\n",
       "      <td>94.5</td>\n",
       "      <td>...</td>\n",
       "      <td>152</td>\n",
       "      <td>mpfi</td>\n",
       "      <td>2.68</td>\n",
       "      <td>3.47</td>\n",
       "      <td>9.0</td>\n",
       "      <td>154</td>\n",
       "      <td>5000</td>\n",
       "      <td>19</td>\n",
       "      <td>26</td>\n",
       "      <td>16500.0</td>\n",
       "    </tr>\n",
       "    <tr>\n",
       "      <th>3</th>\n",
       "      <td>4</td>\n",
       "      <td>2</td>\n",
       "      <td>audi 100 ls</td>\n",
       "      <td>gas</td>\n",
       "      <td>std</td>\n",
       "      <td>four</td>\n",
       "      <td>sedan</td>\n",
       "      <td>fwd</td>\n",
       "      <td>front</td>\n",
       "      <td>99.8</td>\n",
       "      <td>...</td>\n",
       "      <td>109</td>\n",
       "      <td>mpfi</td>\n",
       "      <td>3.19</td>\n",
       "      <td>3.40</td>\n",
       "      <td>10.0</td>\n",
       "      <td>102</td>\n",
       "      <td>5500</td>\n",
       "      <td>24</td>\n",
       "      <td>30</td>\n",
       "      <td>13950.0</td>\n",
       "    </tr>\n",
       "    <tr>\n",
       "      <th>4</th>\n",
       "      <td>5</td>\n",
       "      <td>2</td>\n",
       "      <td>audi 100ls</td>\n",
       "      <td>gas</td>\n",
       "      <td>std</td>\n",
       "      <td>four</td>\n",
       "      <td>sedan</td>\n",
       "      <td>4wd</td>\n",
       "      <td>front</td>\n",
       "      <td>99.4</td>\n",
       "      <td>...</td>\n",
       "      <td>136</td>\n",
       "      <td>mpfi</td>\n",
       "      <td>3.19</td>\n",
       "      <td>3.40</td>\n",
       "      <td>8.0</td>\n",
       "      <td>115</td>\n",
       "      <td>5500</td>\n",
       "      <td>18</td>\n",
       "      <td>22</td>\n",
       "      <td>17450.0</td>\n",
       "    </tr>\n",
       "  </tbody>\n",
       "</table>\n",
       "<p>5 rows × 26 columns</p>\n",
       "</div>"
      ],
      "text/plain": [
       "   car_ID  symboling                   CarName fueltype aspiration doornumber  \\\n",
       "0       1          3        alfa-romero giulia      gas        std        two   \n",
       "1       2          3       alfa-romero stelvio      gas        std        two   \n",
       "2       3          1  alfa-romero Quadrifoglio      gas        std        two   \n",
       "3       4          2               audi 100 ls      gas        std       four   \n",
       "4       5          2                audi 100ls      gas        std       four   \n",
       "\n",
       "       carbody drivewheel enginelocation  wheelbase   ...     enginesize  \\\n",
       "0  convertible        rwd          front       88.6   ...            130   \n",
       "1  convertible        rwd          front       88.6   ...            130   \n",
       "2    hatchback        rwd          front       94.5   ...            152   \n",
       "3        sedan        fwd          front       99.8   ...            109   \n",
       "4        sedan        4wd          front       99.4   ...            136   \n",
       "\n",
       "   fuelsystem  boreratio  stroke compressionratio horsepower  peakrpm citympg  \\\n",
       "0        mpfi       3.47    2.68              9.0        111     5000      21   \n",
       "1        mpfi       3.47    2.68              9.0        111     5000      21   \n",
       "2        mpfi       2.68    3.47              9.0        154     5000      19   \n",
       "3        mpfi       3.19    3.40             10.0        102     5500      24   \n",
       "4        mpfi       3.19    3.40              8.0        115     5500      18   \n",
       "\n",
       "   highwaympg    price  \n",
       "0          27  13495.0  \n",
       "1          27  16500.0  \n",
       "2          26  16500.0  \n",
       "3          30  13950.0  \n",
       "4          22  17450.0  \n",
       "\n",
       "[5 rows x 26 columns]"
      ]
     },
     "execution_count": 5,
     "metadata": {},
     "output_type": "execute_result"
    }
   ],
   "source": [
    "car.head()"
   ]
  },
  {
   "cell_type": "code",
   "execution_count": 6,
   "metadata": {},
   "outputs": [
    {
     "data": {
      "text/html": [
       "<div>\n",
       "<style scoped>\n",
       "    .dataframe tbody tr th:only-of-type {\n",
       "        vertical-align: middle;\n",
       "    }\n",
       "\n",
       "    .dataframe tbody tr th {\n",
       "        vertical-align: top;\n",
       "    }\n",
       "\n",
       "    .dataframe thead th {\n",
       "        text-align: right;\n",
       "    }\n",
       "</style>\n",
       "<table border=\"1\" class=\"dataframe\">\n",
       "  <thead>\n",
       "    <tr style=\"text-align: right;\">\n",
       "      <th></th>\n",
       "      <th>car_ID</th>\n",
       "      <th>symboling</th>\n",
       "      <th>wheelbase</th>\n",
       "      <th>carlength</th>\n",
       "      <th>carwidth</th>\n",
       "      <th>carheight</th>\n",
       "      <th>curbweight</th>\n",
       "      <th>enginesize</th>\n",
       "      <th>boreratio</th>\n",
       "      <th>stroke</th>\n",
       "      <th>compressionratio</th>\n",
       "      <th>horsepower</th>\n",
       "      <th>peakrpm</th>\n",
       "      <th>citympg</th>\n",
       "      <th>highwaympg</th>\n",
       "      <th>price</th>\n",
       "    </tr>\n",
       "  </thead>\n",
       "  <tbody>\n",
       "    <tr>\n",
       "      <th>count</th>\n",
       "      <td>205.000000</td>\n",
       "      <td>205.000000</td>\n",
       "      <td>205.000000</td>\n",
       "      <td>205.000000</td>\n",
       "      <td>205.000000</td>\n",
       "      <td>205.000000</td>\n",
       "      <td>205.000000</td>\n",
       "      <td>205.000000</td>\n",
       "      <td>205.000000</td>\n",
       "      <td>205.000000</td>\n",
       "      <td>205.000000</td>\n",
       "      <td>205.000000</td>\n",
       "      <td>205.000000</td>\n",
       "      <td>205.000000</td>\n",
       "      <td>205.000000</td>\n",
       "      <td>205.000000</td>\n",
       "    </tr>\n",
       "    <tr>\n",
       "      <th>mean</th>\n",
       "      <td>103.000000</td>\n",
       "      <td>0.834146</td>\n",
       "      <td>98.756585</td>\n",
       "      <td>174.049268</td>\n",
       "      <td>65.907805</td>\n",
       "      <td>53.724878</td>\n",
       "      <td>2555.565854</td>\n",
       "      <td>126.907317</td>\n",
       "      <td>3.329756</td>\n",
       "      <td>3.255415</td>\n",
       "      <td>10.142537</td>\n",
       "      <td>104.117073</td>\n",
       "      <td>5125.121951</td>\n",
       "      <td>25.219512</td>\n",
       "      <td>30.751220</td>\n",
       "      <td>13276.710571</td>\n",
       "    </tr>\n",
       "    <tr>\n",
       "      <th>std</th>\n",
       "      <td>59.322565</td>\n",
       "      <td>1.245307</td>\n",
       "      <td>6.021776</td>\n",
       "      <td>12.337289</td>\n",
       "      <td>2.145204</td>\n",
       "      <td>2.443522</td>\n",
       "      <td>520.680204</td>\n",
       "      <td>41.642693</td>\n",
       "      <td>0.270844</td>\n",
       "      <td>0.313597</td>\n",
       "      <td>3.972040</td>\n",
       "      <td>39.544167</td>\n",
       "      <td>476.985643</td>\n",
       "      <td>6.542142</td>\n",
       "      <td>6.886443</td>\n",
       "      <td>7988.852332</td>\n",
       "    </tr>\n",
       "    <tr>\n",
       "      <th>min</th>\n",
       "      <td>1.000000</td>\n",
       "      <td>-2.000000</td>\n",
       "      <td>86.600000</td>\n",
       "      <td>141.100000</td>\n",
       "      <td>60.300000</td>\n",
       "      <td>47.800000</td>\n",
       "      <td>1488.000000</td>\n",
       "      <td>61.000000</td>\n",
       "      <td>2.540000</td>\n",
       "      <td>2.070000</td>\n",
       "      <td>7.000000</td>\n",
       "      <td>48.000000</td>\n",
       "      <td>4150.000000</td>\n",
       "      <td>13.000000</td>\n",
       "      <td>16.000000</td>\n",
       "      <td>5118.000000</td>\n",
       "    </tr>\n",
       "    <tr>\n",
       "      <th>25%</th>\n",
       "      <td>52.000000</td>\n",
       "      <td>0.000000</td>\n",
       "      <td>94.500000</td>\n",
       "      <td>166.300000</td>\n",
       "      <td>64.100000</td>\n",
       "      <td>52.000000</td>\n",
       "      <td>2145.000000</td>\n",
       "      <td>97.000000</td>\n",
       "      <td>3.150000</td>\n",
       "      <td>3.110000</td>\n",
       "      <td>8.600000</td>\n",
       "      <td>70.000000</td>\n",
       "      <td>4800.000000</td>\n",
       "      <td>19.000000</td>\n",
       "      <td>25.000000</td>\n",
       "      <td>7788.000000</td>\n",
       "    </tr>\n",
       "    <tr>\n",
       "      <th>50%</th>\n",
       "      <td>103.000000</td>\n",
       "      <td>1.000000</td>\n",
       "      <td>97.000000</td>\n",
       "      <td>173.200000</td>\n",
       "      <td>65.500000</td>\n",
       "      <td>54.100000</td>\n",
       "      <td>2414.000000</td>\n",
       "      <td>120.000000</td>\n",
       "      <td>3.310000</td>\n",
       "      <td>3.290000</td>\n",
       "      <td>9.000000</td>\n",
       "      <td>95.000000</td>\n",
       "      <td>5200.000000</td>\n",
       "      <td>24.000000</td>\n",
       "      <td>30.000000</td>\n",
       "      <td>10295.000000</td>\n",
       "    </tr>\n",
       "    <tr>\n",
       "      <th>75%</th>\n",
       "      <td>154.000000</td>\n",
       "      <td>2.000000</td>\n",
       "      <td>102.400000</td>\n",
       "      <td>183.100000</td>\n",
       "      <td>66.900000</td>\n",
       "      <td>55.500000</td>\n",
       "      <td>2935.000000</td>\n",
       "      <td>141.000000</td>\n",
       "      <td>3.580000</td>\n",
       "      <td>3.410000</td>\n",
       "      <td>9.400000</td>\n",
       "      <td>116.000000</td>\n",
       "      <td>5500.000000</td>\n",
       "      <td>30.000000</td>\n",
       "      <td>34.000000</td>\n",
       "      <td>16503.000000</td>\n",
       "    </tr>\n",
       "    <tr>\n",
       "      <th>max</th>\n",
       "      <td>205.000000</td>\n",
       "      <td>3.000000</td>\n",
       "      <td>120.900000</td>\n",
       "      <td>208.100000</td>\n",
       "      <td>72.300000</td>\n",
       "      <td>59.800000</td>\n",
       "      <td>4066.000000</td>\n",
       "      <td>326.000000</td>\n",
       "      <td>3.940000</td>\n",
       "      <td>4.170000</td>\n",
       "      <td>23.000000</td>\n",
       "      <td>288.000000</td>\n",
       "      <td>6600.000000</td>\n",
       "      <td>49.000000</td>\n",
       "      <td>54.000000</td>\n",
       "      <td>45400.000000</td>\n",
       "    </tr>\n",
       "  </tbody>\n",
       "</table>\n",
       "</div>"
      ],
      "text/plain": [
       "           car_ID   symboling   wheelbase   carlength    carwidth   carheight  \\\n",
       "count  205.000000  205.000000  205.000000  205.000000  205.000000  205.000000   \n",
       "mean   103.000000    0.834146   98.756585  174.049268   65.907805   53.724878   \n",
       "std     59.322565    1.245307    6.021776   12.337289    2.145204    2.443522   \n",
       "min      1.000000   -2.000000   86.600000  141.100000   60.300000   47.800000   \n",
       "25%     52.000000    0.000000   94.500000  166.300000   64.100000   52.000000   \n",
       "50%    103.000000    1.000000   97.000000  173.200000   65.500000   54.100000   \n",
       "75%    154.000000    2.000000  102.400000  183.100000   66.900000   55.500000   \n",
       "max    205.000000    3.000000  120.900000  208.100000   72.300000   59.800000   \n",
       "\n",
       "        curbweight  enginesize   boreratio      stroke  compressionratio  \\\n",
       "count   205.000000  205.000000  205.000000  205.000000        205.000000   \n",
       "mean   2555.565854  126.907317    3.329756    3.255415         10.142537   \n",
       "std     520.680204   41.642693    0.270844    0.313597          3.972040   \n",
       "min    1488.000000   61.000000    2.540000    2.070000          7.000000   \n",
       "25%    2145.000000   97.000000    3.150000    3.110000          8.600000   \n",
       "50%    2414.000000  120.000000    3.310000    3.290000          9.000000   \n",
       "75%    2935.000000  141.000000    3.580000    3.410000          9.400000   \n",
       "max    4066.000000  326.000000    3.940000    4.170000         23.000000   \n",
       "\n",
       "       horsepower      peakrpm     citympg  highwaympg         price  \n",
       "count  205.000000   205.000000  205.000000  205.000000    205.000000  \n",
       "mean   104.117073  5125.121951   25.219512   30.751220  13276.710571  \n",
       "std     39.544167   476.985643    6.542142    6.886443   7988.852332  \n",
       "min     48.000000  4150.000000   13.000000   16.000000   5118.000000  \n",
       "25%     70.000000  4800.000000   19.000000   25.000000   7788.000000  \n",
       "50%     95.000000  5200.000000   24.000000   30.000000  10295.000000  \n",
       "75%    116.000000  5500.000000   30.000000   34.000000  16503.000000  \n",
       "max    288.000000  6600.000000   49.000000   54.000000  45400.000000  "
      ]
     },
     "execution_count": 6,
     "metadata": {},
     "output_type": "execute_result"
    }
   ],
   "source": [
    "car.describe()"
   ]
  },
  {
   "cell_type": "markdown",
   "metadata": {},
   "source": [
    "- If we see above data we can see that 75% and max have not much difference i,e the difference is consistant so we can easily say that their are no outliers."
   ]
  },
  {
   "cell_type": "code",
   "execution_count": 7,
   "metadata": {},
   "outputs": [
    {
     "name": "stdout",
     "output_type": "stream",
     "text": [
      "<class 'pandas.core.frame.DataFrame'>\n",
      "RangeIndex: 205 entries, 0 to 204\n",
      "Data columns (total 26 columns):\n",
      "car_ID              205 non-null int64\n",
      "symboling           205 non-null int64\n",
      "CarName             205 non-null object\n",
      "fueltype            205 non-null object\n",
      "aspiration          205 non-null object\n",
      "doornumber          205 non-null object\n",
      "carbody             205 non-null object\n",
      "drivewheel          205 non-null object\n",
      "enginelocation      205 non-null object\n",
      "wheelbase           205 non-null float64\n",
      "carlength           205 non-null float64\n",
      "carwidth            205 non-null float64\n",
      "carheight           205 non-null float64\n",
      "curbweight          205 non-null int64\n",
      "enginetype          205 non-null object\n",
      "cylindernumber      205 non-null object\n",
      "enginesize          205 non-null int64\n",
      "fuelsystem          205 non-null object\n",
      "boreratio           205 non-null float64\n",
      "stroke              205 non-null float64\n",
      "compressionratio    205 non-null float64\n",
      "horsepower          205 non-null int64\n",
      "peakrpm             205 non-null int64\n",
      "citympg             205 non-null int64\n",
      "highwaympg          205 non-null int64\n",
      "price               205 non-null float64\n",
      "dtypes: float64(8), int64(8), object(10)\n",
      "memory usage: 41.7+ KB\n"
     ]
    }
   ],
   "source": [
    "car.info()"
   ]
  },
  {
   "cell_type": "markdown",
   "metadata": {},
   "source": [
    "- We have 26 columns and 205 rows all the columns have complete data none of them have null value."
   ]
  },
  {
   "cell_type": "markdown",
   "metadata": {},
   "source": [
    "- <b>We need to split the car name in order to get company which is said in the question to be considered as the independent variable.</b>"
   ]
  },
  {
   "cell_type": "code",
   "execution_count": 8,
   "metadata": {},
   "outputs": [],
   "source": [
    "car['company']=car['CarName'].map(lambda x:x.split(' ',1)[0].lower())"
   ]
  },
  {
   "cell_type": "code",
   "execution_count": 9,
   "metadata": {},
   "outputs": [
    {
     "data": {
      "text/html": [
       "<div>\n",
       "<style scoped>\n",
       "    .dataframe tbody tr th:only-of-type {\n",
       "        vertical-align: middle;\n",
       "    }\n",
       "\n",
       "    .dataframe tbody tr th {\n",
       "        vertical-align: top;\n",
       "    }\n",
       "\n",
       "    .dataframe thead th {\n",
       "        text-align: right;\n",
       "    }\n",
       "</style>\n",
       "<table border=\"1\" class=\"dataframe\">\n",
       "  <thead>\n",
       "    <tr style=\"text-align: right;\">\n",
       "      <th></th>\n",
       "      <th>car_ID</th>\n",
       "      <th>symboling</th>\n",
       "      <th>CarName</th>\n",
       "      <th>fueltype</th>\n",
       "      <th>aspiration</th>\n",
       "      <th>doornumber</th>\n",
       "      <th>carbody</th>\n",
       "      <th>drivewheel</th>\n",
       "      <th>enginelocation</th>\n",
       "      <th>wheelbase</th>\n",
       "      <th>...</th>\n",
       "      <th>fuelsystem</th>\n",
       "      <th>boreratio</th>\n",
       "      <th>stroke</th>\n",
       "      <th>compressionratio</th>\n",
       "      <th>horsepower</th>\n",
       "      <th>peakrpm</th>\n",
       "      <th>citympg</th>\n",
       "      <th>highwaympg</th>\n",
       "      <th>price</th>\n",
       "      <th>company</th>\n",
       "    </tr>\n",
       "  </thead>\n",
       "  <tbody>\n",
       "    <tr>\n",
       "      <th>0</th>\n",
       "      <td>1</td>\n",
       "      <td>3</td>\n",
       "      <td>alfa-romero giulia</td>\n",
       "      <td>gas</td>\n",
       "      <td>std</td>\n",
       "      <td>two</td>\n",
       "      <td>convertible</td>\n",
       "      <td>rwd</td>\n",
       "      <td>front</td>\n",
       "      <td>88.6</td>\n",
       "      <td>...</td>\n",
       "      <td>mpfi</td>\n",
       "      <td>3.47</td>\n",
       "      <td>2.68</td>\n",
       "      <td>9.0</td>\n",
       "      <td>111</td>\n",
       "      <td>5000</td>\n",
       "      <td>21</td>\n",
       "      <td>27</td>\n",
       "      <td>13495.0</td>\n",
       "      <td>alfa-romero</td>\n",
       "    </tr>\n",
       "    <tr>\n",
       "      <th>1</th>\n",
       "      <td>2</td>\n",
       "      <td>3</td>\n",
       "      <td>alfa-romero stelvio</td>\n",
       "      <td>gas</td>\n",
       "      <td>std</td>\n",
       "      <td>two</td>\n",
       "      <td>convertible</td>\n",
       "      <td>rwd</td>\n",
       "      <td>front</td>\n",
       "      <td>88.6</td>\n",
       "      <td>...</td>\n",
       "      <td>mpfi</td>\n",
       "      <td>3.47</td>\n",
       "      <td>2.68</td>\n",
       "      <td>9.0</td>\n",
       "      <td>111</td>\n",
       "      <td>5000</td>\n",
       "      <td>21</td>\n",
       "      <td>27</td>\n",
       "      <td>16500.0</td>\n",
       "      <td>alfa-romero</td>\n",
       "    </tr>\n",
       "    <tr>\n",
       "      <th>2</th>\n",
       "      <td>3</td>\n",
       "      <td>1</td>\n",
       "      <td>alfa-romero Quadrifoglio</td>\n",
       "      <td>gas</td>\n",
       "      <td>std</td>\n",
       "      <td>two</td>\n",
       "      <td>hatchback</td>\n",
       "      <td>rwd</td>\n",
       "      <td>front</td>\n",
       "      <td>94.5</td>\n",
       "      <td>...</td>\n",
       "      <td>mpfi</td>\n",
       "      <td>2.68</td>\n",
       "      <td>3.47</td>\n",
       "      <td>9.0</td>\n",
       "      <td>154</td>\n",
       "      <td>5000</td>\n",
       "      <td>19</td>\n",
       "      <td>26</td>\n",
       "      <td>16500.0</td>\n",
       "      <td>alfa-romero</td>\n",
       "    </tr>\n",
       "    <tr>\n",
       "      <th>3</th>\n",
       "      <td>4</td>\n",
       "      <td>2</td>\n",
       "      <td>audi 100 ls</td>\n",
       "      <td>gas</td>\n",
       "      <td>std</td>\n",
       "      <td>four</td>\n",
       "      <td>sedan</td>\n",
       "      <td>fwd</td>\n",
       "      <td>front</td>\n",
       "      <td>99.8</td>\n",
       "      <td>...</td>\n",
       "      <td>mpfi</td>\n",
       "      <td>3.19</td>\n",
       "      <td>3.40</td>\n",
       "      <td>10.0</td>\n",
       "      <td>102</td>\n",
       "      <td>5500</td>\n",
       "      <td>24</td>\n",
       "      <td>30</td>\n",
       "      <td>13950.0</td>\n",
       "      <td>audi</td>\n",
       "    </tr>\n",
       "    <tr>\n",
       "      <th>4</th>\n",
       "      <td>5</td>\n",
       "      <td>2</td>\n",
       "      <td>audi 100ls</td>\n",
       "      <td>gas</td>\n",
       "      <td>std</td>\n",
       "      <td>four</td>\n",
       "      <td>sedan</td>\n",
       "      <td>4wd</td>\n",
       "      <td>front</td>\n",
       "      <td>99.4</td>\n",
       "      <td>...</td>\n",
       "      <td>mpfi</td>\n",
       "      <td>3.19</td>\n",
       "      <td>3.40</td>\n",
       "      <td>8.0</td>\n",
       "      <td>115</td>\n",
       "      <td>5500</td>\n",
       "      <td>18</td>\n",
       "      <td>22</td>\n",
       "      <td>17450.0</td>\n",
       "      <td>audi</td>\n",
       "    </tr>\n",
       "  </tbody>\n",
       "</table>\n",
       "<p>5 rows × 27 columns</p>\n",
       "</div>"
      ],
      "text/plain": [
       "   car_ID  symboling                   CarName fueltype aspiration doornumber  \\\n",
       "0       1          3        alfa-romero giulia      gas        std        two   \n",
       "1       2          3       alfa-romero stelvio      gas        std        two   \n",
       "2       3          1  alfa-romero Quadrifoglio      gas        std        two   \n",
       "3       4          2               audi 100 ls      gas        std       four   \n",
       "4       5          2                audi 100ls      gas        std       four   \n",
       "\n",
       "       carbody drivewheel enginelocation  wheelbase     ...       fuelsystem  \\\n",
       "0  convertible        rwd          front       88.6     ...             mpfi   \n",
       "1  convertible        rwd          front       88.6     ...             mpfi   \n",
       "2    hatchback        rwd          front       94.5     ...             mpfi   \n",
       "3        sedan        fwd          front       99.8     ...             mpfi   \n",
       "4        sedan        4wd          front       99.4     ...             mpfi   \n",
       "\n",
       "   boreratio  stroke  compressionratio horsepower peakrpm  citympg highwaympg  \\\n",
       "0       3.47    2.68               9.0        111    5000       21         27   \n",
       "1       3.47    2.68               9.0        111    5000       21         27   \n",
       "2       2.68    3.47               9.0        154    5000       19         26   \n",
       "3       3.19    3.40              10.0        102    5500       24         30   \n",
       "4       3.19    3.40               8.0        115    5500       18         22   \n",
       "\n",
       "     price      company  \n",
       "0  13495.0  alfa-romero  \n",
       "1  16500.0  alfa-romero  \n",
       "2  16500.0  alfa-romero  \n",
       "3  13950.0         audi  \n",
       "4  17450.0         audi  \n",
       "\n",
       "[5 rows x 27 columns]"
      ]
     },
     "execution_count": 9,
     "metadata": {},
     "output_type": "execute_result"
    }
   ],
   "source": [
    "car.head()"
   ]
  },
  {
   "cell_type": "markdown",
   "metadata": {},
   "source": [
    "- After getting the company name we see inconsistancy in names i,e the names are misspelled.We need to correct that."
   ]
  },
  {
   "cell_type": "code",
   "execution_count": 10,
   "metadata": {},
   "outputs": [
    {
     "data": {
      "text/plain": [
       "array(['alfa-romero', 'audi', 'bmw', 'buick', 'chevrolet', 'dodge',\n",
       "       'honda', 'isuzu', 'jaguar', 'maxda', 'mazda', 'mercury',\n",
       "       'mitsubishi', 'nissan', 'peugeot', 'plymouth', 'porcshce',\n",
       "       'porsche', 'renault', 'saab', 'subaru', 'toyota', 'toyouta',\n",
       "       'vokswagen', 'volkswagen', 'volvo', 'vw'], dtype=object)"
      ]
     },
     "execution_count": 10,
     "metadata": {},
     "output_type": "execute_result"
    }
   ],
   "source": [
    "np.unique(car['company'])"
   ]
  },
  {
   "cell_type": "code",
   "execution_count": 11,
   "metadata": {},
   "outputs": [],
   "source": [
    "car.loc[car['company']=='maxda','company']='mazda'"
   ]
  },
  {
   "cell_type": "code",
   "execution_count": 12,
   "metadata": {},
   "outputs": [],
   "source": [
    "car.loc[car['company']=='porcshce','company']='porsche'"
   ]
  },
  {
   "cell_type": "code",
   "execution_count": 13,
   "metadata": {},
   "outputs": [],
   "source": [
    "car.loc[car['company']=='toyouta','company']='toyota'"
   ]
  },
  {
   "cell_type": "code",
   "execution_count": 14,
   "metadata": {},
   "outputs": [],
   "source": [
    "car.loc[(car['company']=='vokswagen') | (car['company']=='vw'),'company']='volkswagen'"
   ]
  },
  {
   "cell_type": "code",
   "execution_count": 15,
   "metadata": {},
   "outputs": [
    {
     "data": {
      "text/plain": [
       "array(['alfa-romero', 'audi', 'bmw', 'buick', 'chevrolet', 'dodge',\n",
       "       'honda', 'isuzu', 'jaguar', 'mazda', 'mercury', 'mitsubishi',\n",
       "       'nissan', 'peugeot', 'plymouth', 'porsche', 'renault', 'saab',\n",
       "       'subaru', 'toyota', 'volkswagen', 'volvo'], dtype=object)"
      ]
     },
     "execution_count": 15,
     "metadata": {},
     "output_type": "execute_result"
    }
   ],
   "source": [
    "np.unique(car['company'])"
   ]
  },
  {
   "cell_type": "code",
   "execution_count": 16,
   "metadata": {},
   "outputs": [
    {
     "data": {
      "text/plain": [
       "array(['4wd', 'fwd', 'rwd'], dtype=object)"
      ]
     },
     "execution_count": 16,
     "metadata": {},
     "output_type": "execute_result"
    }
   ],
   "source": [
    "np.unique(car['drivewheel'])"
   ]
  },
  {
   "cell_type": "code",
   "execution_count": 17,
   "metadata": {},
   "outputs": [],
   "source": [
    "car.drop_duplicates(inplace=True)"
   ]
  },
  {
   "cell_type": "markdown",
   "metadata": {},
   "source": [
    "- We need to check for duplicates and drop if any exist."
   ]
  },
  {
   "cell_type": "code",
   "execution_count": 18,
   "metadata": {},
   "outputs": [
    {
     "name": "stdout",
     "output_type": "stream",
     "text": [
      "<class 'pandas.core.frame.DataFrame'>\n",
      "Int64Index: 205 entries, 0 to 204\n",
      "Data columns (total 27 columns):\n",
      "car_ID              205 non-null int64\n",
      "symboling           205 non-null int64\n",
      "CarName             205 non-null object\n",
      "fueltype            205 non-null object\n",
      "aspiration          205 non-null object\n",
      "doornumber          205 non-null object\n",
      "carbody             205 non-null object\n",
      "drivewheel          205 non-null object\n",
      "enginelocation      205 non-null object\n",
      "wheelbase           205 non-null float64\n",
      "carlength           205 non-null float64\n",
      "carwidth            205 non-null float64\n",
      "carheight           205 non-null float64\n",
      "curbweight          205 non-null int64\n",
      "enginetype          205 non-null object\n",
      "cylindernumber      205 non-null object\n",
      "enginesize          205 non-null int64\n",
      "fuelsystem          205 non-null object\n",
      "boreratio           205 non-null float64\n",
      "stroke              205 non-null float64\n",
      "compressionratio    205 non-null float64\n",
      "horsepower          205 non-null int64\n",
      "peakrpm             205 non-null int64\n",
      "citympg             205 non-null int64\n",
      "highwaympg          205 non-null int64\n",
      "price               205 non-null float64\n",
      "company             205 non-null object\n",
      "dtypes: float64(8), int64(8), object(11)\n",
      "memory usage: 44.8+ KB\n"
     ]
    }
   ],
   "source": [
    "car.info()"
   ]
  },
  {
   "cell_type": "markdown",
   "metadata": {},
   "source": [
    "- We see that their are no duplicates present in the dataset."
   ]
  },
  {
   "cell_type": "markdown",
   "metadata": {},
   "source": [
    "<h2>Now the data cleaning is done.Let's start with EDA.</h2>"
   ]
  },
  {
   "cell_type": "code",
   "execution_count": 19,
   "metadata": {},
   "outputs": [
    {
     "data": {
      "text/plain": [
       "<matplotlib.axes._subplots.AxesSubplot at 0x23306874668>"
      ]
     },
     "execution_count": 19,
     "metadata": {},
     "output_type": "execute_result"
    },
    {
     "data": {
      "image/png": "[encoded data removed]",
      "text/plain": [
       "<Figure size 432x288 with 1 Axes>"
      ]
     },
     "metadata": {},
     "output_type": "display_data"
    }
   ],
   "source": [
    "sns.countplot(car['fueltype'])"
   ]
  },
  {
   "cell_type": "markdown",
   "metadata": {},
   "source": [
    "- We see that maximum number of cars have fueltype as Gas."
   ]
  },
  {
   "cell_type": "code",
   "execution_count": 20,
   "metadata": {},
   "outputs": [
    {
     "data": {
      "text/plain": [
       "<matplotlib.axes._subplots.AxesSubplot at 0x23306c01e48>"
      ]
     },
     "execution_count": 20,
     "metadata": {},
     "output_type": "execute_result"
    },
    {
     "data": {
      "image/png": "[encoded data removed]",
      "text/plain": [
       "<Figure size 432x288 with 1 Axes>"
      ]
     },
     "metadata": {},
     "output_type": "display_data"
    }
   ],
   "source": [
    "sns.countplot(car['aspiration'])"
   ]
  },
  {
   "cell_type": "markdown",
   "metadata": {},
   "source": [
    "- We see that maximum number of cars have std aspiration."
   ]
  },
  {
   "cell_type": "code",
   "execution_count": 21,
   "metadata": {},
   "outputs": [
    {
     "data": {
      "text/plain": [
       "<matplotlib.axes._subplots.AxesSubplot at 0x2330685ada0>"
      ]
     },
     "execution_count": 21,
     "metadata": {},
     "output_type": "execute_result"
    },
    {
     "data": {
      "image/png": "[encoded data removed]",
      "text/plain": [
       "<Figure size 432x288 with 1 Axes>"
      ]
     },
     "metadata": {},
     "output_type": "display_data"
    }
   ],
   "source": [
    "sns.countplot(car['doornumber'])"
   ]
  },
  {
   "cell_type": "markdown",
   "metadata": {},
   "source": [
    "- We see that maximum number of cars manufactured have 4 doors."
   ]
  },
  {
   "cell_type": "code",
   "execution_count": 22,
   "metadata": {},
   "outputs": [
    {
     "data": {
      "text/plain": [
       "<matplotlib.axes._subplots.AxesSubplot at 0x23306bedd30>"
      ]
     },
     "execution_count": 22,
     "metadata": {},
     "output_type": "execute_result"
    },
    {
     "data": {
      "image/png": "[encoded data removed]",
      "text/plain": [
       "<Figure size 432x288 with 1 Axes>"
      ]
     },
     "metadata": {},
     "output_type": "display_data"
    }
   ],
   "source": [
    "sns.countplot(car['drivewheel'])"
   ]
  },
  {
   "cell_type": "markdown",
   "metadata": {},
   "source": [
    "- We see that maximum number of cars manufactured have forward drivewheel."
   ]
  },
  {
   "cell_type": "code",
   "execution_count": 23,
   "metadata": {},
   "outputs": [
    {
     "data": {
      "text/plain": [
       "<matplotlib.axes._subplots.AxesSubplot at 0x23306cf06d8>"
      ]
     },
     "execution_count": 23,
     "metadata": {},
     "output_type": "execute_result"
    },
    {
     "data": {
      "image/png": "[encoded data removed]",
      "text/plain": [
       "<Figure size 432x288 with 1 Axes>"
      ]
     },
     "metadata": {},
     "output_type": "display_data"
    }
   ],
   "source": [
    "sns.countplot(car['enginelocation'])"
   ]
  },
  {
   "cell_type": "markdown",
   "metadata": {},
   "source": [
    "- We see that maximum number of cars manufactured have front enginelocation."
   ]
  },
  {
   "cell_type": "code",
   "execution_count": 24,
   "metadata": {},
   "outputs": [
    {
     "data": {
      "text/plain": [
       "<matplotlib.axes._subplots.AxesSubplot at 0x23306d17438>"
      ]
     },
     "execution_count": 24,
     "metadata": {},
     "output_type": "execute_result"
    },
    {
     "data": {
      "image/png": "[encoded data removed]",
      "text/plain": [
       "<Figure size 432x288 with 1 Axes>"
      ]
     },
     "metadata": {},
     "output_type": "display_data"
    }
   ],
   "source": [
    "sns.countplot(car['enginetype'])"
   ]
  },
  {
   "cell_type": "markdown",
   "metadata": {},
   "source": [
    "- We see that maximum number of cars manufactured have ohc as enginetype."
   ]
  },
  {
   "cell_type": "code",
   "execution_count": 25,
   "metadata": {},
   "outputs": [
    {
     "data": {
      "text/plain": [
       "<matplotlib.axes._subplots.AxesSubplot at 0x23306da1a58>"
      ]
     },
     "execution_count": 25,
     "metadata": {},
     "output_type": "execute_result"
    },
    {
     "data": {
      "image/png": "[encoded data removed]",
      "text/plain": [
       "<Figure size 432x288 with 1 Axes>"
      ]
     },
     "metadata": {},
     "output_type": "display_data"
    }
   ],
   "source": [
    "sns.countplot(car['cylindernumber'])"
   ]
  },
  {
   "cell_type": "markdown",
   "metadata": {},
   "source": [
    "- - We see that maximum number of cars manufactured have 4 cylinders."
   ]
  },
  {
   "cell_type": "code",
   "execution_count": 26,
   "metadata": {},
   "outputs": [
    {
     "data": {
      "text/plain": [
       "<matplotlib.axes._subplots.AxesSubplot at 0x23306d41c88>"
      ]
     },
     "execution_count": 26,
     "metadata": {},
     "output_type": "execute_result"
    },
    {
     "data": {
      "image/png": "[encoded data removed]",
      "text/plain": [
       "<Figure size 432x288 with 1 Axes>"
      ]
     },
     "metadata": {},
     "output_type": "display_data"
    }
   ],
   "source": [
    "sns.countplot(car['fuelsystem'])"
   ]
  },
  {
   "cell_type": "markdown",
   "metadata": {},
   "source": [
    "- We see that maximum number of cars manufactured have mpfi fuelsystem."
   ]
  },
  {
   "cell_type": "code",
   "execution_count": 27,
   "metadata": {},
   "outputs": [
    {
     "data": {
      "text/plain": [
       "<matplotlib.axes._subplots.AxesSubplot at 0x23306e72668>"
      ]
     },
     "execution_count": 27,
     "metadata": {},
     "output_type": "execute_result"
    },
    {
     "data": {
      "image/png": "[encoded data removed]",
      "text/plain": [
       "<Figure size 720x504 with 1 Axes>"
      ]
     },
     "metadata": {},
     "output_type": "display_data"
    }
   ],
   "source": [
    "plt.figure(figsize=(10,7))\n",
    "plt.xticks(rotation=90)\n",
    "sns.countplot(car['company'],palette='YlGn_r')"
   ]
  },
  {
   "cell_type": "markdown",
   "metadata": {},
   "source": [
    "- We see that maximum number of cars manufactured by toyota."
   ]
  },
  {
   "cell_type": "code",
   "execution_count": 28,
   "metadata": {},
   "outputs": [
    {
     "data": {
      "text/plain": [
       "<matplotlib.axes._subplots.AxesSubplot at 0x23306eacf98>"
      ]
     },
     "execution_count": 28,
     "metadata": {},
     "output_type": "execute_result"
    },
    {
     "data": {
      "image/png": "[encoded data removed]",
      "text/plain": [
       "<Figure size 432x288 with 1 Axes>"
      ]
     },
     "metadata": {},
     "output_type": "display_data"
    }
   ],
   "source": [
    "sns.countplot(car['carbody'])"
   ]
  },
  {
   "cell_type": "markdown",
   "metadata": {},
   "source": [
    "- We see that maximum number of cars manufactured have sedan carbody."
   ]
  },
  {
   "cell_type": "code",
   "execution_count": 29,
   "metadata": {},
   "outputs": [
    {
     "data": {
      "text/plain": [
       "<matplotlib.axes._subplots.AxesSubplot at 0x23306f433c8>"
      ]
     },
     "execution_count": 29,
     "metadata": {},
     "output_type": "execute_result"
    },
    {
     "data": {
      "image/png": "[encoded data removed]",
      "text/plain": [
       "<Figure size 432x288 with 1 Axes>"
      ]
     },
     "metadata": {},
     "output_type": "display_data"
    }
   ],
   "source": [
    "plt.yscale('log')\n",
    "sns.barplot('carbody','carwidth',data=car)"
   ]
  },
  {
   "cell_type": "markdown",
   "metadata": {},
   "source": [
    "- Hardtop has got maximum carwidth compared to others."
   ]
  },
  {
   "cell_type": "code",
   "execution_count": 30,
   "metadata": {},
   "outputs": [
    {
     "data": {
      "text/plain": [
       "<matplotlib.axes._subplots.AxesSubplot at 0x2330702eb38>"
      ]
     },
     "execution_count": 30,
     "metadata": {},
     "output_type": "execute_result"
    },
    {
     "data": {
      "image/png": "[encoded data removed]",
      "text/plain": [
       "<Figure size 432x288 with 1 Axes>"
      ]
     },
     "metadata": {},
     "output_type": "display_data"
    }
   ],
   "source": [
    "sns.barplot('carbody','carheight',data=car)"
   ]
  },
  {
   "cell_type": "markdown",
   "metadata": {},
   "source": [
    "- Car widths are closer but wagon got max height compared to others."
   ]
  },
  {
   "cell_type": "code",
   "execution_count": 31,
   "metadata": {},
   "outputs": [
    {
     "data": {
      "text/plain": [
       "<matplotlib.axes._subplots.AxesSubplot at 0x23307261240>"
      ]
     },
     "execution_count": 31,
     "metadata": {},
     "output_type": "execute_result"
    },
    {
     "data": {
      "image/png": "[encoded data removed]",
      "text/plain": [
       "<Figure size 432x288 with 1 Axes>"
      ]
     },
     "metadata": {},
     "output_type": "display_data"
    }
   ],
   "source": [
    "sns.barplot('carbody','carlength',data=car)"
   ]
  },
  {
   "cell_type": "markdown",
   "metadata": {},
   "source": [
    "- Car lengths are very closer but wagon hot more length comapred to others."
   ]
  },
  {
   "cell_type": "code",
   "execution_count": 32,
   "metadata": {},
   "outputs": [
    {
     "data": {
      "text/plain": [
       "<matplotlib.axes._subplots.AxesSubplot at 0x23306fc9828>"
      ]
     },
     "execution_count": 32,
     "metadata": {},
     "output_type": "execute_result"
    },
    {
     "data": {
      "image/png": "[encoded data removed]",
      "text/plain": [
       "<Figure size 1440x576 with 1 Axes>"
      ]
     },
     "metadata": {},
     "output_type": "display_data"
    }
   ],
   "source": [
    "plt.figure(figsize=(20,8))\n",
    "sns.barplot(car['company'],car['price'])"
   ]
  },
  {
   "cell_type": "markdown",
   "metadata": {},
   "source": [
    "- Jaguar cars have highest price compared to others."
   ]
  },
  {
   "cell_type": "code",
   "execution_count": 33,
   "metadata": {},
   "outputs": [
    {
     "data": {
      "text/plain": [
       "<matplotlib.axes._subplots.AxesSubplot at 0x233072b9e10>"
      ]
     },
     "execution_count": 33,
     "metadata": {},
     "output_type": "execute_result"
    },
    {
     "data": {
      "image/png": "[encoded data removed]",
      "text/plain": [
       "<Figure size 576x360 with 1 Axes>"
      ]
     },
     "metadata": {},
     "output_type": "display_data"
    }
   ],
   "source": [
    "plt.figure(figsize=(8,5))\n",
    "sns.barplot('symboling','price',data=car)"
   ]
  },
  {
   "cell_type": "markdown",
   "metadata": {},
   "source": [
    "- We see that cars with symboling -1 and 3 have higher price despite that fact that cars with negative symboling are more safe."
   ]
  },
  {
   "cell_type": "code",
   "execution_count": 34,
   "metadata": {},
   "outputs": [
    {
     "data": {
      "text/plain": [
       "<matplotlib.axes._subplots.AxesSubplot at 0x233073c5780>"
      ]
     },
     "execution_count": 34,
     "metadata": {},
     "output_type": "execute_result"
    },
    {
     "data": {
      "image/png": "[encoded data removed]",
      "text/plain": [
       "<Figure size 432x288 with 1 Axes>"
      ]
     },
     "metadata": {},
     "output_type": "display_data"
    }
   ],
   "source": [
    "sns.barplot('fueltype','price',data=car)"
   ]
  },
  {
   "cell_type": "markdown",
   "metadata": {},
   "source": [
    "- Diesel cars are costlier than petrol cars"
   ]
  },
  {
   "cell_type": "code",
   "execution_count": 35,
   "metadata": {},
   "outputs": [
    {
     "data": {
      "text/plain": [
       "<matplotlib.axes._subplots.AxesSubplot at 0x233074278d0>"
      ]
     },
     "execution_count": 35,
     "metadata": {},
     "output_type": "execute_result"
    },
    {
     "data": {
      "image/png": "[encoded data removed]",
      "text/plain": [
       "<Figure size 432x288 with 1 Axes>"
      ]
     },
     "metadata": {},
     "output_type": "display_data"
    }
   ],
   "source": [
    "sns.barplot('aspiration','price',data=car)"
   ]
  },
  {
   "cell_type": "markdown",
   "metadata": {},
   "source": [
    "- Turbo aspiration cars are costilier compared to other type. "
   ]
  },
  {
   "cell_type": "code",
   "execution_count": 36,
   "metadata": {},
   "outputs": [
    {
     "data": {
      "text/plain": [
       "<matplotlib.axes._subplots.AxesSubplot at 0x23307487940>"
      ]
     },
     "execution_count": 36,
     "metadata": {},
     "output_type": "execute_result"
    },
    {
     "data": {
      "image/png": "[encoded data removed]",
      "text/plain": [
       "<Figure size 432x288 with 1 Axes>"
      ]
     },
     "metadata": {},
     "output_type": "display_data"
    }
   ],
   "source": [
    "sns.barplot('doornumber','price',data=car)"
   ]
  },
  {
   "cell_type": "markdown",
   "metadata": {},
   "source": [
    "- Cars with 4 and 2 doors prices are close by but in this dataset cars with 4 door are expensive compared to 2 door."
   ]
  },
  {
   "cell_type": "code",
   "execution_count": 37,
   "metadata": {},
   "outputs": [
    {
     "data": {
      "text/plain": [
       "<matplotlib.axes._subplots.AxesSubplot at 0x233074e15f8>"
      ]
     },
     "execution_count": 37,
     "metadata": {},
     "output_type": "execute_result"
    },
    {
     "data": {
      "image/png": "[encoded data removed]",
      "text/plain": [
       "<Figure size 432x288 with 1 Axes>"
      ]
     },
     "metadata": {},
     "output_type": "display_data"
    }
   ],
   "source": [
    "sns.barplot('carbody','price',data=car)"
   ]
  },
  {
   "cell_type": "markdown",
   "metadata": {},
   "source": [
    "- Hardtop and convertible cars are costilier compared to other."
   ]
  },
  {
   "cell_type": "code",
   "execution_count": 38,
   "metadata": {},
   "outputs": [
    {
     "data": {
      "text/plain": [
       "<matplotlib.axes._subplots.AxesSubplot at 0x2330754b198>"
      ]
     },
     "execution_count": 38,
     "metadata": {},
     "output_type": "execute_result"
    },
    {
     "data": {
      "image/png": "[encoded data removed]",
      "text/plain": [
       "<Figure size 432x288 with 1 Axes>"
      ]
     },
     "metadata": {},
     "output_type": "display_data"
    }
   ],
   "source": [
    "sns.barplot('drivewheel','price',data=car)"
   ]
  },
  {
   "cell_type": "markdown",
   "metadata": {},
   "source": [
    "- Cars with rwd drivewheel are expensive compared to others."
   ]
  },
  {
   "cell_type": "code",
   "execution_count": 39,
   "metadata": {},
   "outputs": [
    {
     "data": {
      "text/plain": [
       "<matplotlib.axes._subplots.AxesSubplot at 0x233075a46d8>"
      ]
     },
     "execution_count": 39,
     "metadata": {},
     "output_type": "execute_result"
    },
    {
     "data": {
      "image/png": "[encoded data removed]",
      "text/plain": [
       "<Figure size 432x288 with 1 Axes>"
      ]
     },
     "metadata": {},
     "output_type": "display_data"
    }
   ],
   "source": [
    "sns.barplot('enginelocation','price',data=car)"
   ]
  },
  {
   "cell_type": "markdown",
   "metadata": {},
   "source": [
    "- Cars with rear enginelocation are expensive compared to front."
   ]
  },
  {
   "cell_type": "code",
   "execution_count": 40,
   "metadata": {},
   "outputs": [
    {
     "data": {
      "text/plain": [
       "<matplotlib.axes._subplots.AxesSubplot at 0x233075feb38>"
      ]
     },
     "execution_count": 40,
     "metadata": {},
     "output_type": "execute_result"
    },
    {
     "data": {
      "image/png": "[encoded data removed]",
      "text/plain": [
       "<Figure size 432x288 with 1 Axes>"
      ]
     },
     "metadata": {},
     "output_type": "display_data"
    }
   ],
   "source": [
    "sns.barplot('enginetype','price',data=car)"
   ]
  },
  {
   "cell_type": "markdown",
   "metadata": {},
   "source": [
    "- - Cars with rwd dohcv enginetype are expensive compared to others."
   ]
  },
  {
   "cell_type": "code",
   "execution_count": 41,
   "metadata": {},
   "outputs": [
    {
     "data": {
      "text/plain": [
       "<matplotlib.axes._subplots.AxesSubplot at 0x23307649c88>"
      ]
     },
     "execution_count": 41,
     "metadata": {},
     "output_type": "execute_result"
    },
    {
     "data": {
      "image/png": "[encoded data removed]",
      "text/plain": [
       "<Figure size 432x288 with 1 Axes>"
      ]
     },
     "metadata": {},
     "output_type": "display_data"
    }
   ],
   "source": [
    "sns.barplot('cylindernumber','price',data=car)"
   ]
  },
  {
   "cell_type": "markdown",
   "metadata": {},
   "source": [
    "- Cars with eight cylindernumber are expensive compared to others."
   ]
  },
  {
   "cell_type": "code",
   "execution_count": 42,
   "metadata": {},
   "outputs": [
    {
     "data": {
      "text/plain": [
       "<matplotlib.axes._subplots.AxesSubplot at 0x2330893f9e8>"
      ]
     },
     "execution_count": 42,
     "metadata": {},
     "output_type": "execute_result"
    },
    {
     "data": {
      "image/png": "[encoded data removed]",
      "text/plain": [
       "<Figure size 432x288 with 1 Axes>"
      ]
     },
     "metadata": {},
     "output_type": "display_data"
    }
   ],
   "source": [
    "sns.barplot('fuelsystem','price',data=car)"
   ]
  },
  {
   "cell_type": "markdown",
   "metadata": {},
   "source": [
    "- Cars with mpfi fuelsystem are expensive compared to others."
   ]
  },
  {
   "cell_type": "markdown",
   "metadata": {},
   "source": [
    "<b>Lets now analyze numerical variable how they can explain price.</b>"
   ]
  },
  {
   "cell_type": "code",
   "execution_count": 43,
   "metadata": {},
   "outputs": [
    {
     "data": {
      "image/png": "[encoded data removed]",
      "text/plain": [
       "<Figure size 1440x864 with 6 Axes>"
      ]
     },
     "metadata": {},
     "output_type": "display_data"
    }
   ],
   "source": [
    "plt.figure(figsize=(20,12))\n",
    "plt.subplot(2,3,1)\n",
    "sns.scatterplot('boreratio','price',data=car)\n",
    "plt.subplot(2,3,2)\n",
    "sns.scatterplot('wheelbase','price',data=car)\n",
    "plt.subplot(2,3,3)\n",
    "sns.scatterplot('stroke','price',data=car)\n",
    "plt.subplot(2,3,4)\n",
    "sns.scatterplot('horsepower','price',data=car)\n",
    "plt.subplot(2,3,5)\n",
    "sns.scatterplot('citympg','price',data=car)\n",
    "plt.subplot(2,3,6)\n",
    "sns.scatterplot('highwaympg','price',data=car)\n",
    "plt.show()"
   ]
  },
  {
   "cell_type": "markdown",
   "metadata": {},
   "source": [
    "- With Horsepower we can fit positive linear line with price.With increase in that price also increases.\n",
    "- city and highway mpg are high for lower price and wise versa.\n",
    "- stroke and bore ratio have more scattered data.\n",
    "- wheel base can explain price upto some extent."
   ]
  },
  {
   "cell_type": "markdown",
   "metadata": {},
   "source": [
    "<h2>Bivariate Analysis.</h2>"
   ]
  },
  {
   "cell_type": "code",
   "execution_count": 44,
   "metadata": {},
   "outputs": [
    {
     "data": {
      "text/plain": [
       "<matplotlib.axes._subplots.AxesSubplot at 0x2330899b7f0>"
      ]
     },
     "execution_count": 44,
     "metadata": {},
     "output_type": "execute_result"
    },
    {
     "data": {
      "image/png": "[encoded data removed]",
      "text/plain": [
       "<Figure size 432x288 with 1 Axes>"
      ]
     },
     "metadata": {},
     "output_type": "display_data"
    }
   ],
   "source": [
    "sns.barplot('fueltype','price',hue='carbody',data=car,estimator=np.mean)"
   ]
  },
  {
   "cell_type": "code",
   "execution_count": 45,
   "metadata": {},
   "outputs": [
    {
     "data": {
      "text/plain": [
       "<matplotlib.axes._subplots.AxesSubplot at 0x23308bfc8d0>"
      ]
     },
     "execution_count": 45,
     "metadata": {},
     "output_type": "execute_result"
    },
    {
     "data": {
      "image/png": "[encoded data removed]",
      "text/plain": [
       "<Figure size 432x288 with 1 Axes>"
      ]
     },
     "metadata": {},
     "output_type": "display_data"
    }
   ],
   "source": [
    "sns.barplot('aspiration','price',hue='carbody',data=car,estimator=np.mean)"
   ]
  },
  {
   "cell_type": "markdown",
   "metadata": {},
   "source": [
    "- We see that hardotp tops the price for diesel variant with turbo aspiration."
   ]
  },
  {
   "cell_type": "code",
   "execution_count": 46,
   "metadata": {},
   "outputs": [
    {
     "data": {
      "text/plain": [
       "<matplotlib.axes._subplots.AxesSubplot at 0x23308bde940>"
      ]
     },
     "execution_count": 46,
     "metadata": {},
     "output_type": "execute_result"
    },
    {
     "data": {
      "image/png": "[encoded data removed]",
      "text/plain": [
       "<Figure size 432x288 with 1 Axes>"
      ]
     },
     "metadata": {},
     "output_type": "display_data"
    }
   ],
   "source": [
    "sns.barplot('doornumber','price',hue='carbody',data=car,estimator=np.mean)"
   ]
  },
  {
   "cell_type": "markdown",
   "metadata": {},
   "source": [
    "- Within the four door cars sedan tops the price chart."
   ]
  },
  {
   "cell_type": "code",
   "execution_count": 47,
   "metadata": {},
   "outputs": [
    {
     "data": {
      "image/png": "[encoded data removed]",
      "text/plain": [
       "<Figure size 720x360 with 2 Axes>"
      ]
     },
     "metadata": {},
     "output_type": "display_data"
    }
   ],
   "source": [
    "plt.figure(figsize=(10,5))\n",
    "plt.subplot(1,2,1)\n",
    "sns.barplot('drivewheel','price',hue='carbody',data=car,estimator=np.mean)\n",
    "plt.subplot(1,2,2)\n",
    "sns.barplot('enginelocation','price',hue='carbody',data=car,estimator=np.mean)\n",
    "plt.tight_layout()\n",
    "plt.show()"
   ]
  },
  {
   "cell_type": "markdown",
   "metadata": {},
   "source": [
    "- Convertable having rwd drivewheel and front engine location has high price than others in the same category."
   ]
  },
  {
   "cell_type": "code",
   "execution_count": 48,
   "metadata": {},
   "outputs": [
    {
     "data": {
      "image/png": "[encoded data removed]",
      "text/plain": [
       "<Figure size 720x360 with 2 Axes>"
      ]
     },
     "metadata": {},
     "output_type": "display_data"
    }
   ],
   "source": [
    "plt.figure(figsize=(10,5))\n",
    "plt.subplot(1,2,1)\n",
    "sns.barplot('enginetype','price',hue='carbody',data=car,estimator=np.mean)\n",
    "plt.subplot(1,2,2)\n",
    "sns.barplot('cylindernumber','price',hue='carbody',data=car,estimator=np.mean)\n",
    "plt.tight_layout()\n",
    "plt.show()"
   ]
  },
  {
   "cell_type": "code",
   "execution_count": 49,
   "metadata": {},
   "outputs": [],
   "source": [
    "car.drop(['car_ID'],axis=1,inplace=True)"
   ]
  },
  {
   "cell_type": "code",
   "execution_count": 50,
   "metadata": {},
   "outputs": [],
   "source": [
    "car.drop(['CarName'],axis=1,inplace=True)"
   ]
  },
  {
   "cell_type": "markdown",
   "metadata": {},
   "source": [
    "- We drop Carname and CarId as they are of no use for further analysis."
   ]
  },
  {
   "cell_type": "code",
   "execution_count": 51,
   "metadata": {},
   "outputs": [
    {
     "data": {
      "text/plain": [
       "<matplotlib.axes._subplots.AxesSubplot at 0x23308d05908>"
      ]
     },
     "execution_count": 51,
     "metadata": {},
     "output_type": "execute_result"
    },
    {
     "data": {
      "image/png": "[encoded data removed]",
      "text/plain": [
       "<Figure size 1080x576 with 2 Axes>"
      ]
     },
     "metadata": {},
     "output_type": "display_data"
    }
   ],
   "source": [
    "plt.figure(figsize=(15,8))\n",
    "sns.heatmap(car.corr(),annot=True,cmap=\"YlGnBu\")"
   ]
  },
  {
   "cell_type": "markdown",
   "metadata": {},
   "source": [
    "- <b>We have drawn heat map of dataset and we are mainely focused on price variable as that is the dependent variable and we can see which all the variables are highly correlated to it.This will help us to build the modal and which variable to consider at the beginning to create modal</b>"
   ]
  },
  {
   "cell_type": "code",
   "execution_count": 52,
   "metadata": {},
   "outputs": [
    {
     "name": "stdout",
     "output_type": "stream",
     "text": [
      "<class 'pandas.core.frame.DataFrame'>\n",
      "Int64Index: 205 entries, 0 to 204\n",
      "Data columns (total 25 columns):\n",
      "symboling           205 non-null int64\n",
      "fueltype            205 non-null object\n",
      "aspiration          205 non-null object\n",
      "doornumber          205 non-null object\n",
      "carbody             205 non-null object\n",
      "drivewheel          205 non-null object\n",
      "enginelocation      205 non-null object\n",
      "wheelbase           205 non-null float64\n",
      "carlength           205 non-null float64\n",
      "carwidth            205 non-null float64\n",
      "carheight           205 non-null float64\n",
      "curbweight          205 non-null int64\n",
      "enginetype          205 non-null object\n",
      "cylindernumber      205 non-null object\n",
      "enginesize          205 non-null int64\n",
      "fuelsystem          205 non-null object\n",
      "boreratio           205 non-null float64\n",
      "stroke              205 non-null float64\n",
      "compressionratio    205 non-null float64\n",
      "horsepower          205 non-null int64\n",
      "peakrpm             205 non-null int64\n",
      "citympg             205 non-null int64\n",
      "highwaympg          205 non-null int64\n",
      "price               205 non-null float64\n",
      "company             205 non-null object\n",
      "dtypes: float64(8), int64(7), object(10)\n",
      "memory usage: 51.6+ KB\n"
     ]
    }
   ],
   "source": [
    "car.info()"
   ]
  },
  {
   "cell_type": "markdown",
   "metadata": {},
   "source": [
    "- <b>For ease of building the modal lets convert cylinder number from categorical to numerical as they are in numerical fashion written in words</b>"
   ]
  },
  {
   "cell_type": "code",
   "execution_count": 53,
   "metadata": {},
   "outputs": [],
   "source": [
    "def tonums(data):\n",
    "    if data.lower()=='one':\n",
    "        return 1\n",
    "    elif data.lower()=='two':\n",
    "        return 2\n",
    "    elif data.lower()=='three':\n",
    "        return 3\n",
    "    elif data.lower()=='four':\n",
    "        return 4\n",
    "    elif data.lower()=='five':\n",
    "        return 5\n",
    "    elif data.lower()=='eight':\n",
    "        return 8\n",
    "    elif data.lower()=='six':\n",
    "        return 6\n",
    "    elif data.lower()=='twelve':\n",
    "        return 12"
   ]
  },
  {
   "cell_type": "markdown",
   "metadata": {},
   "source": [
    "- Above function converts categorical cylinders to numerical ones."
   ]
  },
  {
   "cell_type": "code",
   "execution_count": 54,
   "metadata": {},
   "outputs": [
    {
     "data": {
      "text/plain": [
       "array(['eight', 'five', 'four', 'six', 'three', 'twelve', 'two'],\n",
       "      dtype=object)"
      ]
     },
     "execution_count": 54,
     "metadata": {},
     "output_type": "execute_result"
    }
   ],
   "source": [
    "np.unique(car['cylindernumber'])"
   ]
  },
  {
   "cell_type": "code",
   "execution_count": 55,
   "metadata": {},
   "outputs": [],
   "source": [
    "car['cylindernumber']=car['cylindernumber'].map(tonums)"
   ]
  },
  {
   "cell_type": "code",
   "execution_count": 56,
   "metadata": {},
   "outputs": [
    {
     "data": {
      "text/plain": [
       "Series([], Name: cylindernumber, dtype: int64)"
      ]
     },
     "execution_count": 56,
     "metadata": {},
     "output_type": "execute_result"
    }
   ],
   "source": [
    "car.loc[car['cylindernumber'].isnull(),'cylindernumber']"
   ]
  },
  {
   "cell_type": "markdown",
   "metadata": {},
   "source": [
    "- <b>We need to do dummy encoding before building modal as it only accepts numerical values</b>"
   ]
  },
  {
   "cell_type": "code",
   "execution_count": 57,
   "metadata": {},
   "outputs": [],
   "source": [
    "car_dummies=pd.get_dummies(car,drop_first=True)"
   ]
  },
  {
   "cell_type": "code",
   "execution_count": 58,
   "metadata": {},
   "outputs": [
    {
     "data": {
      "text/html": [
       "<div>\n",
       "<style scoped>\n",
       "    .dataframe tbody tr th:only-of-type {\n",
       "        vertical-align: middle;\n",
       "    }\n",
       "\n",
       "    .dataframe tbody tr th {\n",
       "        vertical-align: top;\n",
       "    }\n",
       "\n",
       "    .dataframe thead th {\n",
       "        text-align: right;\n",
       "    }\n",
       "</style>\n",
       "<table border=\"1\" class=\"dataframe\">\n",
       "  <thead>\n",
       "    <tr style=\"text-align: right;\">\n",
       "      <th></th>\n",
       "      <th>symboling</th>\n",
       "      <th>wheelbase</th>\n",
       "      <th>carlength</th>\n",
       "      <th>carwidth</th>\n",
       "      <th>carheight</th>\n",
       "      <th>curbweight</th>\n",
       "      <th>cylindernumber</th>\n",
       "      <th>enginesize</th>\n",
       "      <th>boreratio</th>\n",
       "      <th>stroke</th>\n",
       "      <th>...</th>\n",
       "      <th>company_nissan</th>\n",
       "      <th>company_peugeot</th>\n",
       "      <th>company_plymouth</th>\n",
       "      <th>company_porsche</th>\n",
       "      <th>company_renault</th>\n",
       "      <th>company_saab</th>\n",
       "      <th>company_subaru</th>\n",
       "      <th>company_toyota</th>\n",
       "      <th>company_volkswagen</th>\n",
       "      <th>company_volvo</th>\n",
       "    </tr>\n",
       "  </thead>\n",
       "  <tbody>\n",
       "    <tr>\n",
       "      <th>0</th>\n",
       "      <td>3</td>\n",
       "      <td>88.6</td>\n",
       "      <td>168.8</td>\n",
       "      <td>64.1</td>\n",
       "      <td>48.8</td>\n",
       "      <td>2548</td>\n",
       "      <td>4</td>\n",
       "      <td>130</td>\n",
       "      <td>3.47</td>\n",
       "      <td>2.68</td>\n",
       "      <td>...</td>\n",
       "      <td>0</td>\n",
       "      <td>0</td>\n",
       "      <td>0</td>\n",
       "      <td>0</td>\n",
       "      <td>0</td>\n",
       "      <td>0</td>\n",
       "      <td>0</td>\n",
       "      <td>0</td>\n",
       "      <td>0</td>\n",
       "      <td>0</td>\n",
       "    </tr>\n",
       "    <tr>\n",
       "      <th>1</th>\n",
       "      <td>3</td>\n",
       "      <td>88.6</td>\n",
       "      <td>168.8</td>\n",
       "      <td>64.1</td>\n",
       "      <td>48.8</td>\n",
       "      <td>2548</td>\n",
       "      <td>4</td>\n",
       "      <td>130</td>\n",
       "      <td>3.47</td>\n",
       "      <td>2.68</td>\n",
       "      <td>...</td>\n",
       "      <td>0</td>\n",
       "      <td>0</td>\n",
       "      <td>0</td>\n",
       "      <td>0</td>\n",
       "      <td>0</td>\n",
       "      <td>0</td>\n",
       "      <td>0</td>\n",
       "      <td>0</td>\n",
       "      <td>0</td>\n",
       "      <td>0</td>\n",
       "    </tr>\n",
       "    <tr>\n",
       "      <th>2</th>\n",
       "      <td>1</td>\n",
       "      <td>94.5</td>\n",
       "      <td>171.2</td>\n",
       "      <td>65.5</td>\n",
       "      <td>52.4</td>\n",
       "      <td>2823</td>\n",
       "      <td>6</td>\n",
       "      <td>152</td>\n",
       "      <td>2.68</td>\n",
       "      <td>3.47</td>\n",
       "      <td>...</td>\n",
       "      <td>0</td>\n",
       "      <td>0</td>\n",
       "      <td>0</td>\n",
       "      <td>0</td>\n",
       "      <td>0</td>\n",
       "      <td>0</td>\n",
       "      <td>0</td>\n",
       "      <td>0</td>\n",
       "      <td>0</td>\n",
       "      <td>0</td>\n",
       "    </tr>\n",
       "    <tr>\n",
       "      <th>3</th>\n",
       "      <td>2</td>\n",
       "      <td>99.8</td>\n",
       "      <td>176.6</td>\n",
       "      <td>66.2</td>\n",
       "      <td>54.3</td>\n",
       "      <td>2337</td>\n",
       "      <td>4</td>\n",
       "      <td>109</td>\n",
       "      <td>3.19</td>\n",
       "      <td>3.40</td>\n",
       "      <td>...</td>\n",
       "      <td>0</td>\n",
       "      <td>0</td>\n",
       "      <td>0</td>\n",
       "      <td>0</td>\n",
       "      <td>0</td>\n",
       "      <td>0</td>\n",
       "      <td>0</td>\n",
       "      <td>0</td>\n",
       "      <td>0</td>\n",
       "      <td>0</td>\n",
       "    </tr>\n",
       "    <tr>\n",
       "      <th>4</th>\n",
       "      <td>2</td>\n",
       "      <td>99.4</td>\n",
       "      <td>176.6</td>\n",
       "      <td>66.4</td>\n",
       "      <td>54.3</td>\n",
       "      <td>2824</td>\n",
       "      <td>5</td>\n",
       "      <td>136</td>\n",
       "      <td>3.19</td>\n",
       "      <td>3.40</td>\n",
       "      <td>...</td>\n",
       "      <td>0</td>\n",
       "      <td>0</td>\n",
       "      <td>0</td>\n",
       "      <td>0</td>\n",
       "      <td>0</td>\n",
       "      <td>0</td>\n",
       "      <td>0</td>\n",
       "      <td>0</td>\n",
       "      <td>0</td>\n",
       "      <td>0</td>\n",
       "    </tr>\n",
       "  </tbody>\n",
       "</table>\n",
       "<p>5 rows × 60 columns</p>\n",
       "</div>"
      ],
      "text/plain": [
       "   symboling  wheelbase  carlength  carwidth  carheight  curbweight  \\\n",
       "0          3       88.6      168.8      64.1       48.8        2548   \n",
       "1          3       88.6      168.8      64.1       48.8        2548   \n",
       "2          1       94.5      171.2      65.5       52.4        2823   \n",
       "3          2       99.8      176.6      66.2       54.3        2337   \n",
       "4          2       99.4      176.6      66.4       54.3        2824   \n",
       "\n",
       "   cylindernumber  enginesize  boreratio  stroke      ...        \\\n",
       "0               4         130       3.47    2.68      ...         \n",
       "1               4         130       3.47    2.68      ...         \n",
       "2               6         152       2.68    3.47      ...         \n",
       "3               4         109       3.19    3.40      ...         \n",
       "4               5         136       3.19    3.40      ...         \n",
       "\n",
       "   company_nissan  company_peugeot  company_plymouth  company_porsche  \\\n",
       "0               0                0                 0                0   \n",
       "1               0                0                 0                0   \n",
       "2               0                0                 0                0   \n",
       "3               0                0                 0                0   \n",
       "4               0                0                 0                0   \n",
       "\n",
       "   company_renault  company_saab  company_subaru  company_toyota  \\\n",
       "0                0             0               0               0   \n",
       "1                0             0               0               0   \n",
       "2                0             0               0               0   \n",
       "3                0             0               0               0   \n",
       "4                0             0               0               0   \n",
       "\n",
       "   company_volkswagen  company_volvo  \n",
       "0                   0              0  \n",
       "1                   0              0  \n",
       "2                   0              0  \n",
       "3                   0              0  \n",
       "4                   0              0  \n",
       "\n",
       "[5 rows x 60 columns]"
      ]
     },
     "execution_count": 58,
     "metadata": {},
     "output_type": "execute_result"
    }
   ],
   "source": [
    "car_dummies.head()"
   ]
  },
  {
   "cell_type": "markdown",
   "metadata": {},
   "source": [
    "- After dummy encoding we get 60 columns.We are dropping first which means if we have <code>n</code> categorical vars than the dummy function will return <code>n-1</code> columns."
   ]
  },
  {
   "cell_type": "code",
   "execution_count": 59,
   "metadata": {},
   "outputs": [],
   "source": [
    "from sklearn.model_selection import train_test_split"
   ]
  },
  {
   "cell_type": "markdown",
   "metadata": {},
   "source": [
    "- We need to divide the data into train and test.We have reserved 70% of data for train and 30% for testing."
   ]
  },
  {
   "cell_type": "code",
   "execution_count": 60,
   "metadata": {},
   "outputs": [],
   "source": [
    "df_train,df_test=train_test_split(car_dummies,test_size=0.3,train_size=0.7,random_state=100)"
   ]
  },
  {
   "cell_type": "code",
   "execution_count": 61,
   "metadata": {},
   "outputs": [],
   "source": [
    "from sklearn.preprocessing import MinMaxScaler"
   ]
  },
  {
   "cell_type": "markdown",
   "metadata": {},
   "source": [
    "- We need to bring all numerical variable in same scale before modal building this is done by using MinMax scaler."
   ]
  },
  {
   "cell_type": "code",
   "execution_count": 62,
   "metadata": {},
   "outputs": [],
   "source": [
    "scaler=MinMaxScaler()"
   ]
  },
  {
   "cell_type": "code",
   "execution_count": 63,
   "metadata": {},
   "outputs": [
    {
     "data": {
      "text/plain": [
       "Index(['symboling', 'fueltype', 'aspiration', 'doornumber', 'carbody',\n",
       "       'drivewheel', 'enginelocation', 'wheelbase', 'carlength', 'carwidth',\n",
       "       'carheight', 'curbweight', 'enginetype', 'cylindernumber', 'enginesize',\n",
       "       'fuelsystem', 'boreratio', 'stroke', 'compressionratio', 'horsepower',\n",
       "       'peakrpm', 'citympg', 'highwaympg', 'price', 'company'],\n",
       "      dtype='object')"
      ]
     },
     "execution_count": 63,
     "metadata": {},
     "output_type": "execute_result"
    }
   ],
   "source": [
    "car.columns"
   ]
  },
  {
   "cell_type": "code",
   "execution_count": 64,
   "metadata": {},
   "outputs": [],
   "source": [
    "vars=['symboling','wheelbase','carlength','carwidth','carheight','curbweight','cylindernumber','enginesize','boreratio','stroke','compressionratio', 'horsepower',\n",
    "       'peakrpm', 'citympg', 'highwaympg', 'price']\n",
    "df_train[vars]=scaler.fit_transform(df_train[vars])"
   ]
  },
  {
   "cell_type": "code",
   "execution_count": 65,
   "metadata": {},
   "outputs": [
    {
     "data": {
      "text/html": [
       "<div>\n",
       "<style scoped>\n",
       "    .dataframe tbody tr th:only-of-type {\n",
       "        vertical-align: middle;\n",
       "    }\n",
       "\n",
       "    .dataframe tbody tr th {\n",
       "        vertical-align: top;\n",
       "    }\n",
       "\n",
       "    .dataframe thead th {\n",
       "        text-align: right;\n",
       "    }\n",
       "</style>\n",
       "<table border=\"1\" class=\"dataframe\">\n",
       "  <thead>\n",
       "    <tr style=\"text-align: right;\">\n",
       "      <th></th>\n",
       "      <th>symboling</th>\n",
       "      <th>wheelbase</th>\n",
       "      <th>carlength</th>\n",
       "      <th>carwidth</th>\n",
       "      <th>carheight</th>\n",
       "      <th>curbweight</th>\n",
       "      <th>cylindernumber</th>\n",
       "      <th>enginesize</th>\n",
       "      <th>boreratio</th>\n",
       "      <th>stroke</th>\n",
       "      <th>...</th>\n",
       "      <th>company_nissan</th>\n",
       "      <th>company_peugeot</th>\n",
       "      <th>company_plymouth</th>\n",
       "      <th>company_porsche</th>\n",
       "      <th>company_renault</th>\n",
       "      <th>company_saab</th>\n",
       "      <th>company_subaru</th>\n",
       "      <th>company_toyota</th>\n",
       "      <th>company_volkswagen</th>\n",
       "      <th>company_volvo</th>\n",
       "    </tr>\n",
       "  </thead>\n",
       "  <tbody>\n",
       "    <tr>\n",
       "      <th>count</th>\n",
       "      <td>143.000000</td>\n",
       "      <td>143.000000</td>\n",
       "      <td>143.000000</td>\n",
       "      <td>143.000000</td>\n",
       "      <td>143.000000</td>\n",
       "      <td>143.000000</td>\n",
       "      <td>143.000000</td>\n",
       "      <td>143.000000</td>\n",
       "      <td>143.000000</td>\n",
       "      <td>143.000000</td>\n",
       "      <td>...</td>\n",
       "      <td>143.000000</td>\n",
       "      <td>143.000000</td>\n",
       "      <td>143.000000</td>\n",
       "      <td>143.000000</td>\n",
       "      <td>143.000000</td>\n",
       "      <td>143.000000</td>\n",
       "      <td>143.000000</td>\n",
       "      <td>143.000000</td>\n",
       "      <td>143.000000</td>\n",
       "      <td>143.000000</td>\n",
       "    </tr>\n",
       "    <tr>\n",
       "      <th>mean</th>\n",
       "      <td>0.559441</td>\n",
       "      <td>0.411141</td>\n",
       "      <td>0.525476</td>\n",
       "      <td>0.461655</td>\n",
       "      <td>0.509004</td>\n",
       "      <td>0.407878</td>\n",
       "      <td>0.240559</td>\n",
       "      <td>0.241351</td>\n",
       "      <td>0.497946</td>\n",
       "      <td>0.535389</td>\n",
       "      <td>...</td>\n",
       "      <td>0.097902</td>\n",
       "      <td>0.055944</td>\n",
       "      <td>0.027972</td>\n",
       "      <td>0.020979</td>\n",
       "      <td>0.013986</td>\n",
       "      <td>0.020979</td>\n",
       "      <td>0.076923</td>\n",
       "      <td>0.139860</td>\n",
       "      <td>0.048951</td>\n",
       "      <td>0.041958</td>\n",
       "    </tr>\n",
       "    <tr>\n",
       "      <th>std</th>\n",
       "      <td>0.239200</td>\n",
       "      <td>0.205581</td>\n",
       "      <td>0.204848</td>\n",
       "      <td>0.184517</td>\n",
       "      <td>0.215378</td>\n",
       "      <td>0.211269</td>\n",
       "      <td>0.115818</td>\n",
       "      <td>0.154619</td>\n",
       "      <td>0.207140</td>\n",
       "      <td>0.157843</td>\n",
       "      <td>...</td>\n",
       "      <td>0.298227</td>\n",
       "      <td>0.230621</td>\n",
       "      <td>0.165472</td>\n",
       "      <td>0.143818</td>\n",
       "      <td>0.117845</td>\n",
       "      <td>0.143818</td>\n",
       "      <td>0.267406</td>\n",
       "      <td>0.348061</td>\n",
       "      <td>0.216524</td>\n",
       "      <td>0.201198</td>\n",
       "    </tr>\n",
       "    <tr>\n",
       "      <th>min</th>\n",
       "      <td>0.000000</td>\n",
       "      <td>0.000000</td>\n",
       "      <td>0.000000</td>\n",
       "      <td>0.000000</td>\n",
       "      <td>0.000000</td>\n",
       "      <td>0.000000</td>\n",
       "      <td>0.000000</td>\n",
       "      <td>0.000000</td>\n",
       "      <td>0.000000</td>\n",
       "      <td>0.000000</td>\n",
       "      <td>...</td>\n",
       "      <td>0.000000</td>\n",
       "      <td>0.000000</td>\n",
       "      <td>0.000000</td>\n",
       "      <td>0.000000</td>\n",
       "      <td>0.000000</td>\n",
       "      <td>0.000000</td>\n",
       "      <td>0.000000</td>\n",
       "      <td>0.000000</td>\n",
       "      <td>0.000000</td>\n",
       "      <td>0.000000</td>\n",
       "    </tr>\n",
       "    <tr>\n",
       "      <th>25%</th>\n",
       "      <td>0.400000</td>\n",
       "      <td>0.272414</td>\n",
       "      <td>0.399187</td>\n",
       "      <td>0.304167</td>\n",
       "      <td>0.353982</td>\n",
       "      <td>0.245539</td>\n",
       "      <td>0.200000</td>\n",
       "      <td>0.135849</td>\n",
       "      <td>0.305556</td>\n",
       "      <td>0.464646</td>\n",
       "      <td>...</td>\n",
       "      <td>0.000000</td>\n",
       "      <td>0.000000</td>\n",
       "      <td>0.000000</td>\n",
       "      <td>0.000000</td>\n",
       "      <td>0.000000</td>\n",
       "      <td>0.000000</td>\n",
       "      <td>0.000000</td>\n",
       "      <td>0.000000</td>\n",
       "      <td>0.000000</td>\n",
       "      <td>0.000000</td>\n",
       "    </tr>\n",
       "    <tr>\n",
       "      <th>50%</th>\n",
       "      <td>0.600000</td>\n",
       "      <td>0.341379</td>\n",
       "      <td>0.502439</td>\n",
       "      <td>0.425000</td>\n",
       "      <td>0.522124</td>\n",
       "      <td>0.355702</td>\n",
       "      <td>0.200000</td>\n",
       "      <td>0.184906</td>\n",
       "      <td>0.500000</td>\n",
       "      <td>0.545455</td>\n",
       "      <td>...</td>\n",
       "      <td>0.000000</td>\n",
       "      <td>0.000000</td>\n",
       "      <td>0.000000</td>\n",
       "      <td>0.000000</td>\n",
       "      <td>0.000000</td>\n",
       "      <td>0.000000</td>\n",
       "      <td>0.000000</td>\n",
       "      <td>0.000000</td>\n",
       "      <td>0.000000</td>\n",
       "      <td>0.000000</td>\n",
       "    </tr>\n",
       "    <tr>\n",
       "      <th>75%</th>\n",
       "      <td>0.600000</td>\n",
       "      <td>0.503448</td>\n",
       "      <td>0.669919</td>\n",
       "      <td>0.550000</td>\n",
       "      <td>0.668142</td>\n",
       "      <td>0.559542</td>\n",
       "      <td>0.200000</td>\n",
       "      <td>0.301887</td>\n",
       "      <td>0.682540</td>\n",
       "      <td>0.611111</td>\n",
       "      <td>...</td>\n",
       "      <td>0.000000</td>\n",
       "      <td>0.000000</td>\n",
       "      <td>0.000000</td>\n",
       "      <td>0.000000</td>\n",
       "      <td>0.000000</td>\n",
       "      <td>0.000000</td>\n",
       "      <td>0.000000</td>\n",
       "      <td>0.000000</td>\n",
       "      <td>0.000000</td>\n",
       "      <td>0.000000</td>\n",
       "    </tr>\n",
       "    <tr>\n",
       "      <th>max</th>\n",
       "      <td>1.000000</td>\n",
       "      <td>1.000000</td>\n",
       "      <td>1.000000</td>\n",
       "      <td>1.000000</td>\n",
       "      <td>1.000000</td>\n",
       "      <td>1.000000</td>\n",
       "      <td>1.000000</td>\n",
       "      <td>1.000000</td>\n",
       "      <td>1.000000</td>\n",
       "      <td>1.000000</td>\n",
       "      <td>...</td>\n",
       "      <td>1.000000</td>\n",
       "      <td>1.000000</td>\n",
       "      <td>1.000000</td>\n",
       "      <td>1.000000</td>\n",
       "      <td>1.000000</td>\n",
       "      <td>1.000000</td>\n",
       "      <td>1.000000</td>\n",
       "      <td>1.000000</td>\n",
       "      <td>1.000000</td>\n",
       "      <td>1.000000</td>\n",
       "    </tr>\n",
       "  </tbody>\n",
       "</table>\n",
       "<p>8 rows × 60 columns</p>\n",
       "</div>"
      ],
      "text/plain": [
       "        symboling   wheelbase   carlength    carwidth   carheight  curbweight  \\\n",
       "count  143.000000  143.000000  143.000000  143.000000  143.000000  143.000000   \n",
       "mean     0.559441    0.411141    0.525476    0.461655    0.509004    0.407878   \n",
       "std      0.239200    0.205581    0.204848    0.184517    0.215378    0.211269   \n",
       "min      0.000000    0.000000    0.000000    0.000000    0.000000    0.000000   \n",
       "25%      0.400000    0.272414    0.399187    0.304167    0.353982    0.245539   \n",
       "50%      0.600000    0.341379    0.502439    0.425000    0.522124    0.355702   \n",
       "75%      0.600000    0.503448    0.669919    0.550000    0.668142    0.559542   \n",
       "max      1.000000    1.000000    1.000000    1.000000    1.000000    1.000000   \n",
       "\n",
       "       cylindernumber  enginesize   boreratio      stroke      ...        \\\n",
       "count      143.000000  143.000000  143.000000  143.000000      ...         \n",
       "mean         0.240559    0.241351    0.497946    0.535389      ...         \n",
       "std          0.115818    0.154619    0.207140    0.157843      ...         \n",
       "min          0.000000    0.000000    0.000000    0.000000      ...         \n",
       "25%          0.200000    0.135849    0.305556    0.464646      ...         \n",
       "50%          0.200000    0.184906    0.500000    0.545455      ...         \n",
       "75%          0.200000    0.301887    0.682540    0.611111      ...         \n",
       "max          1.000000    1.000000    1.000000    1.000000      ...         \n",
       "\n",
       "       company_nissan  company_peugeot  company_plymouth  company_porsche  \\\n",
       "count      143.000000       143.000000        143.000000       143.000000   \n",
       "mean         0.097902         0.055944          0.027972         0.020979   \n",
       "std          0.298227         0.230621          0.165472         0.143818   \n",
       "min          0.000000         0.000000          0.000000         0.000000   \n",
       "25%          0.000000         0.000000          0.000000         0.000000   \n",
       "50%          0.000000         0.000000          0.000000         0.000000   \n",
       "75%          0.000000         0.000000          0.000000         0.000000   \n",
       "max          1.000000         1.000000          1.000000         1.000000   \n",
       "\n",
       "       company_renault  company_saab  company_subaru  company_toyota  \\\n",
       "count       143.000000    143.000000      143.000000      143.000000   \n",
       "mean          0.013986      0.020979        0.076923        0.139860   \n",
       "std           0.117845      0.143818        0.267406        0.348061   \n",
       "min           0.000000      0.000000        0.000000        0.000000   \n",
       "25%           0.000000      0.000000        0.000000        0.000000   \n",
       "50%           0.000000      0.000000        0.000000        0.000000   \n",
       "75%           0.000000      0.000000        0.000000        0.000000   \n",
       "max           1.000000      1.000000        1.000000        1.000000   \n",
       "\n",
       "       company_volkswagen  company_volvo  \n",
       "count          143.000000     143.000000  \n",
       "mean             0.048951       0.041958  \n",
       "std              0.216524       0.201198  \n",
       "min              0.000000       0.000000  \n",
       "25%              0.000000       0.000000  \n",
       "50%              0.000000       0.000000  \n",
       "75%              0.000000       0.000000  \n",
       "max              1.000000       1.000000  \n",
       "\n",
       "[8 rows x 60 columns]"
      ]
     },
     "execution_count": 65,
     "metadata": {},
     "output_type": "execute_result"
    }
   ],
   "source": [
    "df_train.describe()"
   ]
  },
  {
   "cell_type": "markdown",
   "metadata": {},
   "source": [
    "- After fitTransform we can see that all numerical values are in scale of 0 and 1."
   ]
  },
  {
   "cell_type": "code",
   "execution_count": 66,
   "metadata": {},
   "outputs": [
    {
     "name": "stdout",
     "output_type": "stream",
     "text": [
      "<class 'pandas.core.frame.DataFrame'>\n",
      "Int64Index: 143 entries, 122 to 8\n",
      "Data columns (total 60 columns):\n",
      "symboling              143 non-null float64\n",
      "wheelbase              143 non-null float64\n",
      "carlength              143 non-null float64\n",
      "carwidth               143 non-null float64\n",
      "carheight              143 non-null float64\n",
      "curbweight             143 non-null float64\n",
      "cylindernumber         143 non-null float64\n",
      "enginesize             143 non-null float64\n",
      "boreratio              143 non-null float64\n",
      "stroke                 143 non-null float64\n",
      "compressionratio       143 non-null float64\n",
      "horsepower             143 non-null float64\n",
      "peakrpm                143 non-null float64\n",
      "citympg                143 non-null float64\n",
      "highwaympg             143 non-null float64\n",
      "price                  143 non-null float64\n",
      "fueltype_gas           143 non-null uint8\n",
      "aspiration_turbo       143 non-null uint8\n",
      "doornumber_two         143 non-null uint8\n",
      "carbody_hardtop        143 non-null uint8\n",
      "carbody_hatchback      143 non-null uint8\n",
      "carbody_sedan          143 non-null uint8\n",
      "carbody_wagon          143 non-null uint8\n",
      "drivewheel_fwd         143 non-null uint8\n",
      "drivewheel_rwd         143 non-null uint8\n",
      "enginelocation_rear    143 non-null uint8\n",
      "enginetype_dohcv       143 non-null uint8\n",
      "enginetype_l           143 non-null uint8\n",
      "enginetype_ohc         143 non-null uint8\n",
      "enginetype_ohcf        143 non-null uint8\n",
      "enginetype_ohcv        143 non-null uint8\n",
      "enginetype_rotor       143 non-null uint8\n",
      "fuelsystem_2bbl        143 non-null uint8\n",
      "fuelsystem_4bbl        143 non-null uint8\n",
      "fuelsystem_idi         143 non-null uint8\n",
      "fuelsystem_mfi         143 non-null uint8\n",
      "fuelsystem_mpfi        143 non-null uint8\n",
      "fuelsystem_spdi        143 non-null uint8\n",
      "fuelsystem_spfi        143 non-null uint8\n",
      "company_audi           143 non-null uint8\n",
      "company_bmw            143 non-null uint8\n",
      "company_buick          143 non-null uint8\n",
      "company_chevrolet      143 non-null uint8\n",
      "company_dodge          143 non-null uint8\n",
      "company_honda          143 non-null uint8\n",
      "company_isuzu          143 non-null uint8\n",
      "company_jaguar         143 non-null uint8\n",
      "company_mazda          143 non-null uint8\n",
      "company_mercury        143 non-null uint8\n",
      "company_mitsubishi     143 non-null uint8\n",
      "company_nissan         143 non-null uint8\n",
      "company_peugeot        143 non-null uint8\n",
      "company_plymouth       143 non-null uint8\n",
      "company_porsche        143 non-null uint8\n",
      "company_renault        143 non-null uint8\n",
      "company_saab           143 non-null uint8\n",
      "company_subaru         143 non-null uint8\n",
      "company_toyota         143 non-null uint8\n",
      "company_volkswagen     143 non-null uint8\n",
      "company_volvo          143 non-null uint8\n",
      "dtypes: float64(16), uint8(44)\n",
      "memory usage: 25.1 KB\n"
     ]
    }
   ],
   "source": [
    "df_train.info()"
   ]
  },
  {
   "cell_type": "code",
   "execution_count": 67,
   "metadata": {},
   "outputs": [],
   "source": [
    "y_train=df_train.pop('price')\n",
    "X_train=df_train"
   ]
  },
  {
   "cell_type": "markdown",
   "metadata": {},
   "source": [
    "- We need to seperate dependent and indepenedent variables which is done above."
   ]
  },
  {
   "cell_type": "code",
   "execution_count": 68,
   "metadata": {},
   "outputs": [
    {
     "data": {
      "text/html": [
       "<div>\n",
       "<style scoped>\n",
       "    .dataframe tbody tr th:only-of-type {\n",
       "        vertical-align: middle;\n",
       "    }\n",
       "\n",
       "    .dataframe tbody tr th {\n",
       "        vertical-align: top;\n",
       "    }\n",
       "\n",
       "    .dataframe thead th {\n",
       "        text-align: right;\n",
       "    }\n",
       "</style>\n",
       "<table border=\"1\" class=\"dataframe\">\n",
       "  <thead>\n",
       "    <tr style=\"text-align: right;\">\n",
       "      <th></th>\n",
       "      <th>symboling</th>\n",
       "      <th>wheelbase</th>\n",
       "      <th>carlength</th>\n",
       "      <th>carwidth</th>\n",
       "      <th>carheight</th>\n",
       "      <th>curbweight</th>\n",
       "      <th>cylindernumber</th>\n",
       "      <th>enginesize</th>\n",
       "      <th>boreratio</th>\n",
       "      <th>stroke</th>\n",
       "      <th>...</th>\n",
       "      <th>company_nissan</th>\n",
       "      <th>company_peugeot</th>\n",
       "      <th>company_plymouth</th>\n",
       "      <th>company_porsche</th>\n",
       "      <th>company_renault</th>\n",
       "      <th>company_saab</th>\n",
       "      <th>company_subaru</th>\n",
       "      <th>company_toyota</th>\n",
       "      <th>company_volkswagen</th>\n",
       "      <th>company_volvo</th>\n",
       "    </tr>\n",
       "  </thead>\n",
       "  <tbody>\n",
       "    <tr>\n",
       "      <th>122</th>\n",
       "      <td>0.6</td>\n",
       "      <td>0.244828</td>\n",
       "      <td>0.426016</td>\n",
       "      <td>0.291667</td>\n",
       "      <td>0.265487</td>\n",
       "      <td>0.272692</td>\n",
       "      <td>0.2</td>\n",
       "      <td>0.139623</td>\n",
       "      <td>0.230159</td>\n",
       "      <td>0.525253</td>\n",
       "      <td>...</td>\n",
       "      <td>0</td>\n",
       "      <td>0</td>\n",
       "      <td>1</td>\n",
       "      <td>0</td>\n",
       "      <td>0</td>\n",
       "      <td>0</td>\n",
       "      <td>0</td>\n",
       "      <td>0</td>\n",
       "      <td>0</td>\n",
       "      <td>0</td>\n",
       "    </tr>\n",
       "    <tr>\n",
       "      <th>125</th>\n",
       "      <td>1.0</td>\n",
       "      <td>0.272414</td>\n",
       "      <td>0.452033</td>\n",
       "      <td>0.666667</td>\n",
       "      <td>0.212389</td>\n",
       "      <td>0.500388</td>\n",
       "      <td>0.2</td>\n",
       "      <td>0.339623</td>\n",
       "      <td>1.000000</td>\n",
       "      <td>0.464646</td>\n",
       "      <td>...</td>\n",
       "      <td>0</td>\n",
       "      <td>0</td>\n",
       "      <td>0</td>\n",
       "      <td>1</td>\n",
       "      <td>0</td>\n",
       "      <td>0</td>\n",
       "      <td>0</td>\n",
       "      <td>0</td>\n",
       "      <td>0</td>\n",
       "      <td>0</td>\n",
       "    </tr>\n",
       "    <tr>\n",
       "      <th>166</th>\n",
       "      <td>0.6</td>\n",
       "      <td>0.272414</td>\n",
       "      <td>0.448780</td>\n",
       "      <td>0.308333</td>\n",
       "      <td>0.424779</td>\n",
       "      <td>0.314973</td>\n",
       "      <td>0.2</td>\n",
       "      <td>0.139623</td>\n",
       "      <td>0.444444</td>\n",
       "      <td>0.449495</td>\n",
       "      <td>...</td>\n",
       "      <td>0</td>\n",
       "      <td>0</td>\n",
       "      <td>0</td>\n",
       "      <td>0</td>\n",
       "      <td>0</td>\n",
       "      <td>0</td>\n",
       "      <td>0</td>\n",
       "      <td>1</td>\n",
       "      <td>0</td>\n",
       "      <td>0</td>\n",
       "    </tr>\n",
       "    <tr>\n",
       "      <th>1</th>\n",
       "      <td>1.0</td>\n",
       "      <td>0.068966</td>\n",
       "      <td>0.450407</td>\n",
       "      <td>0.316667</td>\n",
       "      <td>0.088496</td>\n",
       "      <td>0.411171</td>\n",
       "      <td>0.2</td>\n",
       "      <td>0.260377</td>\n",
       "      <td>0.626984</td>\n",
       "      <td>0.247475</td>\n",
       "      <td>...</td>\n",
       "      <td>0</td>\n",
       "      <td>0</td>\n",
       "      <td>0</td>\n",
       "      <td>0</td>\n",
       "      <td>0</td>\n",
       "      <td>0</td>\n",
       "      <td>0</td>\n",
       "      <td>0</td>\n",
       "      <td>0</td>\n",
       "      <td>0</td>\n",
       "    </tr>\n",
       "    <tr>\n",
       "      <th>199</th>\n",
       "      <td>0.2</td>\n",
       "      <td>0.610345</td>\n",
       "      <td>0.775610</td>\n",
       "      <td>0.575000</td>\n",
       "      <td>0.858407</td>\n",
       "      <td>0.647401</td>\n",
       "      <td>0.2</td>\n",
       "      <td>0.260377</td>\n",
       "      <td>0.746032</td>\n",
       "      <td>0.484848</td>\n",
       "      <td>...</td>\n",
       "      <td>0</td>\n",
       "      <td>0</td>\n",
       "      <td>0</td>\n",
       "      <td>0</td>\n",
       "      <td>0</td>\n",
       "      <td>0</td>\n",
       "      <td>0</td>\n",
       "      <td>0</td>\n",
       "      <td>0</td>\n",
       "      <td>1</td>\n",
       "    </tr>\n",
       "  </tbody>\n",
       "</table>\n",
       "<p>5 rows × 59 columns</p>\n",
       "</div>"
      ],
      "text/plain": [
       "     symboling  wheelbase  carlength  carwidth  carheight  curbweight  \\\n",
       "122        0.6   0.244828   0.426016  0.291667   0.265487    0.272692   \n",
       "125        1.0   0.272414   0.452033  0.666667   0.212389    0.500388   \n",
       "166        0.6   0.272414   0.448780  0.308333   0.424779    0.314973   \n",
       "1          1.0   0.068966   0.450407  0.316667   0.088496    0.411171   \n",
       "199        0.2   0.610345   0.775610  0.575000   0.858407    0.647401   \n",
       "\n",
       "     cylindernumber  enginesize  boreratio    stroke      ...        \\\n",
       "122             0.2    0.139623   0.230159  0.525253      ...         \n",
       "125             0.2    0.339623   1.000000  0.464646      ...         \n",
       "166             0.2    0.139623   0.444444  0.449495      ...         \n",
       "1               0.2    0.260377   0.626984  0.247475      ...         \n",
       "199             0.2    0.260377   0.746032  0.484848      ...         \n",
       "\n",
       "     company_nissan  company_peugeot  company_plymouth  company_porsche  \\\n",
       "122               0                0                 1                0   \n",
       "125               0                0                 0                1   \n",
       "166               0                0                 0                0   \n",
       "1                 0                0                 0                0   \n",
       "199               0                0                 0                0   \n",
       "\n",
       "     company_renault  company_saab  company_subaru  company_toyota  \\\n",
       "122                0             0               0               0   \n",
       "125                0             0               0               0   \n",
       "166                0             0               0               1   \n",
       "1                  0             0               0               0   \n",
       "199                0             0               0               0   \n",
       "\n",
       "     company_volkswagen  company_volvo  \n",
       "122                   0              0  \n",
       "125                   0              0  \n",
       "166                   0              0  \n",
       "1                     0              0  \n",
       "199                   0              1  \n",
       "\n",
       "[5 rows x 59 columns]"
      ]
     },
     "execution_count": 68,
     "metadata": {},
     "output_type": "execute_result"
    }
   ],
   "source": [
    "X_train.head()"
   ]
  },
  {
   "cell_type": "markdown",
   "metadata": {},
   "source": [
    "- <b>Let's start building modal.First we use forward variable selection and then we can apply RFE to eliminate remaining features.</b>"
   ]
  },
  {
   "cell_type": "code",
   "execution_count": 69,
   "metadata": {},
   "outputs": [],
   "source": [
    "import statsmodels.api as sm"
   ]
  },
  {
   "cell_type": "code",
   "execution_count": 70,
   "metadata": {},
   "outputs": [],
   "source": [
    "X_train_con1=sm.add_constant(X_train[['enginesize']])"
   ]
  },
  {
   "cell_type": "markdown",
   "metadata": {},
   "source": [
    "- From the heat map which we plotted previously we know that enginesize is highly correlated to price.So first we choose that and continue the selection."
   ]
  },
  {
   "cell_type": "code",
   "execution_count": 71,
   "metadata": {},
   "outputs": [],
   "source": [
    "lr1=sm.OLS(y_train,X_train_con1).fit()"
   ]
  },
  {
   "cell_type": "code",
   "execution_count": 72,
   "metadata": {},
   "outputs": [
    {
     "data": {
      "text/plain": [
       "const        -0.072888\n",
       "enginesize    1.210676\n",
       "dtype: float64"
      ]
     },
     "execution_count": 72,
     "metadata": {},
     "output_type": "execute_result"
    }
   ],
   "source": [
    "lr1.params"
   ]
  },
  {
   "cell_type": "code",
   "execution_count": 73,
   "metadata": {},
   "outputs": [
    {
     "name": "stdout",
     "output_type": "stream",
     "text": [
      "                            OLS Regression Results                            \n",
      "==============================================================================\n",
      "Dep. Variable:                  price   R-squared:                       0.753\n",
      "Model:                            OLS   Adj. R-squared:                  0.752\n",
      "Method:                 Least Squares   F-statistic:                     430.5\n",
      "Date:                Sat, 15 Jun 2019   Prob (F-statistic):           1.09e-44\n",
      "Time:                        21:34:11   Log-Likelihood:                 117.01\n",
      "No. Observations:                 143   AIC:                            -230.0\n",
      "Df Residuals:                     141   BIC:                            -224.1\n",
      "Df Model:                           1                                         \n",
      "Covariance Type:            nonrobust                                         \n",
      "==============================================================================\n",
      "                 coef    std err          t      P>|t|      [0.025      0.975]\n",
      "------------------------------------------------------------------------------\n",
      "const         -0.0729      0.017     -4.362      0.000      -0.106      -0.040\n",
      "enginesize     1.2107      0.058     20.748      0.000       1.095       1.326\n",
      "==============================================================================\n",
      "Omnibus:                       23.257   Durbin-Watson:                   1.990\n",
      "Prob(Omnibus):                  0.000   Jarque-Bera (JB):               32.410\n",
      "Skew:                           0.885   Prob(JB):                     9.17e-08\n",
      "Kurtosis:                       4.520   Cond. No.                         6.88\n",
      "==============================================================================\n",
      "\n",
      "Warnings:\n",
      "[1] Standard Errors assume that the covariance matrix of the errors is correctly specified.\n"
     ]
    }
   ],
   "source": [
    "print(lr1.summary())"
   ]
  },
  {
   "cell_type": "markdown",
   "metadata": {},
   "source": [
    "- We can observe the adj R squared to know how much variance it can explain and p value to take decide the significance."
   ]
  },
  {
   "cell_type": "markdown",
   "metadata": {},
   "source": [
    "- This forward selection we continue till all the numerical variables are exhausted and than we perform RFE on selected numerical variables and dummy coded categorical variables."
   ]
  },
  {
   "cell_type": "code",
   "execution_count": 74,
   "metadata": {},
   "outputs": [
    {
     "name": "stdout",
     "output_type": "stream",
     "text": [
      "                            OLS Regression Results                            \n",
      "==============================================================================\n",
      "Dep. Variable:                  price   R-squared:                       0.802\n",
      "Model:                            OLS   Adj. R-squared:                  0.799\n",
      "Method:                 Least Squares   F-statistic:                     284.0\n",
      "Date:                Sat, 15 Jun 2019   Prob (F-statistic):           5.31e-50\n",
      "Time:                        21:34:11   Log-Likelihood:                 132.84\n",
      "No. Observations:                 143   AIC:                            -259.7\n",
      "Df Residuals:                     140   BIC:                            -250.8\n",
      "Df Model:                           2                                         \n",
      "Covariance Type:            nonrobust                                         \n",
      "==============================================================================\n",
      "                 coef    std err          t      P>|t|      [0.025      0.975]\n",
      "------------------------------------------------------------------------------\n",
      "const         -0.1281      0.018     -7.239      0.000      -0.163      -0.093\n",
      "enginesize     0.6782      0.105      6.489      0.000       0.472       0.885\n",
      "curbweight     0.4505      0.076      5.890      0.000       0.299       0.602\n",
      "==============================================================================\n",
      "Omnibus:                       36.002   Durbin-Watson:                   1.830\n",
      "Prob(Omnibus):                  0.000   Jarque-Bera (JB):               85.998\n",
      "Skew:                           1.023   Prob(JB):                     2.12e-19\n",
      "Kurtosis:                       6.202   Cond. No.                         17.3\n",
      "==============================================================================\n",
      "\n",
      "Warnings:\n",
      "[1] Standard Errors assume that the covariance matrix of the errors is correctly specified.\n"
     ]
    }
   ],
   "source": [
    "X_train_con2=sm.add_constant(X_train[['enginesize','curbweight']])\n",
    "lr2=sm.OLS(y_train,X_train_con2).fit()\n",
    "print(lr2.summary())"
   ]
  },
  {
   "cell_type": "code",
   "execution_count": 75,
   "metadata": {},
   "outputs": [
    {
     "name": "stdout",
     "output_type": "stream",
     "text": [
      "                            OLS Regression Results                            \n",
      "==============================================================================\n",
      "Dep. Variable:                  price   R-squared:                       0.819\n",
      "Model:                            OLS   Adj. R-squared:                  0.815\n",
      "Method:                 Least Squares   F-statistic:                     209.7\n",
      "Date:                Sat, 15 Jun 2019   Prob (F-statistic):           2.16e-51\n",
      "Time:                        21:34:11   Log-Likelihood:                 139.18\n",
      "No. Observations:                 143   AIC:                            -270.4\n",
      "Df Residuals:                     139   BIC:                            -258.5\n",
      "Df Model:                           3                                         \n",
      "Covariance Type:            nonrobust                                         \n",
      "==============================================================================\n",
      "                 coef    std err          t      P>|t|      [0.025      0.975]\n",
      "------------------------------------------------------------------------------\n",
      "const         -0.1269      0.017     -7.469      0.000      -0.161      -0.093\n",
      "enginesize     0.4743      0.115      4.114      0.000       0.246       0.702\n",
      "curbweight     0.4020      0.075      5.384      0.000       0.254       0.550\n",
      "horsepower     0.2982      0.083      3.589      0.000       0.134       0.463\n",
      "==============================================================================\n",
      "Omnibus:                       25.597   Durbin-Watson:                   1.805\n",
      "Prob(Omnibus):                  0.000   Jarque-Bera (JB):               55.389\n",
      "Skew:                           0.751   Prob(JB):                     9.38e-13\n",
      "Kurtosis:                       5.653   Cond. No.                         19.5\n",
      "==============================================================================\n",
      "\n",
      "Warnings:\n",
      "[1] Standard Errors assume that the covariance matrix of the errors is correctly specified.\n"
     ]
    }
   ],
   "source": [
    "X_train_con3=sm.add_constant(X_train[['enginesize','curbweight','horsepower']])\n",
    "lr3=sm.OLS(y_train,X_train_con3).fit()\n",
    "print(lr3.summary())"
   ]
  },
  {
   "cell_type": "code",
   "execution_count": 76,
   "metadata": {},
   "outputs": [
    {
     "name": "stdout",
     "output_type": "stream",
     "text": [
      "                            OLS Regression Results                            \n",
      "==============================================================================\n",
      "Dep. Variable:                  price   R-squared:                       0.826\n",
      "Model:                            OLS   Adj. R-squared:                  0.821\n",
      "Method:                 Least Squares   F-statistic:                     164.3\n",
      "Date:                Sat, 15 Jun 2019   Prob (F-statistic):           1.91e-51\n",
      "Time:                        21:34:11   Log-Likelihood:                 142.17\n",
      "No. Observations:                 143   AIC:                            -274.3\n",
      "Df Residuals:                     138   BIC:                            -259.5\n",
      "Df Model:                           4                                         \n",
      "Covariance Type:            nonrobust                                         \n",
      "==============================================================================\n",
      "                 coef    std err          t      P>|t|      [0.025      0.975]\n",
      "------------------------------------------------------------------------------\n",
      "const         -0.1582      0.021     -7.502      0.000      -0.200      -0.117\n",
      "enginesize     0.4862      0.113      4.286      0.000       0.262       0.710\n",
      "curbweight     0.2453      0.098      2.511      0.013       0.052       0.439\n",
      "horsepower     0.2825      0.082      3.448      0.001       0.120       0.444\n",
      "carwidth       0.2078      0.086      2.429      0.016       0.039       0.377\n",
      "==============================================================================\n",
      "Omnibus:                       36.489   Durbin-Watson:                   1.799\n",
      "Prob(Omnibus):                  0.000   Jarque-Bera (JB):               92.927\n",
      "Skew:                           1.009   Prob(JB):                     6.62e-21\n",
      "Kurtosis:                       6.394   Cond. No.                         22.5\n",
      "==============================================================================\n",
      "\n",
      "Warnings:\n",
      "[1] Standard Errors assume that the covariance matrix of the errors is correctly specified.\n"
     ]
    }
   ],
   "source": [
    "X_train_con4=sm.add_constant(X_train[['enginesize','curbweight','horsepower','carwidth']])\n",
    "lr4=sm.OLS(y_train,X_train_con4).fit()\n",
    "print(lr4.summary())"
   ]
  },
  {
   "cell_type": "code",
   "execution_count": 77,
   "metadata": {},
   "outputs": [
    {
     "name": "stdout",
     "output_type": "stream",
     "text": [
      "                            OLS Regression Results                            \n",
      "==============================================================================\n",
      "Dep. Variable:                  price   R-squared:                       0.828\n",
      "Model:                            OLS   Adj. R-squared:                  0.822\n",
      "Method:                 Least Squares   F-statistic:                     131.9\n",
      "Date:                Sat, 15 Jun 2019   Prob (F-statistic):           1.45e-50\n",
      "Time:                        21:34:11   Log-Likelihood:                 142.79\n",
      "No. Observations:                 143   AIC:                            -273.6\n",
      "Df Residuals:                     137   BIC:                            -255.8\n",
      "Df Model:                           5                                         \n",
      "Covariance Type:            nonrobust                                         \n",
      "==============================================================================\n",
      "                 coef    std err          t      P>|t|      [0.025      0.975]\n",
      "------------------------------------------------------------------------------\n",
      "const         -0.1469      0.023     -6.258      0.000      -0.193      -0.100\n",
      "enginesize     0.4746      0.114      4.169      0.000       0.249       0.700\n",
      "curbweight     0.3262      0.122      2.664      0.009       0.084       0.568\n",
      "horsepower     0.2537      0.086      2.952      0.004       0.084       0.424\n",
      "carwidth       0.2457      0.092      2.664      0.009       0.063       0.428\n",
      "carlength     -0.0998      0.091     -1.094      0.276      -0.280       0.081\n",
      "==============================================================================\n",
      "Omnibus:                       42.176   Durbin-Watson:                   1.807\n",
      "Prob(Omnibus):                  0.000   Jarque-Bera (JB):              123.428\n",
      "Skew:                           1.116   Prob(JB):                     1.58e-27\n",
      "Kurtosis:                       6.966   Cond. No.                         27.0\n",
      "==============================================================================\n",
      "\n",
      "Warnings:\n",
      "[1] Standard Errors assume that the covariance matrix of the errors is correctly specified.\n"
     ]
    }
   ],
   "source": [
    "X_train_con4=sm.add_constant(X_train[['enginesize','curbweight','horsepower','carwidth','carlength']])\n",
    "lr4=sm.OLS(y_train,X_train_con4).fit()\n",
    "print(lr4.summary())"
   ]
  },
  {
   "cell_type": "markdown",
   "metadata": {},
   "source": [
    "- Since car length has p value >0.05 so we'll not consider that for modal building as it is insignifant in the presence of other variables."
   ]
  },
  {
   "cell_type": "code",
   "execution_count": 78,
   "metadata": {},
   "outputs": [
    {
     "name": "stdout",
     "output_type": "stream",
     "text": [
      "                            OLS Regression Results                            \n",
      "==============================================================================\n",
      "Dep. Variable:                  price   R-squared:                       0.826\n",
      "Model:                            OLS   Adj. R-squared:                  0.820\n",
      "Method:                 Least Squares   F-statistic:                     130.5\n",
      "Date:                Sat, 15 Jun 2019   Prob (F-statistic):           2.58e-50\n",
      "Time:                        21:34:11   Log-Likelihood:                 142.19\n",
      "No. Observations:                 143   AIC:                            -272.4\n",
      "Df Residuals:                     137   BIC:                            -254.6\n",
      "Df Model:                           5                                         \n",
      "Covariance Type:            nonrobust                                         \n",
      "==============================================================================\n",
      "                 coef    std err          t      P>|t|      [0.025      0.975]\n",
      "------------------------------------------------------------------------------\n",
      "const         -0.1611      0.027     -6.017      0.000      -0.214      -0.108\n",
      "enginesize     0.4893      0.115      4.247      0.000       0.261       0.717\n",
      "curbweight     0.2371      0.109      2.183      0.031       0.022       0.452\n",
      "horsepower     0.2903      0.094      3.103      0.002       0.105       0.475\n",
      "carwidth       0.2069      0.086      2.406      0.017       0.037       0.377\n",
      "carheight      0.0080      0.046      0.175      0.861      -0.083       0.099\n",
      "==============================================================================\n",
      "Omnibus:                       35.970   Durbin-Watson:                   1.799\n",
      "Prob(Omnibus):                  0.000   Jarque-Bera (JB):               90.386\n",
      "Skew:                           1.000   Prob(JB):                     2.36e-20\n",
      "Kurtosis:                       6.342   Cond. No.                         25.2\n",
      "==============================================================================\n",
      "\n",
      "Warnings:\n",
      "[1] Standard Errors assume that the covariance matrix of the errors is correctly specified.\n"
     ]
    }
   ],
   "source": [
    "X_train_con5=sm.add_constant(X_train[['enginesize','curbweight','horsepower','carwidth','carheight']])\n",
    "lr5=sm.OLS(y_train,X_train_con5).fit()\n",
    "print(lr5.summary())"
   ]
  },
  {
   "cell_type": "code",
   "execution_count": 79,
   "metadata": {},
   "outputs": [
    {
     "name": "stdout",
     "output_type": "stream",
     "text": [
      "                            OLS Regression Results                            \n",
      "==============================================================================\n",
      "Dep. Variable:                  price   R-squared:                       0.826\n",
      "Model:                            OLS   Adj. R-squared:                  0.820\n",
      "Method:                 Least Squares   F-statistic:                     130.5\n",
      "Date:                Sat, 15 Jun 2019   Prob (F-statistic):           2.59e-50\n",
      "Time:                        21:34:11   Log-Likelihood:                 142.18\n",
      "No. Observations:                 143   AIC:                            -272.4\n",
      "Df Residuals:                     137   BIC:                            -254.6\n",
      "Df Model:                           5                                         \n",
      "Covariance Type:            nonrobust                                         \n",
      "==============================================================================\n",
      "                 coef    std err          t      P>|t|      [0.025      0.975]\n",
      "------------------------------------------------------------------------------\n",
      "const         -0.1583      0.021     -7.477      0.000      -0.200      -0.116\n",
      "enginesize     0.4870      0.114      4.273      0.000       0.262       0.712\n",
      "curbweight     0.2359      0.118      2.000      0.048       0.003       0.469\n",
      "horsepower     0.2903      0.099      2.945      0.004       0.095       0.485\n",
      "carwidth       0.2013      0.097      2.075      0.040       0.009       0.393\n",
      "wheelbase      0.0120      0.083      0.144      0.886      -0.153       0.177\n",
      "==============================================================================\n",
      "Omnibus:                       36.334   Durbin-Watson:                   1.802\n",
      "Prob(Omnibus):                  0.000   Jarque-Bera (JB):               92.059\n",
      "Skew:                           1.007   Prob(JB):                     1.02e-20\n",
      "Kurtosis:                       6.376   Cond. No.                         25.1\n",
      "==============================================================================\n",
      "\n",
      "Warnings:\n",
      "[1] Standard Errors assume that the covariance matrix of the errors is correctly specified.\n"
     ]
    }
   ],
   "source": [
    "X_train_con6=sm.add_constant(X_train[['enginesize','curbweight','horsepower','carwidth','wheelbase']])\n",
    "lr6=sm.OLS(y_train,X_train_con6).fit()\n",
    "print(lr6.summary())"
   ]
  },
  {
   "cell_type": "code",
   "execution_count": 80,
   "metadata": {},
   "outputs": [
    {
     "name": "stdout",
     "output_type": "stream",
     "text": [
      "                            OLS Regression Results                            \n",
      "==============================================================================\n",
      "Dep. Variable:                  price   R-squared:                       0.827\n",
      "Model:                            OLS   Adj. R-squared:                  0.821\n",
      "Method:                 Least Squares   F-statistic:                     131.3\n",
      "Date:                Sat, 15 Jun 2019   Prob (F-statistic):           1.88e-50\n",
      "Time:                        21:34:11   Log-Likelihood:                 142.52\n",
      "No. Observations:                 143   AIC:                            -273.0\n",
      "Df Residuals:                     137   BIC:                            -255.3\n",
      "Df Model:                           5                                         \n",
      "Covariance Type:            nonrobust                                         \n",
      "==============================================================================\n",
      "                 coef    std err          t      P>|t|      [0.025      0.975]\n",
      "------------------------------------------------------------------------------\n",
      "const         -0.1494      0.024     -6.300      0.000      -0.196      -0.103\n",
      "enginesize     0.4831      0.114      4.252      0.000       0.258       0.708\n",
      "curbweight     0.2633      0.100      2.626      0.010       0.065       0.462\n",
      "horsepower     0.2882      0.082      3.501      0.001       0.125       0.451\n",
      "carwidth       0.2136      0.086      2.486      0.014       0.044       0.384\n",
      "boreratio     -0.0390      0.048     -0.816      0.416      -0.133       0.055\n",
      "==============================================================================\n",
      "Omnibus:                       39.189   Durbin-Watson:                   1.801\n",
      "Prob(Omnibus):                  0.000   Jarque-Bera (JB):              107.479\n",
      "Skew:                           1.057   Prob(JB):                     4.58e-24\n",
      "Kurtosis:                       6.684   Cond. No.                         24.5\n",
      "==============================================================================\n",
      "\n",
      "Warnings:\n",
      "[1] Standard Errors assume that the covariance matrix of the errors is correctly specified.\n"
     ]
    }
   ],
   "source": [
    "X_train_con7=sm.add_constant(X_train[['enginesize','curbweight','horsepower','carwidth','boreratio']])\n",
    "lr7=sm.OLS(y_train,X_train_con7).fit()\n",
    "print(lr7.summary())"
   ]
  },
  {
   "cell_type": "code",
   "execution_count": 81,
   "metadata": {},
   "outputs": [
    {
     "name": "stdout",
     "output_type": "stream",
     "text": [
      "                            OLS Regression Results                            \n",
      "==============================================================================\n",
      "Dep. Variable:                  price   R-squared:                       0.828\n",
      "Model:                            OLS   Adj. R-squared:                  0.822\n",
      "Method:                 Least Squares   F-statistic:                     132.1\n",
      "Date:                Sat, 15 Jun 2019   Prob (F-statistic):           1.31e-50\n",
      "Time:                        21:34:11   Log-Likelihood:                 142.90\n",
      "No. Observations:                 143   AIC:                            -273.8\n",
      "Df Residuals:                     137   BIC:                            -256.0\n",
      "Df Model:                           5                                         \n",
      "Covariance Type:            nonrobust                                         \n",
      "==============================================================================\n",
      "                 coef    std err          t      P>|t|      [0.025      0.975]\n",
      "------------------------------------------------------------------------------\n",
      "const         -0.1896      0.034     -5.603      0.000      -0.256      -0.123\n",
      "enginesize     0.5015      0.114      4.399      0.000       0.276       0.727\n",
      "curbweight     0.2656      0.099      2.682      0.008       0.070       0.462\n",
      "horsepower     0.2408      0.089      2.704      0.008       0.065       0.417\n",
      "carwidth       0.2181      0.086      2.541      0.012       0.048       0.388\n",
      "symboling      0.0430      0.036      1.184      0.238      -0.029       0.115\n",
      "==============================================================================\n",
      "Omnibus:                       37.354   Durbin-Watson:                   1.813\n",
      "Prob(Omnibus):                  0.000   Jarque-Bera (JB):              103.999\n",
      "Skew:                           0.997   Prob(JB):                     2.61e-23\n",
      "Kurtosis:                       6.671   Cond. No.                         24.8\n",
      "==============================================================================\n",
      "\n",
      "Warnings:\n",
      "[1] Standard Errors assume that the covariance matrix of the errors is correctly specified.\n"
     ]
    }
   ],
   "source": [
    "X_train_con8=sm.add_constant(X_train[['enginesize','curbweight','horsepower','carwidth','symboling']])\n",
    "lr8=sm.OLS(y_train,X_train_con8).fit()\n",
    "print(lr8.summary())"
   ]
  },
  {
   "cell_type": "code",
   "execution_count": 82,
   "metadata": {},
   "outputs": [
    {
     "name": "stdout",
     "output_type": "stream",
     "text": [
      "                            OLS Regression Results                            \n",
      "==============================================================================\n",
      "Dep. Variable:                  price   R-squared:                       0.828\n",
      "Model:                            OLS   Adj. R-squared:                  0.822\n",
      "Method:                 Least Squares   F-statistic:                     132.3\n",
      "Date:                Sat, 15 Jun 2019   Prob (F-statistic):           1.23e-50\n",
      "Time:                        21:34:11   Log-Likelihood:                 142.96\n",
      "No. Observations:                 143   AIC:                            -273.9\n",
      "Df Residuals:                     137   BIC:                            -256.2\n",
      "Df Model:                           5                                         \n",
      "Covariance Type:            nonrobust                                         \n",
      "==============================================================================\n",
      "                 coef    std err          t      P>|t|      [0.025      0.975]\n",
      "------------------------------------------------------------------------------\n",
      "const         -0.1305      0.031     -4.242      0.000      -0.191      -0.070\n",
      "enginesize     0.5096      0.115      4.440      0.000       0.283       0.737\n",
      "curbweight     0.2402      0.098      2.461      0.015       0.047       0.433\n",
      "horsepower     0.2660      0.083      3.211      0.002       0.102       0.430\n",
      "carwidth       0.2207      0.086      2.566      0.011       0.051       0.391\n",
      "stroke        -0.0626      0.051     -1.237      0.218      -0.163       0.037\n",
      "==============================================================================\n",
      "Omnibus:                       36.740   Durbin-Watson:                   1.842\n",
      "Prob(Omnibus):                  0.000   Jarque-Bera (JB):               94.247\n",
      "Skew:                           1.014   Prob(JB):                     3.42e-21\n",
      "Kurtosis:                       6.422   Cond. No.                         24.9\n",
      "==============================================================================\n",
      "\n",
      "Warnings:\n",
      "[1] Standard Errors assume that the covariance matrix of the errors is correctly specified.\n"
     ]
    }
   ],
   "source": [
    "X_train_con9=sm.add_constant(X_train[['enginesize','curbweight','horsepower','carwidth','stroke']])\n",
    "lr9=sm.OLS(y_train,X_train_con9).fit()\n",
    "print(lr9.summary())"
   ]
  },
  {
   "cell_type": "code",
   "execution_count": 83,
   "metadata": {},
   "outputs": [
    {
     "name": "stdout",
     "output_type": "stream",
     "text": [
      "                            OLS Regression Results                            \n",
      "==============================================================================\n",
      "Dep. Variable:                  price   R-squared:                       0.830\n",
      "Model:                            OLS   Adj. R-squared:                  0.823\n",
      "Method:                 Least Squares   F-statistic:                     133.5\n",
      "Date:                Sat, 15 Jun 2019   Prob (F-statistic):           7.29e-51\n",
      "Time:                        21:34:11   Log-Likelihood:                 143.51\n",
      "No. Observations:                 143   AIC:                            -275.0\n",
      "Df Residuals:                     137   BIC:                            -257.2\n",
      "Df Model:                           5                                         \n",
      "Covariance Type:            nonrobust                                         \n",
      "====================================================================================\n",
      "                       coef    std err          t      P>|t|      [0.025      0.975]\n",
      "------------------------------------------------------------------------------------\n",
      "const               -0.1594      0.021     -7.597      0.000      -0.201      -0.118\n",
      "enginesize           0.4674      0.113      4.123      0.000       0.243       0.692\n",
      "curbweight           0.2147      0.099      2.169      0.032       0.019       0.410\n",
      "horsepower           0.3545      0.093      3.815      0.000       0.171       0.538\n",
      "carwidth             0.1862      0.086      2.163      0.032       0.016       0.356\n",
      "compressionratio     0.0617      0.038      1.611      0.110      -0.014       0.138\n",
      "==============================================================================\n",
      "Omnibus:                       36.478   Durbin-Watson:                   1.738\n",
      "Prob(Omnibus):                  0.000   Jarque-Bera (JB):               96.630\n",
      "Skew:                           0.992   Prob(JB):                     1.04e-21\n",
      "Kurtosis:                       6.504   Cond. No.                         22.9\n",
      "==============================================================================\n",
      "\n",
      "Warnings:\n",
      "[1] Standard Errors assume that the covariance matrix of the errors is correctly specified.\n"
     ]
    }
   ],
   "source": [
    "X_train_con10=sm.add_constant(X_train[['enginesize','curbweight','horsepower','carwidth','compressionratio']])\n",
    "lr10=sm.OLS(y_train,X_train_con10).fit()\n",
    "print(lr10.summary())"
   ]
  },
  {
   "cell_type": "code",
   "execution_count": 84,
   "metadata": {},
   "outputs": [
    {
     "name": "stdout",
     "output_type": "stream",
     "text": [
      "                            OLS Regression Results                            \n",
      "==============================================================================\n",
      "Dep. Variable:                  price   R-squared:                       0.830\n",
      "Model:                            OLS   Adj. R-squared:                  0.823\n",
      "Method:                 Least Squares   F-statistic:                     133.3\n",
      "Date:                Sat, 15 Jun 2019   Prob (F-statistic):           7.85e-51\n",
      "Time:                        21:34:11   Log-Likelihood:                 143.43\n",
      "No. Observations:                 143   AIC:                            -274.9\n",
      "Df Residuals:                     137   BIC:                            -257.1\n",
      "Df Model:                           5                                         \n",
      "Covariance Type:            nonrobust                                         \n",
      "==============================================================================\n",
      "                 coef    std err          t      P>|t|      [0.025      0.975]\n",
      "------------------------------------------------------------------------------\n",
      "const         -0.1976      0.033     -6.025      0.000      -0.262      -0.133\n",
      "enginesize     0.5649      0.124      4.572      0.000       0.321       0.809\n",
      "curbweight     0.2852      0.100      2.838      0.005       0.086       0.484\n",
      "horsepower     0.1819      0.104      1.751      0.082      -0.023       0.387\n",
      "carwidth       0.1961      0.085      2.296      0.023       0.027       0.365\n",
      "peakrpm        0.0810      0.052      1.563      0.120      -0.021       0.183\n",
      "==============================================================================\n",
      "Omnibus:                       34.324   Durbin-Watson:                   1.815\n",
      "Prob(Omnibus):                  0.000   Jarque-Bera (JB):               83.339\n",
      "Skew:                           0.966   Prob(JB):                     8.00e-19\n",
      "Kurtosis:                       6.203   Cond. No.                         25.7\n",
      "==============================================================================\n",
      "\n",
      "Warnings:\n",
      "[1] Standard Errors assume that the covariance matrix of the errors is correctly specified.\n"
     ]
    }
   ],
   "source": [
    "X_train_con11=sm.add_constant(X_train[['enginesize','curbweight','horsepower','carwidth','peakrpm']])\n",
    "lr11=sm.OLS(y_train,X_train_con11).fit()\n",
    "print(lr11.summary())"
   ]
  },
  {
   "cell_type": "code",
   "execution_count": 85,
   "metadata": {},
   "outputs": [
    {
     "name": "stdout",
     "output_type": "stream",
     "text": [
      "                            OLS Regression Results                            \n",
      "==============================================================================\n",
      "Dep. Variable:                  price   R-squared:                       0.827\n",
      "Model:                            OLS   Adj. R-squared:                  0.820\n",
      "Method:                 Least Squares   F-statistic:                     130.7\n",
      "Date:                Sat, 15 Jun 2019   Prob (F-statistic):           2.40e-50\n",
      "Time:                        21:34:11   Log-Likelihood:                 142.26\n",
      "No. Observations:                 143   AIC:                            -272.5\n",
      "Df Residuals:                     137   BIC:                            -254.8\n",
      "Df Model:                           5                                         \n",
      "Covariance Type:            nonrobust                                         \n",
      "==============================================================================\n",
      "                 coef    std err          t      P>|t|      [0.025      0.975]\n",
      "------------------------------------------------------------------------------\n",
      "const         -0.1779      0.051     -3.499      0.001      -0.278      -0.077\n",
      "enginesize     0.4660      0.123      3.779      0.000       0.222       0.710\n",
      "curbweight     0.2655      0.109      2.439      0.016       0.050       0.481\n",
      "horsepower     0.3083      0.102      3.015      0.003       0.106       0.510\n",
      "carwidth       0.2060      0.086      2.399      0.018       0.036       0.376\n",
      "citympg        0.0326      0.077      0.425      0.672      -0.119       0.185\n",
      "==============================================================================\n",
      "Omnibus:                       36.675   Durbin-Watson:                   1.788\n",
      "Prob(Omnibus):                  0.000   Jarque-Bera (JB):               93.717\n",
      "Skew:                           1.013   Prob(JB):                     4.46e-21\n",
      "Kurtosis:                       6.409   Cond. No.                         28.4\n",
      "==============================================================================\n",
      "\n",
      "Warnings:\n",
      "[1] Standard Errors assume that the covariance matrix of the errors is correctly specified.\n"
     ]
    }
   ],
   "source": [
    "X_train_con12=sm.add_constant(X_train[['enginesize','curbweight','horsepower','carwidth','citympg']])\n",
    "lr12=sm.OLS(y_train,X_train_con12).fit()\n",
    "print(lr12.summary())"
   ]
  },
  {
   "cell_type": "code",
   "execution_count": 86,
   "metadata": {},
   "outputs": [
    {
     "name": "stdout",
     "output_type": "stream",
     "text": [
      "                            OLS Regression Results                            \n",
      "==============================================================================\n",
      "Dep. Variable:                  price   R-squared:                       0.827\n",
      "Model:                            OLS   Adj. R-squared:                  0.820\n",
      "Method:                 Least Squares   F-statistic:                     130.7\n",
      "Date:                Sat, 15 Jun 2019   Prob (F-statistic):           2.40e-50\n",
      "Time:                        21:34:11   Log-Likelihood:                 142.26\n",
      "No. Observations:                 143   AIC:                            -272.5\n",
      "Df Residuals:                     137   BIC:                            -254.7\n",
      "Df Model:                           5                                         \n",
      "Covariance Type:            nonrobust                                         \n",
      "==============================================================================\n",
      "                 coef    std err          t      P>|t|      [0.025      0.975]\n",
      "------------------------------------------------------------------------------\n",
      "const         -0.1789      0.053     -3.346      0.001      -0.285      -0.073\n",
      "enginesize     0.4681      0.122      3.848      0.000       0.228       0.709\n",
      "curbweight     0.2684      0.112      2.390      0.018       0.046       0.490\n",
      "horsepower     0.3025      0.095      3.184      0.002       0.115       0.490\n",
      "carwidth       0.2060      0.086      2.397      0.018       0.036       0.376\n",
      "highwaympg     0.0318      0.076      0.420      0.675      -0.118       0.181\n",
      "==============================================================================\n",
      "Omnibus:                       36.337   Durbin-Watson:                   1.786\n",
      "Prob(Omnibus):                  0.000   Jarque-Bera (JB):               92.199\n",
      "Skew:                           1.006   Prob(JB):                     9.53e-21\n",
      "Kurtosis:                       6.380   Cond. No.                         28.1\n",
      "==============================================================================\n",
      "\n",
      "Warnings:\n",
      "[1] Standard Errors assume that the covariance matrix of the errors is correctly specified.\n"
     ]
    }
   ],
   "source": [
    "X_train_con13=sm.add_constant(X_train[['enginesize','curbweight','horsepower','carwidth','highwaympg']])\n",
    "lr13=sm.OLS(y_train,X_train_con13).fit()\n",
    "print(lr13.summary())"
   ]
  },
  {
   "cell_type": "code",
   "execution_count": 87,
   "metadata": {},
   "outputs": [
    {
     "name": "stdout",
     "output_type": "stream",
     "text": [
      "                            OLS Regression Results                            \n",
      "==============================================================================\n",
      "Dep. Variable:                  price   R-squared:                       0.827\n",
      "Model:                            OLS   Adj. R-squared:                  0.820\n",
      "Method:                 Least Squares   F-statistic:                     130.6\n",
      "Date:                Sat, 15 Jun 2019   Prob (F-statistic):           2.46e-50\n",
      "Time:                        21:34:11   Log-Likelihood:                 142.24\n",
      "No. Observations:                 143   AIC:                            -272.5\n",
      "Df Residuals:                     137   BIC:                            -254.7\n",
      "Df Model:                           5                                         \n",
      "Covariance Type:            nonrobust                                         \n",
      "==================================================================================\n",
      "                     coef    std err          t      P>|t|      [0.025      0.975]\n",
      "----------------------------------------------------------------------------------\n",
      "const             -0.1523      0.027     -5.676      0.000      -0.205      -0.099\n",
      "enginesize         0.5312      0.170      3.123      0.002       0.195       0.868\n",
      "curbweight         0.2300      0.107      2.149      0.033       0.018       0.442\n",
      "horsepower         0.2875      0.083      3.447      0.001       0.123       0.452\n",
      "carwidth           0.2093      0.086      2.436      0.016       0.039       0.379\n",
      "cylindernumber    -0.0513      0.144     -0.356      0.722      -0.336       0.233\n",
      "==============================================================================\n",
      "Omnibus:                       34.886   Durbin-Watson:                   1.790\n",
      "Prob(Omnibus):                  0.000   Jarque-Bera (JB):               85.547\n",
      "Skew:                           0.978   Prob(JB):                     2.65e-19\n",
      "Kurtosis:                       6.245   Cond. No.                         36.2\n",
      "==============================================================================\n",
      "\n",
      "Warnings:\n",
      "[1] Standard Errors assume that the covariance matrix of the errors is correctly specified.\n"
     ]
    }
   ],
   "source": [
    "X_train_con14=sm.add_constant(X_train[['enginesize','curbweight','horsepower','carwidth','cylindernumber']])\n",
    "lr14=sm.OLS(y_train,X_train_con14).fit()\n",
    "print(lr14.summary())"
   ]
  },
  {
   "cell_type": "markdown",
   "metadata": {},
   "source": [
    "- Finally we choose `enginesize`,`curbweight`,`horsepower`,`carwidth` from numerical variables and we add other dummy coded categorical variables to perform RFE."
   ]
  },
  {
   "cell_type": "code",
   "execution_count": 88,
   "metadata": {},
   "outputs": [],
   "source": [
    "X=X_train[['enginesize','curbweight','horsepower','carwidth', 'fueltype_gas', 'aspiration_turbo', 'doornumber_two', 'carbody_hardtop',\n",
    "       'carbody_hatchback', 'carbody_sedan', 'carbody_wagon', 'drivewheel_fwd',\n",
    "       'drivewheel_rwd', 'enginelocation_rear', 'enginetype_dohcv',\n",
    "       'enginetype_l', 'enginetype_ohc', 'enginetype_ohcf', 'enginetype_ohcv',\n",
    "       'enginetype_rotor', 'fuelsystem_2bbl', 'fuelsystem_4bbl',\n",
    "       'fuelsystem_idi', 'fuelsystem_mfi', 'fuelsystem_mpfi',\n",
    "       'fuelsystem_spdi', 'fuelsystem_spfi', 'company_audi', 'company_bmw',\n",
    "       'company_buick', 'company_chevrolet', 'company_dodge', 'company_honda',\n",
    "       'company_isuzu', 'company_jaguar', 'company_mazda', 'company_mercury',\n",
    "       'company_mitsubishi', 'company_nissan', 'company_peugeot',\n",
    "       'company_plymouth', 'company_porsche', 'company_renault',\n",
    "       'company_saab', 'company_subaru', 'company_toyota',\n",
    "       'company_volkswagen', 'company_volvo']]"
   ]
  },
  {
   "cell_type": "code",
   "execution_count": 89,
   "metadata": {},
   "outputs": [],
   "source": [
    "from sklearn.linear_model import LinearRegression\n",
    "from sklearn.feature_selection import RFE\n",
    "from statsmodels.stats.outliers_influence import variance_inflation_factor"
   ]
  },
  {
   "cell_type": "code",
   "execution_count": 90,
   "metadata": {},
   "outputs": [],
   "source": [
    "def knowvif(X_train_new):\n",
    "    Vif=pd.DataFrame()\n",
    "    Vif['factors']=X_train_new.columns\n",
    "    Vif['vif']=[variance_inflation_factor(X_train_new.values,i) for i in range(X_train_new.shape[1])]\n",
    "    Vif['vif']=round(Vif['vif'],2)\n",
    "    return Vif.sort_values(by='vif',ascending=False)"
   ]
  },
  {
   "cell_type": "markdown",
   "metadata": {},
   "source": [
    "- The above function return VIF for the dataset we send.VIF helps to determine the influence of that variable if VIF >10 we definately remove that variable if VIF>5 and VIF<10 than it is worth inspecting else we can accept the variable for modal prediction."
   ]
  },
  {
   "cell_type": "markdown",
   "metadata": {},
   "source": [
    "- <b>The process of VIF and p value checking will continue untill all the variables are in acceptable region.</b>"
   ]
  },
  {
   "cell_type": "code",
   "execution_count": 91,
   "metadata": {},
   "outputs": [],
   "source": [
    "lm=LinearRegression()"
   ]
  },
  {
   "cell_type": "code",
   "execution_count": 92,
   "metadata": {},
   "outputs": [],
   "source": [
    "lm.fit(X,y_train)\n",
    "rfe=RFE(lm,15)\n",
    "rfe=rfe.fit(X,y_train)"
   ]
  },
  {
   "cell_type": "markdown",
   "metadata": {},
   "source": [
    "- We choose top 15 features."
   ]
  },
  {
   "cell_type": "code",
   "execution_count": 93,
   "metadata": {},
   "outputs": [],
   "source": [
    "cols=X.columns[rfe.support_]"
   ]
  },
  {
   "cell_type": "code",
   "execution_count": 94,
   "metadata": {},
   "outputs": [],
   "source": [
    "X=X[cols]"
   ]
  },
  {
   "cell_type": "code",
   "execution_count": 95,
   "metadata": {},
   "outputs": [
    {
     "name": "stdout",
     "output_type": "stream",
     "text": [
      "                            OLS Regression Results                            \n",
      "==============================================================================\n",
      "Dep. Variable:                  price   R-squared:                       0.936\n",
      "Model:                            OLS   Adj. R-squared:                  0.929\n",
      "Method:                 Least Squares   F-statistic:                     132.8\n",
      "Date:                Sat, 15 Jun 2019   Prob (F-statistic):           5.31e-69\n",
      "Time:                        21:34:13   Log-Likelihood:                 213.02\n",
      "No. Observations:                 143   AIC:                            -396.0\n",
      "Df Residuals:                     128   BIC:                            -351.6\n",
      "Df Model:                          14                                         \n",
      "Covariance Type:            nonrobust                                         \n",
      "=======================================================================================\n",
      "                          coef    std err          t      P>|t|      [0.025      0.975]\n",
      "---------------------------------------------------------------------------------------\n",
      "const                  -0.1233      0.019     -6.481      0.000      -0.161      -0.086\n",
      "curbweight              0.3681      0.074      4.996      0.000       0.222       0.514\n",
      "horsepower              0.2233      0.065      3.425      0.001       0.094       0.352\n",
      "carwidth                0.2857      0.063      4.544      0.000       0.161       0.410\n",
      "carbody_hardtop        -0.0177      0.042     -0.426      0.671      -0.100       0.065\n",
      "carbody_hatchback      -0.0223      0.012     -1.865      0.064      -0.046       0.001\n",
      "carbody_wagon          -0.0368      0.017     -2.231      0.027      -0.069      -0.004\n",
      "enginelocation_rear     0.2617      0.057      4.601      0.000       0.149       0.374\n",
      "enginetype_l            0.1466      0.060      2.435      0.016       0.027       0.266\n",
      "enginetype_ohcf         0.1151      0.029      3.991      0.000       0.058       0.172\n",
      "company_bmw             0.2774      0.026     10.521      0.000       0.225       0.330\n",
      "company_buick           0.1950      0.034      5.676      0.000       0.127       0.263\n",
      "company_jaguar          0.2001      0.041      4.868      0.000       0.119       0.281\n",
      "company_peugeot        -0.2127      0.068     -3.112      0.002      -0.348      -0.077\n",
      "company_porsche         0.1220      0.048      2.539      0.012       0.027       0.217\n",
      "company_subaru         -0.1466      0.031     -4.722      0.000      -0.208      -0.085\n",
      "==============================================================================\n",
      "Omnibus:                       33.647   Durbin-Watson:                   1.932\n",
      "Prob(Omnibus):                  0.000   Jarque-Bera (JB):               92.357\n",
      "Skew:                           0.895   Prob(JB):                     8.81e-21\n",
      "Kurtosis:                       6.507   Cond. No.                     3.61e+16\n",
      "==============================================================================\n",
      "\n",
      "Warnings:\n",
      "[1] Standard Errors assume that the covariance matrix of the errors is correctly specified.\n",
      "[2] The smallest eigenvalue is 1.78e-31. This might indicate that there are\n",
      "strong multicollinearity problems or that the design matrix is singular.\n"
     ]
    }
   ],
   "source": [
    "X_train_conrf=sm.add_constant(X)\n",
    "lr_rf=sm.OLS(y_train,X_train_conrf).fit()\n",
    "print(lr_rf.summary())"
   ]
  },
  {
   "cell_type": "code",
   "execution_count": 96,
   "metadata": {},
   "outputs": [
    {
     "name": "stdout",
     "output_type": "stream",
     "text": [
      "                            OLS Regression Results                            \n",
      "==============================================================================\n",
      "Dep. Variable:                  price   R-squared:                       0.935\n",
      "Model:                            OLS   Adj. R-squared:                  0.929\n",
      "Method:                 Least Squares   F-statistic:                     143.9\n",
      "Date:                Sat, 15 Jun 2019   Prob (F-statistic):           4.74e-70\n",
      "Time:                        21:34:13   Log-Likelihood:                 212.92\n",
      "No. Observations:                 143   AIC:                            -397.8\n",
      "Df Residuals:                     129   BIC:                            -356.4\n",
      "Df Model:                          13                                         \n",
      "Covariance Type:            nonrobust                                         \n",
      "=======================================================================================\n",
      "                          coef    std err          t      P>|t|      [0.025      0.975]\n",
      "---------------------------------------------------------------------------------------\n",
      "const                  -0.1245      0.019     -6.634      0.000      -0.162      -0.087\n",
      "curbweight              0.3674      0.073      5.004      0.000       0.222       0.513\n",
      "horsepower              0.2225      0.065      3.425      0.001       0.094       0.351\n",
      "carwidth                0.2878      0.062      4.607      0.000       0.164       0.411\n",
      "carbody_hatchback      -0.0216      0.012     -1.830      0.070      -0.045       0.002\n",
      "carbody_wagon          -0.0363      0.016     -2.211      0.029      -0.069      -0.004\n",
      "enginelocation_rear     0.2508      0.051      4.956      0.000       0.151       0.351\n",
      "enginetype_l            0.1471      0.060      2.451      0.016       0.028       0.266\n",
      "enginetype_ohcf         0.1098      0.026      4.232      0.000       0.058       0.161\n",
      "company_bmw             0.2781      0.026     10.605      0.000       0.226       0.330\n",
      "company_buick           0.1950      0.034      5.695      0.000       0.127       0.263\n",
      "company_jaguar          0.2008      0.041      4.903      0.000       0.120       0.282\n",
      "company_peugeot        -0.2130      0.068     -3.126      0.002      -0.348      -0.078\n",
      "company_porsche         0.1217      0.048      2.541      0.012       0.027       0.217\n",
      "company_subaru         -0.1409      0.028     -5.036      0.000      -0.196      -0.086\n",
      "==============================================================================\n",
      "Omnibus:                       33.716   Durbin-Watson:                   1.920\n",
      "Prob(Omnibus):                  0.000   Jarque-Bera (JB):               92.395\n",
      "Skew:                           0.898   Prob(JB):                     8.65e-21\n",
      "Kurtosis:                       6.505   Cond. No.                     4.33e+16\n",
      "==============================================================================\n",
      "\n",
      "Warnings:\n",
      "[1] Standard Errors assume that the covariance matrix of the errors is correctly specified.\n",
      "[2] The smallest eigenvalue is 1.24e-31. This might indicate that there are\n",
      "strong multicollinearity problems or that the design matrix is singular.\n"
     ]
    }
   ],
   "source": [
    "X.drop('carbody_hardtop',axis=1,inplace=True)\n",
    "X_train_conrf=sm.add_constant(X)\n",
    "lr_rf=sm.OLS(y_train,X_train_conrf).fit()\n",
    "print(lr_rf.summary())"
   ]
  },
  {
   "cell_type": "code",
   "execution_count": 97,
   "metadata": {},
   "outputs": [
    {
     "name": "stdout",
     "output_type": "stream",
     "text": [
      "                            OLS Regression Results                            \n",
      "==============================================================================\n",
      "Dep. Variable:                  price   R-squared:                       0.934\n",
      "Model:                            OLS   Adj. R-squared:                  0.928\n",
      "Method:                 Least Squares   F-statistic:                     152.8\n",
      "Date:                Sat, 15 Jun 2019   Prob (F-statistic):           1.94e-70\n",
      "Time:                        21:34:13   Log-Likelihood:                 211.09\n",
      "No. Observations:                 143   AIC:                            -396.2\n",
      "Df Residuals:                     130   BIC:                            -357.7\n",
      "Df Model:                          12                                         \n",
      "Covariance Type:            nonrobust                                         \n",
      "=======================================================================================\n",
      "                          coef    std err          t      P>|t|      [0.025      0.975]\n",
      "---------------------------------------------------------------------------------------\n",
      "const                  -0.1397      0.017     -8.221      0.000      -0.173      -0.106\n",
      "curbweight              0.3897      0.073      5.333      0.000       0.245       0.534\n",
      "horsepower              0.1938      0.064      3.046      0.003       0.068       0.320\n",
      "carwidth                0.2961      0.063      4.709      0.000       0.172       0.420\n",
      "carbody_wagon          -0.0305      0.016     -1.877      0.063      -0.063       0.002\n",
      "enginelocation_rear     0.2677      0.050      5.333      0.000       0.168       0.367\n",
      "enginetype_l            0.1406      0.060      2.326      0.022       0.021       0.260\n",
      "enginetype_ohcf         0.1199      0.026      4.689      0.000       0.069       0.171\n",
      "company_bmw             0.2868      0.026     11.025      0.000       0.235       0.338\n",
      "company_buick           0.1932      0.035      5.594      0.000       0.125       0.261\n",
      "company_jaguar          0.2061      0.041      5.001      0.000       0.125       0.288\n",
      "company_peugeot        -0.2078      0.069     -3.025      0.003      -0.344      -0.072\n",
      "company_porsche         0.1147      0.048      2.381      0.019       0.019       0.210\n",
      "company_subaru         -0.1477      0.028     -5.278      0.000      -0.203      -0.092\n",
      "==============================================================================\n",
      "Omnibus:                       35.926   Durbin-Watson:                   1.917\n",
      "Prob(Omnibus):                  0.000   Jarque-Bera (JB):               90.497\n",
      "Skew:                           0.997   Prob(JB):                     2.23e-20\n",
      "Kurtosis:                       6.348   Cond. No.                     7.67e+16\n",
      "==============================================================================\n",
      "\n",
      "Warnings:\n",
      "[1] Standard Errors assume that the covariance matrix of the errors is correctly specified.\n",
      "[2] The smallest eigenvalue is 3.66e-32. This might indicate that there are\n",
      "strong multicollinearity problems or that the design matrix is singular.\n"
     ]
    }
   ],
   "source": [
    "X.drop('carbody_hatchback',axis=1,inplace=True)\n",
    "X_train_conrf=sm.add_constant(X)\n",
    "lr_rf=sm.OLS(y_train,X_train_conrf).fit()\n",
    "print(lr_rf.summary())"
   ]
  },
  {
   "cell_type": "code",
   "execution_count": 98,
   "metadata": {},
   "outputs": [
    {
     "name": "stdout",
     "output_type": "stream",
     "text": [
      "                            OLS Regression Results                            \n",
      "==============================================================================\n",
      "Dep. Variable:                  price   R-squared:                       0.932\n",
      "Model:                            OLS   Adj. R-squared:                  0.926\n",
      "Method:                 Least Squares   F-statistic:                     163.3\n",
      "Date:                Sat, 15 Jun 2019   Prob (F-statistic):           8.32e-71\n",
      "Time:                        21:34:13   Log-Likelihood:                 209.18\n",
      "No. Observations:                 143   AIC:                            -394.4\n",
      "Df Residuals:                     131   BIC:                            -358.8\n",
      "Df Model:                          11                                         \n",
      "Covariance Type:            nonrobust                                         \n",
      "=======================================================================================\n",
      "                          coef    std err          t      P>|t|      [0.025      0.975]\n",
      "---------------------------------------------------------------------------------------\n",
      "const                  -0.1421      0.017     -8.308      0.000      -0.176      -0.108\n",
      "curbweight              0.3361      0.068      4.950      0.000       0.202       0.470\n",
      "horsepower              0.2205      0.063      3.523      0.001       0.097       0.344\n",
      "carwidth                0.3266      0.061      5.325      0.000       0.205       0.448\n",
      "enginelocation_rear     0.2755      0.050      5.455      0.000       0.176       0.375\n",
      "enginetype_l            0.1430      0.061      2.344      0.021       0.022       0.264\n",
      "enginetype_ohcf         0.1200      0.026      4.645      0.000       0.069       0.171\n",
      "company_bmw             0.2938      0.026     11.302      0.000       0.242       0.345\n",
      "company_buick           0.1986      0.035      5.718      0.000       0.130       0.267\n",
      "company_jaguar          0.2194      0.041      5.354      0.000       0.138       0.300\n",
      "company_peugeot        -0.2094      0.069     -3.020      0.003      -0.347      -0.072\n",
      "company_porsche         0.1060      0.048      2.190      0.030       0.010       0.202\n",
      "company_subaru         -0.1555      0.028     -5.564      0.000      -0.211      -0.100\n",
      "==============================================================================\n",
      "Omnibus:                       37.641   Durbin-Watson:                   1.911\n",
      "Prob(Omnibus):                  0.000   Jarque-Bera (JB):               94.481\n",
      "Skew:                           1.050   Prob(JB):                     3.05e-21\n",
      "Kurtosis:                       6.384   Cond. No.                     3.90e+16\n",
      "==============================================================================\n",
      "\n",
      "Warnings:\n",
      "[1] Standard Errors assume that the covariance matrix of the errors is correctly specified.\n",
      "[2] The smallest eigenvalue is 1.4e-31. This might indicate that there are\n",
      "strong multicollinearity problems or that the design matrix is singular.\n"
     ]
    }
   ],
   "source": [
    "X.drop('carbody_wagon',axis=1,inplace=True)\n",
    "X_train_conrf=sm.add_constant(X)\n",
    "lr_rf=sm.OLS(y_train,X_train_conrf).fit()\n",
    "print(lr_rf.summary())"
   ]
  },
  {
   "cell_type": "markdown",
   "metadata": {},
   "source": [
    "- Since all the variables in the above modal have p value in acceptance region,now we check for VIF to evaluate variables."
   ]
  },
  {
   "cell_type": "code",
   "execution_count": 99,
   "metadata": {},
   "outputs": [
    {
     "data": {
      "text/html": [
       "<div>\n",
       "<style scoped>\n",
       "    .dataframe tbody tr th:only-of-type {\n",
       "        vertical-align: middle;\n",
       "    }\n",
       "\n",
       "    .dataframe tbody tr th {\n",
       "        vertical-align: top;\n",
       "    }\n",
       "\n",
       "    .dataframe thead th {\n",
       "        text-align: right;\n",
       "    }\n",
       "</style>\n",
       "<table border=\"1\" class=\"dataframe\">\n",
       "  <thead>\n",
       "    <tr style=\"text-align: right;\">\n",
       "      <th></th>\n",
       "      <th>factors</th>\n",
       "      <th>vif</th>\n",
       "    </tr>\n",
       "  </thead>\n",
       "  <tbody>\n",
       "    <tr>\n",
       "      <th>3</th>\n",
       "      <td>enginelocation_rear</td>\n",
       "      <td>inf</td>\n",
       "    </tr>\n",
       "    <tr>\n",
       "      <th>5</th>\n",
       "      <td>enginetype_ohcf</td>\n",
       "      <td>inf</td>\n",
       "    </tr>\n",
       "    <tr>\n",
       "      <th>11</th>\n",
       "      <td>company_subaru</td>\n",
       "      <td>inf</td>\n",
       "    </tr>\n",
       "    <tr>\n",
       "      <th>0</th>\n",
       "      <td>curbweight</td>\n",
       "      <td>40.000000</td>\n",
       "    </tr>\n",
       "    <tr>\n",
       "      <th>2</th>\n",
       "      <td>carwidth</td>\n",
       "      <td>24.500000</td>\n",
       "    </tr>\n",
       "    <tr>\n",
       "      <th>1</th>\n",
       "      <td>horsepower</td>\n",
       "      <td>12.140000</td>\n",
       "    </tr>\n",
       "    <tr>\n",
       "      <th>9</th>\n",
       "      <td>company_peugeot</td>\n",
       "      <td>9.530000</td>\n",
       "    </tr>\n",
       "    <tr>\n",
       "      <th>4</th>\n",
       "      <td>enginetype_l</td>\n",
       "      <td>9.000000</td>\n",
       "    </tr>\n",
       "    <tr>\n",
       "      <th>10</th>\n",
       "      <td>company_porsche</td>\n",
       "      <td>1.990000</td>\n",
       "    </tr>\n",
       "    <tr>\n",
       "      <th>8</th>\n",
       "      <td>company_jaguar</td>\n",
       "      <td>1.370000</td>\n",
       "    </tr>\n",
       "    <tr>\n",
       "      <th>7</th>\n",
       "      <td>company_buick</td>\n",
       "      <td>1.350000</td>\n",
       "    </tr>\n",
       "    <tr>\n",
       "      <th>6</th>\n",
       "      <td>company_bmw</td>\n",
       "      <td>1.180000</td>\n",
       "    </tr>\n",
       "  </tbody>\n",
       "</table>\n",
       "</div>"
      ],
      "text/plain": [
       "                factors        vif\n",
       "3   enginelocation_rear        inf\n",
       "5       enginetype_ohcf        inf\n",
       "11       company_subaru        inf\n",
       "0            curbweight  40.000000\n",
       "2              carwidth  24.500000\n",
       "1            horsepower  12.140000\n",
       "9       company_peugeot   9.530000\n",
       "4          enginetype_l   9.000000\n",
       "10      company_porsche   1.990000\n",
       "8        company_jaguar   1.370000\n",
       "7         company_buick   1.350000\n",
       "6           company_bmw   1.180000"
      ]
     },
     "execution_count": 99,
     "metadata": {},
     "output_type": "execute_result"
    }
   ],
   "source": [
    "knowvif(X_train_conrf.drop('const',axis=1))"
   ]
  },
  {
   "cell_type": "code",
   "execution_count": 100,
   "metadata": {},
   "outputs": [
    {
     "name": "stdout",
     "output_type": "stream",
     "text": [
      "                            OLS Regression Results                            \n",
      "==============================================================================\n",
      "Dep. Variable:                  price   R-squared:                       0.932\n",
      "Model:                            OLS   Adj. R-squared:                  0.926\n",
      "Method:                 Least Squares   F-statistic:                     163.3\n",
      "Date:                Sat, 15 Jun 2019   Prob (F-statistic):           8.32e-71\n",
      "Time:                        21:34:13   Log-Likelihood:                 209.18\n",
      "No. Observations:                 143   AIC:                            -394.4\n",
      "Df Residuals:                     131   BIC:                            -358.8\n",
      "Df Model:                          11                                         \n",
      "Covariance Type:            nonrobust                                         \n",
      "===================================================================================\n",
      "                      coef    std err          t      P>|t|      [0.025      0.975]\n",
      "-----------------------------------------------------------------------------------\n",
      "const              -0.1421      0.017     -8.308      0.000      -0.176      -0.108\n",
      "curbweight          0.3361      0.068      4.950      0.000       0.202       0.470\n",
      "horsepower          0.2205      0.063      3.523      0.001       0.097       0.344\n",
      "carwidth            0.3266      0.061      5.325      0.000       0.205       0.448\n",
      "enginetype_l        0.1430      0.061      2.344      0.021       0.022       0.264\n",
      "enginetype_ohcf     0.3954      0.075      5.259      0.000       0.247       0.544\n",
      "company_bmw         0.2938      0.026     11.302      0.000       0.242       0.345\n",
      "company_buick       0.1986      0.035      5.718      0.000       0.130       0.267\n",
      "company_jaguar      0.2194      0.041      5.354      0.000       0.138       0.300\n",
      "company_peugeot    -0.2094      0.069     -3.020      0.003      -0.347      -0.072\n",
      "company_porsche     0.1060      0.048      2.190      0.030       0.010       0.202\n",
      "company_subaru     -0.4309      0.077     -5.566      0.000      -0.584      -0.278\n",
      "==============================================================================\n",
      "Omnibus:                       37.641   Durbin-Watson:                   1.911\n",
      "Prob(Omnibus):                  0.000   Jarque-Bera (JB):               94.481\n",
      "Skew:                           1.050   Prob(JB):                     3.05e-21\n",
      "Kurtosis:                       6.384   Cond. No.                         28.6\n",
      "==============================================================================\n",
      "\n",
      "Warnings:\n",
      "[1] Standard Errors assume that the covariance matrix of the errors is correctly specified.\n"
     ]
    }
   ],
   "source": [
    "X.drop('enginelocation_rear',axis=1,inplace=True)\n",
    "X_train_conrf=sm.add_constant(X)\n",
    "lr_rf=sm.OLS(y_train,X_train_conrf).fit()\n",
    "print(lr_rf.summary())"
   ]
  },
  {
   "cell_type": "code",
   "execution_count": 101,
   "metadata": {},
   "outputs": [
    {
     "data": {
      "text/html": [
       "<div>\n",
       "<style scoped>\n",
       "    .dataframe tbody tr th:only-of-type {\n",
       "        vertical-align: middle;\n",
       "    }\n",
       "\n",
       "    .dataframe tbody tr th {\n",
       "        vertical-align: top;\n",
       "    }\n",
       "\n",
       "    .dataframe thead th {\n",
       "        text-align: right;\n",
       "    }\n",
       "</style>\n",
       "<table border=\"1\" class=\"dataframe\">\n",
       "  <thead>\n",
       "    <tr style=\"text-align: right;\">\n",
       "      <th></th>\n",
       "      <th>factors</th>\n",
       "      <th>vif</th>\n",
       "    </tr>\n",
       "  </thead>\n",
       "  <tbody>\n",
       "    <tr>\n",
       "      <th>0</th>\n",
       "      <td>curbweight</td>\n",
       "      <td>40.00</td>\n",
       "    </tr>\n",
       "    <tr>\n",
       "      <th>2</th>\n",
       "      <td>carwidth</td>\n",
       "      <td>24.50</td>\n",
       "    </tr>\n",
       "    <tr>\n",
       "      <th>4</th>\n",
       "      <td>enginetype_ohcf</td>\n",
       "      <td>18.80</td>\n",
       "    </tr>\n",
       "    <tr>\n",
       "      <th>10</th>\n",
       "      <td>company_subaru</td>\n",
       "      <td>18.57</td>\n",
       "    </tr>\n",
       "    <tr>\n",
       "      <th>1</th>\n",
       "      <td>horsepower</td>\n",
       "      <td>12.14</td>\n",
       "    </tr>\n",
       "    <tr>\n",
       "      <th>8</th>\n",
       "      <td>company_peugeot</td>\n",
       "      <td>9.53</td>\n",
       "    </tr>\n",
       "    <tr>\n",
       "      <th>3</th>\n",
       "      <td>enginetype_l</td>\n",
       "      <td>9.00</td>\n",
       "    </tr>\n",
       "    <tr>\n",
       "      <th>9</th>\n",
       "      <td>company_porsche</td>\n",
       "      <td>1.99</td>\n",
       "    </tr>\n",
       "    <tr>\n",
       "      <th>7</th>\n",
       "      <td>company_jaguar</td>\n",
       "      <td>1.37</td>\n",
       "    </tr>\n",
       "    <tr>\n",
       "      <th>6</th>\n",
       "      <td>company_buick</td>\n",
       "      <td>1.35</td>\n",
       "    </tr>\n",
       "    <tr>\n",
       "      <th>5</th>\n",
       "      <td>company_bmw</td>\n",
       "      <td>1.18</td>\n",
       "    </tr>\n",
       "  </tbody>\n",
       "</table>\n",
       "</div>"
      ],
      "text/plain": [
       "            factors    vif\n",
       "0        curbweight  40.00\n",
       "2          carwidth  24.50\n",
       "4   enginetype_ohcf  18.80\n",
       "10   company_subaru  18.57\n",
       "1        horsepower  12.14\n",
       "8   company_peugeot   9.53\n",
       "3      enginetype_l   9.00\n",
       "9   company_porsche   1.99\n",
       "7    company_jaguar   1.37\n",
       "6     company_buick   1.35\n",
       "5       company_bmw   1.18"
      ]
     },
     "execution_count": 101,
     "metadata": {},
     "output_type": "execute_result"
    }
   ],
   "source": [
    "knowvif(X_train_conrf.drop('const',axis=1))"
   ]
  },
  {
   "cell_type": "code",
   "execution_count": 102,
   "metadata": {},
   "outputs": [
    {
     "name": "stdout",
     "output_type": "stream",
     "text": [
      "                            OLS Regression Results                            \n",
      "==============================================================================\n",
      "Dep. Variable:                  price   R-squared:                       0.919\n",
      "Model:                            OLS   Adj. R-squared:                  0.913\n",
      "Method:                 Least Squares   F-statistic:                     150.4\n",
      "Date:                Sat, 15 Jun 2019   Prob (F-statistic):           4.69e-67\n",
      "Time:                        21:34:13   Log-Likelihood:                 196.92\n",
      "No. Observations:                 143   AIC:                            -371.8\n",
      "Df Residuals:                     132   BIC:                            -339.2\n",
      "Df Model:                          10                                         \n",
      "Covariance Type:            nonrobust                                         \n",
      "===================================================================================\n",
      "                      coef    std err          t      P>|t|      [0.025      0.975]\n",
      "-----------------------------------------------------------------------------------\n",
      "const              -0.1325      0.018     -7.186      0.000      -0.169      -0.096\n",
      "horsepower          0.3951      0.056      7.040      0.000       0.284       0.506\n",
      "carwidth            0.5025      0.054      9.262      0.000       0.395       0.610\n",
      "enginetype_l        0.1334      0.066      2.017      0.046       0.003       0.264\n",
      "enginetype_ohcf     0.4381      0.081      5.404      0.000       0.278       0.598\n",
      "company_bmw         0.3182      0.028     11.486      0.000       0.263       0.373\n",
      "company_buick       0.2572      0.035      7.253      0.000       0.187       0.327\n",
      "company_jaguar      0.2857      0.042      6.797      0.000       0.203       0.369\n",
      "company_peugeot    -0.1395      0.074     -1.894      0.060      -0.285       0.006\n",
      "company_porsche     0.0345      0.050      0.688      0.492      -0.065       0.134\n",
      "company_subaru     -0.4727      0.084     -5.659      0.000      -0.638      -0.307\n",
      "==============================================================================\n",
      "Omnibus:                       40.645   Durbin-Watson:                   2.051\n",
      "Prob(Omnibus):                  0.000   Jarque-Bera (JB):               93.171\n",
      "Skew:                           1.182   Prob(JB):                     5.86e-21\n",
      "Kurtosis:                       6.170   Cond. No.                         26.4\n",
      "==============================================================================\n",
      "\n",
      "Warnings:\n",
      "[1] Standard Errors assume that the covariance matrix of the errors is correctly specified.\n"
     ]
    }
   ],
   "source": [
    "X.drop('curbweight',axis=1,inplace=True)\n",
    "X_train_conrf=sm.add_constant(X)\n",
    "lr_rf=sm.OLS(y_train,X_train_conrf).fit()\n",
    "print(lr_rf.summary())"
   ]
  },
  {
   "cell_type": "code",
   "execution_count": 103,
   "metadata": {},
   "outputs": [
    {
     "data": {
      "text/html": [
       "<div>\n",
       "<style scoped>\n",
       "    .dataframe tbody tr th:only-of-type {\n",
       "        vertical-align: middle;\n",
       "    }\n",
       "\n",
       "    .dataframe tbody tr th {\n",
       "        vertical-align: top;\n",
       "    }\n",
       "\n",
       "    .dataframe thead th {\n",
       "        text-align: right;\n",
       "    }\n",
       "</style>\n",
       "<table border=\"1\" class=\"dataframe\">\n",
       "  <thead>\n",
       "    <tr style=\"text-align: right;\">\n",
       "      <th></th>\n",
       "      <th>factors</th>\n",
       "      <th>vif</th>\n",
       "    </tr>\n",
       "  </thead>\n",
       "  <tbody>\n",
       "    <tr>\n",
       "      <th>3</th>\n",
       "      <td>enginetype_ohcf</td>\n",
       "      <td>18.41</td>\n",
       "    </tr>\n",
       "    <tr>\n",
       "      <th>9</th>\n",
       "      <td>company_subaru</td>\n",
       "      <td>18.24</td>\n",
       "    </tr>\n",
       "    <tr>\n",
       "      <th>7</th>\n",
       "      <td>company_peugeot</td>\n",
       "      <td>9.24</td>\n",
       "    </tr>\n",
       "    <tr>\n",
       "      <th>2</th>\n",
       "      <td>enginetype_l</td>\n",
       "      <td>9.00</td>\n",
       "    </tr>\n",
       "    <tr>\n",
       "      <th>0</th>\n",
       "      <td>horsepower</td>\n",
       "      <td>8.39</td>\n",
       "    </tr>\n",
       "    <tr>\n",
       "      <th>1</th>\n",
       "      <td>carwidth</td>\n",
       "      <td>8.03</td>\n",
       "    </tr>\n",
       "    <tr>\n",
       "      <th>8</th>\n",
       "      <td>company_porsche</td>\n",
       "      <td>1.79</td>\n",
       "    </tr>\n",
       "    <tr>\n",
       "      <th>6</th>\n",
       "      <td>company_jaguar</td>\n",
       "      <td>1.24</td>\n",
       "    </tr>\n",
       "    <tr>\n",
       "      <th>5</th>\n",
       "      <td>company_buick</td>\n",
       "      <td>1.20</td>\n",
       "    </tr>\n",
       "    <tr>\n",
       "      <th>4</th>\n",
       "      <td>company_bmw</td>\n",
       "      <td>1.14</td>\n",
       "    </tr>\n",
       "  </tbody>\n",
       "</table>\n",
       "</div>"
      ],
      "text/plain": [
       "           factors    vif\n",
       "3  enginetype_ohcf  18.41\n",
       "9   company_subaru  18.24\n",
       "7  company_peugeot   9.24\n",
       "2     enginetype_l   9.00\n",
       "0       horsepower   8.39\n",
       "1         carwidth   8.03\n",
       "8  company_porsche   1.79\n",
       "6   company_jaguar   1.24\n",
       "5    company_buick   1.20\n",
       "4      company_bmw   1.14"
      ]
     },
     "execution_count": 103,
     "metadata": {},
     "output_type": "execute_result"
    }
   ],
   "source": [
    "knowvif(X_train_conrf.drop('const',axis=1))"
   ]
  },
  {
   "cell_type": "code",
   "execution_count": 104,
   "metadata": {},
   "outputs": [
    {
     "name": "stdout",
     "output_type": "stream",
     "text": [
      "                            OLS Regression Results                            \n",
      "==============================================================================\n",
      "Dep. Variable:                  price   R-squared:                       0.919\n",
      "Model:                            OLS   Adj. R-squared:                  0.914\n",
      "Method:                 Least Squares   F-statistic:                     167.7\n",
      "Date:                Sat, 15 Jun 2019   Prob (F-statistic):           4.44e-68\n",
      "Time:                        21:34:13   Log-Likelihood:                 196.66\n",
      "No. Observations:                 143   AIC:                            -373.3\n",
      "Df Residuals:                     133   BIC:                            -343.7\n",
      "Df Model:                           9                                         \n",
      "Covariance Type:            nonrobust                                         \n",
      "===================================================================================\n",
      "                      coef    std err          t      P>|t|      [0.025      0.975]\n",
      "-----------------------------------------------------------------------------------\n",
      "const              -0.1352      0.018     -7.515      0.000      -0.171      -0.100\n",
      "horsepower          0.4052      0.054      7.497      0.000       0.298       0.512\n",
      "carwidth            0.5054      0.054      9.363      0.000       0.399       0.612\n",
      "enginetype_l        0.1361      0.066      2.065      0.041       0.006       0.267\n",
      "enginetype_ohcf     0.4675      0.069      6.794      0.000       0.331       0.604\n",
      "company_bmw         0.3155      0.027     11.526      0.000       0.261       0.370\n",
      "company_buick       0.2536      0.035      7.245      0.000       0.184       0.323\n",
      "company_jaguar      0.2794      0.041      6.824      0.000       0.198       0.360\n",
      "company_peugeot    -0.1438      0.073     -1.962      0.052      -0.289       0.001\n",
      "company_subaru     -0.5022      0.072     -7.017      0.000      -0.644      -0.361\n",
      "==============================================================================\n",
      "Omnibus:                       39.591   Durbin-Watson:                   2.050\n",
      "Prob(Omnibus):                  0.000   Jarque-Bera (JB):               87.306\n",
      "Skew:                           1.169   Prob(JB):                     1.10e-19\n",
      "Kurtosis:                       6.031   Cond. No.                         23.2\n",
      "==============================================================================\n",
      "\n",
      "Warnings:\n",
      "[1] Standard Errors assume that the covariance matrix of the errors is correctly specified.\n"
     ]
    }
   ],
   "source": [
    "X.drop('company_porsche',axis=1,inplace=True)\n",
    "X_train_conrf=sm.add_constant(X)\n",
    "lr_rf=sm.OLS(y_train,X_train_conrf).fit()\n",
    "print(lr_rf.summary())"
   ]
  },
  {
   "cell_type": "code",
   "execution_count": 105,
   "metadata": {},
   "outputs": [
    {
     "data": {
      "text/html": [
       "<div>\n",
       "<style scoped>\n",
       "    .dataframe tbody tr th:only-of-type {\n",
       "        vertical-align: middle;\n",
       "    }\n",
       "\n",
       "    .dataframe tbody tr th {\n",
       "        vertical-align: top;\n",
       "    }\n",
       "\n",
       "    .dataframe thead th {\n",
       "        text-align: right;\n",
       "    }\n",
       "</style>\n",
       "<table border=\"1\" class=\"dataframe\">\n",
       "  <thead>\n",
       "    <tr style=\"text-align: right;\">\n",
       "      <th></th>\n",
       "      <th>factors</th>\n",
       "      <th>vif</th>\n",
       "    </tr>\n",
       "  </thead>\n",
       "  <tbody>\n",
       "    <tr>\n",
       "      <th>8</th>\n",
       "      <td>company_subaru</td>\n",
       "      <td>13.84</td>\n",
       "    </tr>\n",
       "    <tr>\n",
       "      <th>3</th>\n",
       "      <td>enginetype_ohcf</td>\n",
       "      <td>13.79</td>\n",
       "    </tr>\n",
       "    <tr>\n",
       "      <th>7</th>\n",
       "      <td>company_peugeot</td>\n",
       "      <td>9.24</td>\n",
       "    </tr>\n",
       "    <tr>\n",
       "      <th>2</th>\n",
       "      <td>enginetype_l</td>\n",
       "      <td>9.00</td>\n",
       "    </tr>\n",
       "    <tr>\n",
       "      <th>1</th>\n",
       "      <td>carwidth</td>\n",
       "      <td>7.77</td>\n",
       "    </tr>\n",
       "    <tr>\n",
       "      <th>0</th>\n",
       "      <td>horsepower</td>\n",
       "      <td>7.51</td>\n",
       "    </tr>\n",
       "    <tr>\n",
       "      <th>5</th>\n",
       "      <td>company_buick</td>\n",
       "      <td>1.20</td>\n",
       "    </tr>\n",
       "    <tr>\n",
       "      <th>6</th>\n",
       "      <td>company_jaguar</td>\n",
       "      <td>1.20</td>\n",
       "    </tr>\n",
       "    <tr>\n",
       "      <th>4</th>\n",
       "      <td>company_bmw</td>\n",
       "      <td>1.12</td>\n",
       "    </tr>\n",
       "  </tbody>\n",
       "</table>\n",
       "</div>"
      ],
      "text/plain": [
       "           factors    vif\n",
       "8   company_subaru  13.84\n",
       "3  enginetype_ohcf  13.79\n",
       "7  company_peugeot   9.24\n",
       "2     enginetype_l   9.00\n",
       "1         carwidth   7.77\n",
       "0       horsepower   7.51\n",
       "5    company_buick   1.20\n",
       "6   company_jaguar   1.20\n",
       "4      company_bmw   1.12"
      ]
     },
     "execution_count": 105,
     "metadata": {},
     "output_type": "execute_result"
    }
   ],
   "source": [
    "knowvif(X_train_conrf.drop('const',axis=1))"
   ]
  },
  {
   "cell_type": "code",
   "execution_count": 106,
   "metadata": {},
   "outputs": [
    {
     "name": "stdout",
     "output_type": "stream",
     "text": [
      "                            OLS Regression Results                            \n",
      "==============================================================================\n",
      "Dep. Variable:                  price   R-squared:                       0.889\n",
      "Model:                            OLS   Adj. R-squared:                  0.882\n",
      "Method:                 Least Squares   F-statistic:                     134.2\n",
      "Date:                Sat, 15 Jun 2019   Prob (F-statistic):           4.12e-60\n",
      "Time:                        21:34:13   Log-Likelihood:                 174.14\n",
      "No. Observations:                 143   AIC:                            -330.3\n",
      "Df Residuals:                     134   BIC:                            -303.6\n",
      "Df Model:                           8                                         \n",
      "Covariance Type:            nonrobust                                         \n",
      "===================================================================================\n",
      "                      coef    std err          t      P>|t|      [0.025      0.975]\n",
      "-----------------------------------------------------------------------------------\n",
      "const              -0.1212      0.021     -5.811      0.000      -0.162      -0.080\n",
      "horsepower          0.5489      0.058      9.407      0.000       0.433       0.664\n",
      "carwidth            0.4028      0.061      6.647      0.000       0.283       0.523\n",
      "enginetype_l        0.1221      0.077      1.589      0.114      -0.030       0.274\n",
      "enginetype_ohcf     0.0041      0.023      0.184      0.855      -0.040       0.049\n",
      "company_bmw         0.3022      0.032      9.490      0.000       0.239       0.365\n",
      "company_buick       0.2776      0.041      6.836      0.000       0.197       0.358\n",
      "company_jaguar      0.2540      0.048      5.340      0.000       0.160       0.348\n",
      "company_peugeot    -0.1065      0.085     -1.250      0.214      -0.275       0.062\n",
      "==============================================================================\n",
      "Omnibus:                       74.886   Durbin-Watson:                   2.126\n",
      "Prob(Omnibus):                  0.000   Jarque-Bera (JB):              356.250\n",
      "Skew:                           1.876   Prob(JB):                     4.38e-78\n",
      "Kurtosis:                       9.761   Cond. No.                         21.5\n",
      "==============================================================================\n",
      "\n",
      "Warnings:\n",
      "[1] Standard Errors assume that the covariance matrix of the errors is correctly specified.\n"
     ]
    }
   ],
   "source": [
    "X.drop('company_subaru',axis=1,inplace=True)\n",
    "X_train_conrf=sm.add_constant(X)\n",
    "lr_rf=sm.OLS(y_train,X_train_conrf).fit()\n",
    "print(lr_rf.summary())"
   ]
  },
  {
   "cell_type": "code",
   "execution_count": 107,
   "metadata": {},
   "outputs": [
    {
     "name": "stdout",
     "output_type": "stream",
     "text": [
      "                            OLS Regression Results                            \n",
      "==============================================================================\n",
      "Dep. Variable:                  price   R-squared:                       0.889\n",
      "Model:                            OLS   Adj. R-squared:                  0.883\n",
      "Method:                 Least Squares   F-statistic:                     154.5\n",
      "Date:                Sat, 15 Jun 2019   Prob (F-statistic):           3.25e-61\n",
      "Time:                        21:34:13   Log-Likelihood:                 174.13\n",
      "No. Observations:                 143   AIC:                            -332.3\n",
      "Df Residuals:                     135   BIC:                            -308.5\n",
      "Df Model:                           7                                         \n",
      "Covariance Type:            nonrobust                                         \n",
      "===================================================================================\n",
      "                      coef    std err          t      P>|t|      [0.025      0.975]\n",
      "-----------------------------------------------------------------------------------\n",
      "const              -0.1205      0.020     -5.889      0.000      -0.161      -0.080\n",
      "horsepower          0.5494      0.058      9.464      0.000       0.435       0.664\n",
      "carwidth            0.4019      0.060      6.677      0.000       0.283       0.521\n",
      "enginetype_l        0.1214      0.076      1.588      0.115      -0.030       0.273\n",
      "company_bmw         0.3018      0.032      9.535      0.000       0.239       0.364\n",
      "company_buick       0.2775      0.040      6.858      0.000       0.198       0.358\n",
      "company_jaguar      0.2537      0.047      5.356      0.000       0.160       0.347\n",
      "company_peugeot    -0.1061      0.085     -1.249      0.214      -0.274       0.062\n",
      "==============================================================================\n",
      "Omnibus:                       76.265   Durbin-Watson:                   2.129\n",
      "Prob(Omnibus):                  0.000   Jarque-Bera (JB):              375.864\n",
      "Skew:                           1.902   Prob(JB):                     2.41e-82\n",
      "Kurtosis:                       9.972   Cond. No.                         21.4\n",
      "==============================================================================\n",
      "\n",
      "Warnings:\n",
      "[1] Standard Errors assume that the covariance matrix of the errors is correctly specified.\n"
     ]
    }
   ],
   "source": [
    "X.drop('enginetype_ohcf',axis=1,inplace=True)\n",
    "X_train_conrf=sm.add_constant(X)\n",
    "lr_rf=sm.OLS(y_train,X_train_conrf).fit()\n",
    "print(lr_rf.summary())"
   ]
  },
  {
   "cell_type": "code",
   "execution_count": 108,
   "metadata": {},
   "outputs": [
    {
     "name": "stdout",
     "output_type": "stream",
     "text": [
      "                            OLS Regression Results                            \n",
      "==============================================================================\n",
      "Dep. Variable:                  price   R-squared:                       0.888\n",
      "Model:                            OLS   Adj. R-squared:                  0.883\n",
      "Method:                 Least Squares   F-statistic:                     179.2\n",
      "Date:                Sat, 15 Jun 2019   Prob (F-statistic):           5.03e-62\n",
      "Time:                        21:34:13   Log-Likelihood:                 173.30\n",
      "No. Observations:                 143   AIC:                            -332.6\n",
      "Df Residuals:                     136   BIC:                            -311.9\n",
      "Df Model:                           6                                         \n",
      "Covariance Type:            nonrobust                                         \n",
      "==================================================================================\n",
      "                     coef    std err          t      P>|t|      [0.025      0.975]\n",
      "----------------------------------------------------------------------------------\n",
      "const             -0.1112      0.019     -5.821      0.000      -0.149      -0.073\n",
      "horsepower         0.5620      0.057      9.811      0.000       0.449       0.675\n",
      "carwidth           0.3738      0.056      6.682      0.000       0.263       0.484\n",
      "enginetype_l       0.0322      0.027      1.172      0.243      -0.022       0.087\n",
      "company_bmw        0.3028      0.032      9.548      0.000       0.240       0.366\n",
      "company_buick      0.2885      0.040      7.288      0.000       0.210       0.367\n",
      "company_jaguar     0.2588      0.047      5.473      0.000       0.165       0.352\n",
      "==============================================================================\n",
      "Omnibus:                       73.179   Durbin-Watson:                   2.131\n",
      "Prob(Omnibus):                  0.000   Jarque-Bera (JB):              331.556\n",
      "Skew:                           1.847   Prob(JB):                     1.01e-72\n",
      "Kurtosis:                       9.481   Cond. No.                         14.1\n",
      "==============================================================================\n",
      "\n",
      "Warnings:\n",
      "[1] Standard Errors assume that the covariance matrix of the errors is correctly specified.\n"
     ]
    }
   ],
   "source": [
    "X.drop('company_peugeot',axis=1,inplace=True)\n",
    "X_train_conrf=sm.add_constant(X)\n",
    "lr_rf=sm.OLS(y_train,X_train_conrf).fit()\n",
    "print(lr_rf.summary())"
   ]
  },
  {
   "cell_type": "code",
   "execution_count": 109,
   "metadata": {},
   "outputs": [
    {
     "name": "stdout",
     "output_type": "stream",
     "text": [
      "                            OLS Regression Results                            \n",
      "==============================================================================\n",
      "Dep. Variable:                  price   R-squared:                       0.887\n",
      "Model:                            OLS   Adj. R-squared:                  0.882\n",
      "Method:                 Least Squares   F-statistic:                     214.2\n",
      "Date:                Sat, 15 Jun 2019   Prob (F-statistic):           6.44e-63\n",
      "Time:                        21:34:13   Log-Likelihood:                 172.58\n",
      "No. Observations:                 143   AIC:                            -333.2\n",
      "Df Residuals:                     137   BIC:                            -315.4\n",
      "Df Model:                           5                                         \n",
      "Covariance Type:            nonrobust                                         \n",
      "==================================================================================\n",
      "                     coef    std err          t      P>|t|      [0.025      0.975]\n",
      "----------------------------------------------------------------------------------\n",
      "const             -0.1160      0.019     -6.202      0.000      -0.153      -0.079\n",
      "horsepower         0.5446      0.055      9.832      0.000       0.435       0.654\n",
      "carwidth           0.3982      0.052      7.658      0.000       0.295       0.501\n",
      "company_bmw        0.3011      0.032      9.493      0.000       0.238       0.364\n",
      "company_buick      0.2781      0.039      7.199      0.000       0.202       0.355\n",
      "company_jaguar     0.2554      0.047      5.404      0.000       0.162       0.349\n",
      "==============================================================================\n",
      "Omnibus:                       74.207   Durbin-Watson:                   2.125\n",
      "Prob(Omnibus):                  0.000   Jarque-Bera (JB):              342.297\n",
      "Skew:                           1.870   Prob(JB):                     4.69e-75\n",
      "Kurtosis:                       9.592   Cond. No.                         13.1\n",
      "==============================================================================\n",
      "\n",
      "Warnings:\n",
      "[1] Standard Errors assume that the covariance matrix of the errors is correctly specified.\n"
     ]
    }
   ],
   "source": [
    "X.drop('enginetype_l',axis=1,inplace=True)\n",
    "X_train_conrf=sm.add_constant(X)\n",
    "lr_rf=sm.OLS(y_train,X_train_conrf).fit()\n",
    "print(lr_rf.summary())"
   ]
  },
  {
   "cell_type": "code",
   "execution_count": 110,
   "metadata": {},
   "outputs": [
    {
     "data": {
      "text/html": [
       "<div>\n",
       "<style scoped>\n",
       "    .dataframe tbody tr th:only-of-type {\n",
       "        vertical-align: middle;\n",
       "    }\n",
       "\n",
       "    .dataframe tbody tr th {\n",
       "        vertical-align: top;\n",
       "    }\n",
       "\n",
       "    .dataframe thead th {\n",
       "        text-align: right;\n",
       "    }\n",
       "</style>\n",
       "<table border=\"1\" class=\"dataframe\">\n",
       "  <thead>\n",
       "    <tr style=\"text-align: right;\">\n",
       "      <th></th>\n",
       "      <th>factors</th>\n",
       "      <th>vif</th>\n",
       "    </tr>\n",
       "  </thead>\n",
       "  <tbody>\n",
       "    <tr>\n",
       "      <th>0</th>\n",
       "      <td>horsepower</td>\n",
       "      <td>6.14</td>\n",
       "    </tr>\n",
       "    <tr>\n",
       "      <th>1</th>\n",
       "      <td>carwidth</td>\n",
       "      <td>5.87</td>\n",
       "    </tr>\n",
       "    <tr>\n",
       "      <th>4</th>\n",
       "      <td>company_jaguar</td>\n",
       "      <td>1.18</td>\n",
       "    </tr>\n",
       "    <tr>\n",
       "      <th>3</th>\n",
       "      <td>company_buick</td>\n",
       "      <td>1.15</td>\n",
       "    </tr>\n",
       "    <tr>\n",
       "      <th>2</th>\n",
       "      <td>company_bmw</td>\n",
       "      <td>1.10</td>\n",
       "    </tr>\n",
       "  </tbody>\n",
       "</table>\n",
       "</div>"
      ],
      "text/plain": [
       "          factors   vif\n",
       "0      horsepower  6.14\n",
       "1        carwidth  5.87\n",
       "4  company_jaguar  1.18\n",
       "3   company_buick  1.15\n",
       "2     company_bmw  1.10"
      ]
     },
     "execution_count": 110,
     "metadata": {},
     "output_type": "execute_result"
    }
   ],
   "source": [
    "knowvif(X_train_conrf.drop('const',axis=1))"
   ]
  },
  {
   "cell_type": "markdown",
   "metadata": {},
   "source": [
    "- Now we see that all the variables have p value within 0.05 and VIF are <10 and horsepower and carwidth have VIF slightly above 5 which is still acceptable."
   ]
  },
  {
   "cell_type": "markdown",
   "metadata": {},
   "source": [
    "- <b>Above are the variables which are significant in predicting the price of a car.</b>\n",
    "- <b>This modal has Adj R square as 88.2%</b>"
   ]
  },
  {
   "cell_type": "code",
   "execution_count": 111,
   "metadata": {},
   "outputs": [],
   "source": [
    "y_train_pred_rf=lr_rf.predict(X_train_conrf)"
   ]
  },
  {
   "cell_type": "markdown",
   "metadata": {},
   "source": [
    "- Now we check the residuals the mean should be zero and it should be normally disributed."
   ]
  },
  {
   "cell_type": "code",
   "execution_count": 112,
   "metadata": {},
   "outputs": [
    {
     "data": {
      "text/plain": [
       "Text(0.5,0,'Errors')"
      ]
     },
     "execution_count": 112,
     "metadata": {},
     "output_type": "execute_result"
    },
    {
     "data": {
      "image/png": "[encoded data removed]",
      "text/plain": [
       "<Figure size 432x288 with 1 Axes>"
      ]
     },
     "metadata": {},
     "output_type": "display_data"
    }
   ],
   "source": [
    "fig = plt.figure()\n",
    "sns.distplot((y_train-y_train_pred_rf),bins=20)\n",
    "fig.suptitle('Error Terms', fontsize = 20)       \n",
    "plt.xlabel('Errors', fontsize = 18) "
   ]
  },
  {
   "cell_type": "markdown",
   "metadata": {},
   "source": [
    "- Their is some skiveness to the end which explain it is not able to explain all the prices."
   ]
  },
  {
   "cell_type": "markdown",
   "metadata": {},
   "source": [
    "- <b>Now we perform the operation on Test dataset.</b>"
   ]
  },
  {
   "cell_type": "code",
   "execution_count": 113,
   "metadata": {},
   "outputs": [
    {
     "data": {
      "text/plain": [
       "Index(['const', 'horsepower', 'carwidth', 'company_bmw', 'company_buick',\n",
       "       'company_jaguar'],\n",
       "      dtype='object')"
      ]
     },
     "execution_count": 113,
     "metadata": {},
     "output_type": "execute_result"
    }
   ],
   "source": [
    "X_train_conrf.columns"
   ]
  },
  {
   "cell_type": "code",
   "execution_count": 114,
   "metadata": {},
   "outputs": [
    {
     "data": {
      "text/plain": [
       "Index(['horsepower', 'carwidth', 'company_bmw', 'company_buick',\n",
       "       'company_jaguar'],\n",
       "      dtype='object')"
      ]
     },
     "execution_count": 114,
     "metadata": {},
     "output_type": "execute_result"
    }
   ],
   "source": [
    "X.columns"
   ]
  },
  {
   "cell_type": "code",
   "execution_count": 115,
   "metadata": {},
   "outputs": [],
   "source": [
    "a=['symboling','wheelbase','carlength','carwidth','carheight','curbweight','cylindernumber','enginesize','boreratio','stroke','compressionratio', 'horsepower',\n",
    "       'peakrpm', 'citympg', 'highwaympg', 'price']"
   ]
  },
  {
   "cell_type": "code",
   "execution_count": 116,
   "metadata": {},
   "outputs": [],
   "source": [
    "df_test[a]=scaler.transform(df_test[a])"
   ]
  },
  {
   "cell_type": "markdown",
   "metadata": {},
   "source": [
    "- We use transform because we want to it to take min and max value from train dataset"
   ]
  },
  {
   "cell_type": "code",
   "execution_count": 117,
   "metadata": {},
   "outputs": [],
   "source": [
    "y_test=df_test.pop('price')\n",
    "X_test=df_test"
   ]
  },
  {
   "cell_type": "code",
   "execution_count": 118,
   "metadata": {},
   "outputs": [],
   "source": [
    "X_test_new=sm.add_constant(X_test[X.columns])"
   ]
  },
  {
   "cell_type": "code",
   "execution_count": 119,
   "metadata": {},
   "outputs": [],
   "source": [
    "y_pred_test=lr_rf.predict(X_test_new)"
   ]
  },
  {
   "cell_type": "code",
   "execution_count": 120,
   "metadata": {},
   "outputs": [
    {
     "data": {
      "text/plain": [
       "Text(0,0.5,'y_pred')"
      ]
     },
     "execution_count": 120,
     "metadata": {},
     "output_type": "execute_result"
    },
    {
     "data": {
      "image/png": "[encoded data removed]",
      "text/plain": [
       "<Figure size 432x288 with 1 Axes>"
      ]
     },
     "metadata": {},
     "output_type": "display_data"
    }
   ],
   "source": [
    "fig = plt.figure()\n",
    "plt.scatter(y_test,y_pred_test)\n",
    "fig.suptitle('y_test vs y_pred Feature elimination through RFE', fontsize=20)              # Plot heading \n",
    "plt.xlabel('y_test', fontsize=18)                          # X-label\n",
    "plt.ylabel('y_pred', fontsize=16) "
   ]
  },
  {
   "cell_type": "markdown",
   "metadata": {},
   "source": [
    "- If we see the above graph we can clearly say that it is not able to explain the distribution towards the end.Due to higher variance."
   ]
  },
  {
   "cell_type": "markdown",
   "metadata": {},
   "source": [
    "- <b>Below is the modal which is done using manual feature elimination using the same rules for p and VIF instead of going for RFE.</b>"
   ]
  },
  {
   "cell_type": "code",
   "execution_count": 121,
   "metadata": {},
   "outputs": [
    {
     "name": "stdout",
     "output_type": "stream",
     "text": [
      "                            OLS Regression Results                            \n",
      "==============================================================================\n",
      "Dep. Variable:                  price   R-squared:                       0.908\n",
      "Model:                            OLS   Adj. R-squared:                  0.901\n",
      "Method:                 Least Squares   F-statistic:                     145.1\n",
      "Date:                Sat, 15 Jun 2019   Prob (F-statistic):           2.85e-64\n",
      "Time:                        21:34:15   Log-Likelihood:                 187.19\n",
      "No. Observations:                 143   AIC:                            -354.4\n",
      "Df Residuals:                     133   BIC:                            -324.8\n",
      "Df Model:                           9                                         \n",
      "Covariance Type:            nonrobust                                         \n",
      "======================================================================================\n",
      "                         coef    std err          t      P>|t|      [0.025      0.975]\n",
      "--------------------------------------------------------------------------------------\n",
      "const                 -0.1056      0.019     -5.451      0.000      -0.144      -0.067\n",
      "enginesize             1.0420      0.044     23.432      0.000       0.954       1.130\n",
      "peakrpm                0.1142      0.033      3.452      0.001       0.049       0.180\n",
      "aspiration_turbo       0.0975      0.016      6.150      0.000       0.066       0.129\n",
      "carbody_hatchback     -0.0364      0.013     -2.792      0.006      -0.062      -0.011\n",
      "enginetype_rotor       0.2288      0.038      6.100      0.000       0.155       0.303\n",
      "company_bmw            0.2448      0.030      8.196      0.000       0.186       0.304\n",
      "company_buick          0.1834      0.035      5.279      0.000       0.115       0.252\n",
      "company_mitsubishi    -0.0912      0.025     -3.668      0.000      -0.140      -0.042\n",
      "company_porsche        0.2422      0.042      5.704      0.000       0.158       0.326\n",
      "==============================================================================\n",
      "Omnibus:                        9.274   Durbin-Watson:                   1.944\n",
      "Prob(Omnibus):                  0.010   Jarque-Bera (JB):               10.949\n",
      "Skew:                           0.435   Prob(JB):                      0.00419\n",
      "Kurtosis:                       4.040   Cond. No.                         11.3\n",
      "==============================================================================\n",
      "\n",
      "Warnings:\n",
      "[1] Standard Errors assume that the covariance matrix of the errors is correctly specified.\n"
     ]
    }
   ],
   "source": [
    "X_train_con15=sm.add_constant(X_train[['enginesize','peakrpm', 'aspiration_turbo',\n",
    "       'carbody_hatchback',\n",
    "       'enginetype_rotor',\n",
    "       'company_bmw',\n",
    "       'company_buick',\n",
    "       'company_mitsubishi',\n",
    "       'company_porsche'\n",
    "       ]])\n",
    "lr15=sm.OLS(y_train,X_train_con15).fit()\n",
    "print(lr15.summary())"
   ]
  },
  {
   "cell_type": "code",
   "execution_count": 122,
   "metadata": {},
   "outputs": [
    {
     "data": {
      "text/html": [
       "<div>\n",
       "<style scoped>\n",
       "    .dataframe tbody tr th:only-of-type {\n",
       "        vertical-align: middle;\n",
       "    }\n",
       "\n",
       "    .dataframe tbody tr th {\n",
       "        vertical-align: top;\n",
       "    }\n",
       "\n",
       "    .dataframe thead th {\n",
       "        text-align: right;\n",
       "    }\n",
       "</style>\n",
       "<table border=\"1\" class=\"dataframe\">\n",
       "  <thead>\n",
       "    <tr style=\"text-align: right;\">\n",
       "      <th></th>\n",
       "      <th>factors</th>\n",
       "      <th>vif</th>\n",
       "    </tr>\n",
       "  </thead>\n",
       "  <tbody>\n",
       "    <tr>\n",
       "      <th>0</th>\n",
       "      <td>enginesize</td>\n",
       "      <td>3.03</td>\n",
       "    </tr>\n",
       "    <tr>\n",
       "      <th>1</th>\n",
       "      <td>peakrpm</td>\n",
       "      <td>3.03</td>\n",
       "    </tr>\n",
       "    <tr>\n",
       "      <th>3</th>\n",
       "      <td>carbody_hatchback</td>\n",
       "      <td>1.71</td>\n",
       "    </tr>\n",
       "    <tr>\n",
       "      <th>2</th>\n",
       "      <td>aspiration_turbo</td>\n",
       "      <td>1.38</td>\n",
       "    </tr>\n",
       "    <tr>\n",
       "      <th>6</th>\n",
       "      <td>company_buick</td>\n",
       "      <td>1.31</td>\n",
       "    </tr>\n",
       "    <tr>\n",
       "      <th>4</th>\n",
       "      <td>enginetype_rotor</td>\n",
       "      <td>1.21</td>\n",
       "    </tr>\n",
       "    <tr>\n",
       "      <th>7</th>\n",
       "      <td>company_mitsubishi</td>\n",
       "      <td>1.21</td>\n",
       "    </tr>\n",
       "    <tr>\n",
       "      <th>5</th>\n",
       "      <td>company_bmw</td>\n",
       "      <td>1.17</td>\n",
       "    </tr>\n",
       "    <tr>\n",
       "      <th>8</th>\n",
       "      <td>company_porsche</td>\n",
       "      <td>1.10</td>\n",
       "    </tr>\n",
       "  </tbody>\n",
       "</table>\n",
       "</div>"
      ],
      "text/plain": [
       "              factors   vif\n",
       "0          enginesize  3.03\n",
       "1             peakrpm  3.03\n",
       "3   carbody_hatchback  1.71\n",
       "2    aspiration_turbo  1.38\n",
       "6       company_buick  1.31\n",
       "4    enginetype_rotor  1.21\n",
       "7  company_mitsubishi  1.21\n",
       "5         company_bmw  1.17\n",
       "8     company_porsche  1.10"
      ]
     },
     "execution_count": 122,
     "metadata": {},
     "output_type": "execute_result"
    }
   ],
   "source": [
    "knowvif(X_train_con15.drop('const',axis=1))"
   ]
  },
  {
   "cell_type": "markdown",
   "metadata": {},
   "source": [
    "- From the above summary we can see that BIC and AIC value are and Adj R square is 90.1% which is better than RFE modal."
   ]
  },
  {
   "cell_type": "code",
   "execution_count": 123,
   "metadata": {},
   "outputs": [],
   "source": [
    "y_train_pred=lr15.predict(X_train_con15)"
   ]
  },
  {
   "cell_type": "code",
   "execution_count": 124,
   "metadata": {},
   "outputs": [
    {
     "data": {
      "text/plain": [
       "<matplotlib.axes._subplots.AxesSubplot at 0x2330d219630>"
      ]
     },
     "execution_count": 124,
     "metadata": {},
     "output_type": "execute_result"
    },
    {
     "data": {
      "image/png": "[encoded data removed]",
      "text/plain": [
       "<Figure size 432x288 with 1 Axes>"
      ]
     },
     "metadata": {},
     "output_type": "display_data"
    }
   ],
   "source": [
    "sns.distplot((y_train-y_train_pred),bins=20)"
   ]
  },
  {
   "cell_type": "markdown",
   "metadata": {},
   "source": [
    "- If we see the above graph even it has skewness but is able to explain most of the data."
   ]
  },
  {
   "cell_type": "code",
   "execution_count": 125,
   "metadata": {},
   "outputs": [],
   "source": [
    "X_test_new_15=sm.add_constant(X_test[['enginesize','peakrpm', 'aspiration_turbo',\n",
    "       'carbody_hatchback',\n",
    "       'enginetype_rotor',\n",
    "       'company_bmw',\n",
    "       'company_buick',\n",
    "       'company_mitsubishi',\n",
    "       'company_porsche'\n",
    "       ]])"
   ]
  },
  {
   "cell_type": "code",
   "execution_count": 126,
   "metadata": {},
   "outputs": [],
   "source": [
    "y_pred_test_15=lr15.predict(X_test_new_15)"
   ]
  },
  {
   "cell_type": "code",
   "execution_count": 127,
   "metadata": {},
   "outputs": [
    {
     "data": {
      "text/plain": [
       "Text(0,0.5,'y_pred')"
      ]
     },
     "execution_count": 127,
     "metadata": {},
     "output_type": "execute_result"
    },
    {
     "data": {
      "image/png": "[encoded data removed]",
      "text/plain": [
       "<Figure size 432x288 with 1 Axes>"
      ]
     },
     "metadata": {},
     "output_type": "display_data"
    }
   ],
   "source": [
    "fig = plt.figure()\n",
    "plt.scatter(y_test,y_pred_test_15)\n",
    "fig.suptitle('y_test vs y_pred Manual Feature elimination', fontsize=20)              # Plot heading \n",
    "plt.xlabel('y_test', fontsize=18)                          # X-label\n",
    "plt.ylabel('y_pred', fontsize=16) "
   ]
  },
  {
   "cell_type": "code",
   "execution_count": 128,
   "metadata": {},
   "outputs": [
    {
     "data": {
      "text/plain": [
       "0.8913777528792604"
      ]
     },
     "execution_count": 128,
     "metadata": {},
     "output_type": "execute_result"
    }
   ],
   "source": [
    "from sklearn.metrics import r2_score\n",
    "r2_score(y_test, y_pred_test_15)"
   ]
  },
  {
   "cell_type": "code",
   "execution_count": 129,
   "metadata": {},
   "outputs": [
    {
     "data": {
      "text/plain": [
       "0.8097860228703553"
      ]
     },
     "execution_count": 129,
     "metadata": {},
     "output_type": "execute_result"
    }
   ],
   "source": [
    "r2_score(y_test, y_pred_test)"
   ]
  },
  {
   "cell_type": "markdown",
   "metadata": {},
   "source": [
    "- <b>R2 score for modal with manual feature elimination has `89.1%` and with RFE R2 score is `80.1%`</b>"
   ]
  },
  {
   "cell_type": "code",
   "execution_count": null,
   "metadata": {},
   "outputs": [],
   "source": []
  }
 ],
 "metadata": {
  "kernelspec": {
   "display_name": "Python 3",
   "language": "python",
   "name": "python3"
  },
  "language_info": {
   "codemirror_mode": {
    "name": "ipython",
    "version": 3
   },
   "file_extension": ".py",
   "mimetype": "text/x-python",
   "name": "python",
   "nbconvert_exporter": "python",
   "pygments_lexer": "ipython3",
   "version": "3.6.5"
  }
 },
 "nbformat": 4,
 "nbformat_minor": 2
}
